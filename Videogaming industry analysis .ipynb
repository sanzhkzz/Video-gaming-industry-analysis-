{
 "cells": [
  {
   "cell_type": "markdown",
   "metadata": {},
   "source": [
    "#### Student : Sanzhar Sailaubek                           \n",
    "\n",
    "#### Teacher : Aidana Zhalgas\n",
    "\n",
    "\n",
    "\n",
    "\n",
    "# Videogaming industry analysis \n",
    "\n",
    "\n",
    "\n",
    "## Introduction\n",
    "\n",
    "Every year, video games are becoming an integral part of our world. Since 1976, the first console games began to appear on the Atari 2600 platform. To this day, games are released on the latest consoles and platforms such as Nintendo Switch, PS5, Xbox.\n",
    "\n",
    "\n",
    "\n",
    "Video games are currently the largest industry, generating billions in revenue for gaming companies. The global gaming market was valued at USD 151.55 billion in 2019 and is expected to reach USD 256.97 billion by 2025, with a CAGR of 9.17% over the forecast period (2020-2025). Also, in the next dataset, you can see which platforms and game genres are in high demand by gamers.\n",
    "\n"
   ]
  },
  {
   "cell_type": "markdown",
   "metadata": {},
   "source": [
    "# **Objectives**\n",
    "\n",
    "\n",
    "\n",
    "\n",
    "Since I was interested in the video game industry since childhood, I decided to choose a dataset related to the history and sale of games. This dataset has 11 columns, where we release statistics on sales of games (in millions of dollars) and platforms that have been released since 1980. \n",
    "\n",
    "\n",
    "\n",
    "\n",
    "In this dataset, three main countries that release games were identified, which are Japan, North America and Europe.     So , Electronic Arts, Ubisoft, KONAMI, etc. are located in these countries.\n",
    "\n",
    "\n",
    "1.I want to show you how history of videogames was formed by its production and what games were actual from 1980 to 2020 . \n",
    "\n",
    "2.What is the distribution of countries' sales and what type of correlation do dataset's columns do have between each other .\n",
    "\n",
    "3.Show what countries' preferences in terms of genre of games in different regions\n",
    "\n",
    "\n",
    "\n",
    "\n",
    "\n",
    "\n",
    "**I hope you enjoy what you saw and you will learn a lot of new things for yourself. !**"
   ]
  },
  {
   "cell_type": "markdown",
   "metadata": {},
   "source": [
    "Rank - Ranking of overall sales\n",
    "\n",
    "Name - The games name\n",
    "\n",
    "Platform - Platform of the games release (i.e. PC,PS4, etc.)\n",
    "\n",
    "Year - Year of the game's release\n",
    "\n",
    "Genre - Genre of the game\n",
    "\n",
    "Publisher - Publisher of the game\n",
    "\n",
    "NA_Sales - Sales in North America (in millions)\n",
    "\n",
    "EU_Sales - Sales in Europe (in millions)\n",
    "\n",
    "JP_Sales - Sales in Japan (in millions)\n",
    "\n",
    "Other_Sales - Sales in the rest of the world (in millions)\n",
    "\n",
    "Global_Sales - Total worldwide sales."
   ]
  },
  {
   "cell_type": "code",
   "execution_count": 132,
   "metadata": {},
   "outputs": [],
   "source": [
    "\n",
    "import numpy as np\n",
    "import pandas as pd\n",
    "from collections import Counter\n",
    "\n",
    "#Visualization\n",
    "import matplotlib.pyplot as plt\n",
    "import matplotlib.style as style\n",
    "from matplotlib.colors import ListedColormap\n",
    "from matplotlib import cm\n",
    "import seaborn as sns\n",
    "%matplotlib inline\n",
    "\n",
    "\n",
    "#Plotly Libraris\n",
    "import plotly.express as px\n",
    "import plotly.graph_objects as go\n",
    "import plotly.figure_factory as ff\n",
    "from plotly.colors import n_colors\n",
    "from plotly.subplots import make_subplots\n",
    "from plotly.offline import init_notebook_mode, iplot\n",
    "from plotly import tools\n",
    "from IPython.display import display, HTML"
   ]
  },
  {
   "cell_type": "code",
   "execution_count": 133,
   "metadata": {},
   "outputs": [
    {
     "data": {
      "text/html": [
       "<div>\n",
       "<style scoped>\n",
       "    .dataframe tbody tr th:only-of-type {\n",
       "        vertical-align: middle;\n",
       "    }\n",
       "\n",
       "    .dataframe tbody tr th {\n",
       "        vertical-align: top;\n",
       "    }\n",
       "\n",
       "    .dataframe thead th {\n",
       "        text-align: right;\n",
       "    }\n",
       "</style>\n",
       "<table border=\"1\" class=\"dataframe\">\n",
       "  <thead>\n",
       "    <tr style=\"text-align: right;\">\n",
       "      <th></th>\n",
       "      <th>Rank</th>\n",
       "      <th>Name</th>\n",
       "      <th>Platform</th>\n",
       "      <th>Year</th>\n",
       "      <th>Genre</th>\n",
       "      <th>Publisher</th>\n",
       "      <th>NA_Sales</th>\n",
       "      <th>EU_Sales</th>\n",
       "      <th>JP_Sales</th>\n",
       "      <th>Other_Sales</th>\n",
       "      <th>Global_Sales</th>\n",
       "    </tr>\n",
       "  </thead>\n",
       "  <tbody>\n",
       "    <tr>\n",
       "      <th>0</th>\n",
       "      <td>1</td>\n",
       "      <td>Wii Sports</td>\n",
       "      <td>Wii</td>\n",
       "      <td>2006.0</td>\n",
       "      <td>Sports</td>\n",
       "      <td>Nintendo</td>\n",
       "      <td>41.49</td>\n",
       "      <td>29.02</td>\n",
       "      <td>3.77</td>\n",
       "      <td>8.46</td>\n",
       "      <td>82.74</td>\n",
       "    </tr>\n",
       "    <tr>\n",
       "      <th>1</th>\n",
       "      <td>2</td>\n",
       "      <td>Super Mario Bros.</td>\n",
       "      <td>NES</td>\n",
       "      <td>1985.0</td>\n",
       "      <td>Platform</td>\n",
       "      <td>Nintendo</td>\n",
       "      <td>29.08</td>\n",
       "      <td>3.58</td>\n",
       "      <td>6.81</td>\n",
       "      <td>0.77</td>\n",
       "      <td>40.24</td>\n",
       "    </tr>\n",
       "    <tr>\n",
       "      <th>2</th>\n",
       "      <td>3</td>\n",
       "      <td>Mario Kart Wii</td>\n",
       "      <td>Wii</td>\n",
       "      <td>2008.0</td>\n",
       "      <td>Racing</td>\n",
       "      <td>Nintendo</td>\n",
       "      <td>15.85</td>\n",
       "      <td>12.88</td>\n",
       "      <td>3.79</td>\n",
       "      <td>3.31</td>\n",
       "      <td>35.82</td>\n",
       "    </tr>\n",
       "    <tr>\n",
       "      <th>3</th>\n",
       "      <td>4</td>\n",
       "      <td>Wii Sports Resort</td>\n",
       "      <td>Wii</td>\n",
       "      <td>2009.0</td>\n",
       "      <td>Sports</td>\n",
       "      <td>Nintendo</td>\n",
       "      <td>15.75</td>\n",
       "      <td>11.01</td>\n",
       "      <td>3.28</td>\n",
       "      <td>2.96</td>\n",
       "      <td>33.00</td>\n",
       "    </tr>\n",
       "    <tr>\n",
       "      <th>4</th>\n",
       "      <td>5</td>\n",
       "      <td>Pokemon Red/Pokemon Blue</td>\n",
       "      <td>GB</td>\n",
       "      <td>1996.0</td>\n",
       "      <td>Role-Playing</td>\n",
       "      <td>Nintendo</td>\n",
       "      <td>11.27</td>\n",
       "      <td>8.89</td>\n",
       "      <td>10.22</td>\n",
       "      <td>1.00</td>\n",
       "      <td>31.37</td>\n",
       "    </tr>\n",
       "  </tbody>\n",
       "</table>\n",
       "</div>"
      ],
      "text/plain": [
       "   Rank                      Name Platform    Year         Genre Publisher  \\\n",
       "0     1                Wii Sports      Wii  2006.0        Sports  Nintendo   \n",
       "1     2         Super Mario Bros.      NES  1985.0      Platform  Nintendo   \n",
       "2     3            Mario Kart Wii      Wii  2008.0        Racing  Nintendo   \n",
       "3     4         Wii Sports Resort      Wii  2009.0        Sports  Nintendo   \n",
       "4     5  Pokemon Red/Pokemon Blue       GB  1996.0  Role-Playing  Nintendo   \n",
       "\n",
       "   NA_Sales  EU_Sales  JP_Sales  Other_Sales  Global_Sales  \n",
       "0     41.49     29.02      3.77         8.46         82.74  \n",
       "1     29.08      3.58      6.81         0.77         40.24  \n",
       "2     15.85     12.88      3.79         3.31         35.82  \n",
       "3     15.75     11.01      3.28         2.96         33.00  \n",
       "4     11.27      8.89     10.22         1.00         31.37  "
      ]
     },
     "execution_count": 133,
     "metadata": {},
     "output_type": "execute_result"
    }
   ],
   "source": [
    "vgdata = pd.read_csv('vgsales.csv')\n",
    "vgdata.head()"
   ]
  },
  {
   "cell_type": "markdown",
   "metadata": {},
   "source": [
    "# DATA DESCRIPTION"
   ]
  },
  {
   "cell_type": "code",
   "execution_count": 5,
   "metadata": {},
   "outputs": [
    {
     "data": {
      "text/html": [
       "<div>\n",
       "<style scoped>\n",
       "    .dataframe tbody tr th:only-of-type {\n",
       "        vertical-align: middle;\n",
       "    }\n",
       "\n",
       "    .dataframe tbody tr th {\n",
       "        vertical-align: top;\n",
       "    }\n",
       "\n",
       "    .dataframe thead th {\n",
       "        text-align: right;\n",
       "    }\n",
       "</style>\n",
       "<table border=\"1\" class=\"dataframe\">\n",
       "  <thead>\n",
       "    <tr style=\"text-align: right;\">\n",
       "      <th></th>\n",
       "      <th>Rank</th>\n",
       "      <th>Year</th>\n",
       "      <th>NA_Sales</th>\n",
       "      <th>EU_Sales</th>\n",
       "      <th>JP_Sales</th>\n",
       "      <th>Other_Sales</th>\n",
       "      <th>Global_Sales</th>\n",
       "    </tr>\n",
       "  </thead>\n",
       "  <tbody>\n",
       "    <tr>\n",
       "      <th>count</th>\n",
       "      <td>16598.000000</td>\n",
       "      <td>16327.000000</td>\n",
       "      <td>16598.000000</td>\n",
       "      <td>16598.000000</td>\n",
       "      <td>16598.000000</td>\n",
       "      <td>16598.000000</td>\n",
       "      <td>16598.000000</td>\n",
       "    </tr>\n",
       "    <tr>\n",
       "      <th>mean</th>\n",
       "      <td>8300.605254</td>\n",
       "      <td>2006.406443</td>\n",
       "      <td>0.264667</td>\n",
       "      <td>0.146652</td>\n",
       "      <td>0.077782</td>\n",
       "      <td>0.048063</td>\n",
       "      <td>0.537441</td>\n",
       "    </tr>\n",
       "    <tr>\n",
       "      <th>std</th>\n",
       "      <td>4791.853933</td>\n",
       "      <td>5.828981</td>\n",
       "      <td>0.816683</td>\n",
       "      <td>0.505351</td>\n",
       "      <td>0.309291</td>\n",
       "      <td>0.188588</td>\n",
       "      <td>1.555028</td>\n",
       "    </tr>\n",
       "    <tr>\n",
       "      <th>min</th>\n",
       "      <td>1.000000</td>\n",
       "      <td>1980.000000</td>\n",
       "      <td>0.000000</td>\n",
       "      <td>0.000000</td>\n",
       "      <td>0.000000</td>\n",
       "      <td>0.000000</td>\n",
       "      <td>0.010000</td>\n",
       "    </tr>\n",
       "    <tr>\n",
       "      <th>25%</th>\n",
       "      <td>4151.250000</td>\n",
       "      <td>2003.000000</td>\n",
       "      <td>0.000000</td>\n",
       "      <td>0.000000</td>\n",
       "      <td>0.000000</td>\n",
       "      <td>0.000000</td>\n",
       "      <td>0.060000</td>\n",
       "    </tr>\n",
       "    <tr>\n",
       "      <th>50%</th>\n",
       "      <td>8300.500000</td>\n",
       "      <td>2007.000000</td>\n",
       "      <td>0.080000</td>\n",
       "      <td>0.020000</td>\n",
       "      <td>0.000000</td>\n",
       "      <td>0.010000</td>\n",
       "      <td>0.170000</td>\n",
       "    </tr>\n",
       "    <tr>\n",
       "      <th>75%</th>\n",
       "      <td>12449.750000</td>\n",
       "      <td>2010.000000</td>\n",
       "      <td>0.240000</td>\n",
       "      <td>0.110000</td>\n",
       "      <td>0.040000</td>\n",
       "      <td>0.040000</td>\n",
       "      <td>0.470000</td>\n",
       "    </tr>\n",
       "    <tr>\n",
       "      <th>max</th>\n",
       "      <td>16600.000000</td>\n",
       "      <td>2020.000000</td>\n",
       "      <td>41.490000</td>\n",
       "      <td>29.020000</td>\n",
       "      <td>10.220000</td>\n",
       "      <td>10.570000</td>\n",
       "      <td>82.740000</td>\n",
       "    </tr>\n",
       "  </tbody>\n",
       "</table>\n",
       "</div>"
      ],
      "text/plain": [
       "               Rank          Year      NA_Sales      EU_Sales      JP_Sales  \\\n",
       "count  16598.000000  16327.000000  16598.000000  16598.000000  16598.000000   \n",
       "mean    8300.605254   2006.406443      0.264667      0.146652      0.077782   \n",
       "std     4791.853933      5.828981      0.816683      0.505351      0.309291   \n",
       "min        1.000000   1980.000000      0.000000      0.000000      0.000000   \n",
       "25%     4151.250000   2003.000000      0.000000      0.000000      0.000000   \n",
       "50%     8300.500000   2007.000000      0.080000      0.020000      0.000000   \n",
       "75%    12449.750000   2010.000000      0.240000      0.110000      0.040000   \n",
       "max    16600.000000   2020.000000     41.490000     29.020000     10.220000   \n",
       "\n",
       "        Other_Sales  Global_Sales  \n",
       "count  16598.000000  16598.000000  \n",
       "mean       0.048063      0.537441  \n",
       "std        0.188588      1.555028  \n",
       "min        0.000000      0.010000  \n",
       "25%        0.000000      0.060000  \n",
       "50%        0.010000      0.170000  \n",
       "75%        0.040000      0.470000  \n",
       "max       10.570000     82.740000  "
      ]
     },
     "execution_count": 5,
     "metadata": {},
     "output_type": "execute_result"
    }
   ],
   "source": [
    "vgdata.describe()"
   ]
  },
  {
   "cell_type": "markdown",
   "metadata": {},
   "source": [
    "general description of dataset's columns "
   ]
  },
  {
   "cell_type": "code",
   "execution_count": 6,
   "metadata": {},
   "outputs": [
    {
     "name": "stdout",
     "output_type": "stream",
     "text": [
      "Database dimension     : (16598, 11)\n",
      "Database size          : 182578\n"
     ]
    }
   ],
   "source": [
    "print(\"Database dimension     :\",vgdata.shape)\n",
    "print(\"Database size          :\",vgdata.size)\n",
    "\n",
    "#columns and rows\n",
    "#size of dataset"
   ]
  },
  {
   "cell_type": "code",
   "execution_count": 7,
   "metadata": {},
   "outputs": [
    {
     "name": "stdout",
     "output_type": "stream",
     "text": [
      "<class 'pandas.core.frame.DataFrame'>\n",
      "RangeIndex: 16598 entries, 0 to 16597\n",
      "Data columns (total 11 columns):\n",
      " #   Column        Non-Null Count  Dtype  \n",
      "---  ------        --------------  -----  \n",
      " 0   Rank          16598 non-null  int64  \n",
      " 1   Name          16598 non-null  object \n",
      " 2   Platform      16598 non-null  object \n",
      " 3   Year          16327 non-null  float64\n",
      " 4   Genre         16598 non-null  object \n",
      " 5   Publisher     16540 non-null  object \n",
      " 6   NA_Sales      16598 non-null  float64\n",
      " 7   EU_Sales      16598 non-null  float64\n",
      " 8   JP_Sales      16598 non-null  float64\n",
      " 9   Other_Sales   16598 non-null  float64\n",
      " 10  Global_Sales  16598 non-null  float64\n",
      "dtypes: float64(6), int64(1), object(4)\n",
      "memory usage: 1.4+ MB\n"
     ]
    }
   ],
   "source": [
    "vgdata.info()\n",
    "#information regarding its column description"
   ]
  },
  {
   "cell_type": "code",
   "execution_count": 138,
   "metadata": {},
   "outputs": [
    {
     "name": "stdout",
     "output_type": "stream",
     "text": [
      "Number of Years in the dataset: 39\n",
      "Max year in the dataset: 2020.0\n",
      "Min year in the dataset: 1980.0\n"
     ]
    }
   ],
   "source": [
    "print(f\"Number of Years in the dataset: {vgdata['Year'].nunique()}\")\n",
    "print(f\"Max year in the dataset: {vgdata['Year'].max()}\")\n",
    "print(f\"Min year in the dataset: {vgdata['Year'].min()}\")"
   ]
  },
  {
   "cell_type": "code",
   "execution_count": 8,
   "metadata": {},
   "outputs": [
    {
     "data": {
      "text/html": [
       "<div>\n",
       "<style scoped>\n",
       "    .dataframe tbody tr th:only-of-type {\n",
       "        vertical-align: middle;\n",
       "    }\n",
       "\n",
       "    .dataframe tbody tr th {\n",
       "        vertical-align: top;\n",
       "    }\n",
       "\n",
       "    .dataframe thead th {\n",
       "        text-align: right;\n",
       "    }\n",
       "</style>\n",
       "<table border=\"1\" class=\"dataframe\">\n",
       "  <thead>\n",
       "    <tr style=\"text-align: right;\">\n",
       "      <th></th>\n",
       "      <th>Rank</th>\n",
       "      <th>Name</th>\n",
       "      <th>Platform</th>\n",
       "      <th>Year</th>\n",
       "      <th>Genre</th>\n",
       "      <th>Publisher</th>\n",
       "      <th>NA_Sales</th>\n",
       "      <th>EU_Sales</th>\n",
       "      <th>JP_Sales</th>\n",
       "      <th>Other_Sales</th>\n",
       "      <th>Global_Sales</th>\n",
       "    </tr>\n",
       "  </thead>\n",
       "  <tbody>\n",
       "    <tr>\n",
       "      <th>0</th>\n",
       "      <td>1</td>\n",
       "      <td>Wii Sports</td>\n",
       "      <td>Wii</td>\n",
       "      <td>2006.0</td>\n",
       "      <td>Sports</td>\n",
       "      <td>Nintendo</td>\n",
       "      <td>41.49</td>\n",
       "      <td>29.02</td>\n",
       "      <td>3.77</td>\n",
       "      <td>8.46</td>\n",
       "      <td>82.74</td>\n",
       "    </tr>\n",
       "    <tr>\n",
       "      <th>1</th>\n",
       "      <td>2</td>\n",
       "      <td>Super Mario Bros.</td>\n",
       "      <td>NES</td>\n",
       "      <td>1985.0</td>\n",
       "      <td>Platform</td>\n",
       "      <td>Nintendo</td>\n",
       "      <td>29.08</td>\n",
       "      <td>3.58</td>\n",
       "      <td>6.81</td>\n",
       "      <td>0.77</td>\n",
       "      <td>40.24</td>\n",
       "    </tr>\n",
       "    <tr>\n",
       "      <th>2</th>\n",
       "      <td>3</td>\n",
       "      <td>Mario Kart Wii</td>\n",
       "      <td>Wii</td>\n",
       "      <td>2008.0</td>\n",
       "      <td>Racing</td>\n",
       "      <td>Nintendo</td>\n",
       "      <td>15.85</td>\n",
       "      <td>12.88</td>\n",
       "      <td>3.79</td>\n",
       "      <td>3.31</td>\n",
       "      <td>35.82</td>\n",
       "    </tr>\n",
       "    <tr>\n",
       "      <th>3</th>\n",
       "      <td>4</td>\n",
       "      <td>Wii Sports Resort</td>\n",
       "      <td>Wii</td>\n",
       "      <td>2009.0</td>\n",
       "      <td>Sports</td>\n",
       "      <td>Nintendo</td>\n",
       "      <td>15.75</td>\n",
       "      <td>11.01</td>\n",
       "      <td>3.28</td>\n",
       "      <td>2.96</td>\n",
       "      <td>33.00</td>\n",
       "    </tr>\n",
       "    <tr>\n",
       "      <th>4</th>\n",
       "      <td>5</td>\n",
       "      <td>Pokemon Red/Pokemon Blue</td>\n",
       "      <td>GB</td>\n",
       "      <td>1996.0</td>\n",
       "      <td>Role-Playing</td>\n",
       "      <td>Nintendo</td>\n",
       "      <td>11.27</td>\n",
       "      <td>8.89</td>\n",
       "      <td>10.22</td>\n",
       "      <td>1.00</td>\n",
       "      <td>31.37</td>\n",
       "    </tr>\n",
       "    <tr>\n",
       "      <th>...</th>\n",
       "      <td>...</td>\n",
       "      <td>...</td>\n",
       "      <td>...</td>\n",
       "      <td>...</td>\n",
       "      <td>...</td>\n",
       "      <td>...</td>\n",
       "      <td>...</td>\n",
       "      <td>...</td>\n",
       "      <td>...</td>\n",
       "      <td>...</td>\n",
       "      <td>...</td>\n",
       "    </tr>\n",
       "    <tr>\n",
       "      <th>16593</th>\n",
       "      <td>16596</td>\n",
       "      <td>Woody Woodpecker in Crazy Castle 5</td>\n",
       "      <td>GBA</td>\n",
       "      <td>2002.0</td>\n",
       "      <td>Platform</td>\n",
       "      <td>Kemco</td>\n",
       "      <td>0.01</td>\n",
       "      <td>0.00</td>\n",
       "      <td>0.00</td>\n",
       "      <td>0.00</td>\n",
       "      <td>0.01</td>\n",
       "    </tr>\n",
       "    <tr>\n",
       "      <th>16594</th>\n",
       "      <td>16597</td>\n",
       "      <td>Men in Black II: Alien Escape</td>\n",
       "      <td>GC</td>\n",
       "      <td>2003.0</td>\n",
       "      <td>Shooter</td>\n",
       "      <td>Infogrames</td>\n",
       "      <td>0.01</td>\n",
       "      <td>0.00</td>\n",
       "      <td>0.00</td>\n",
       "      <td>0.00</td>\n",
       "      <td>0.01</td>\n",
       "    </tr>\n",
       "    <tr>\n",
       "      <th>16595</th>\n",
       "      <td>16598</td>\n",
       "      <td>SCORE International Baja 1000: The Official Game</td>\n",
       "      <td>PS2</td>\n",
       "      <td>2008.0</td>\n",
       "      <td>Racing</td>\n",
       "      <td>Activision</td>\n",
       "      <td>0.00</td>\n",
       "      <td>0.00</td>\n",
       "      <td>0.00</td>\n",
       "      <td>0.00</td>\n",
       "      <td>0.01</td>\n",
       "    </tr>\n",
       "    <tr>\n",
       "      <th>16596</th>\n",
       "      <td>16599</td>\n",
       "      <td>Know How 2</td>\n",
       "      <td>DS</td>\n",
       "      <td>2010.0</td>\n",
       "      <td>Puzzle</td>\n",
       "      <td>7G//AMES</td>\n",
       "      <td>0.00</td>\n",
       "      <td>0.01</td>\n",
       "      <td>0.00</td>\n",
       "      <td>0.00</td>\n",
       "      <td>0.01</td>\n",
       "    </tr>\n",
       "    <tr>\n",
       "      <th>16597</th>\n",
       "      <td>16600</td>\n",
       "      <td>Spirits &amp; Spells</td>\n",
       "      <td>GBA</td>\n",
       "      <td>2003.0</td>\n",
       "      <td>Platform</td>\n",
       "      <td>Wanadoo</td>\n",
       "      <td>0.01</td>\n",
       "      <td>0.00</td>\n",
       "      <td>0.00</td>\n",
       "      <td>0.00</td>\n",
       "      <td>0.01</td>\n",
       "    </tr>\n",
       "  </tbody>\n",
       "</table>\n",
       "<p>16291 rows × 11 columns</p>\n",
       "</div>"
      ],
      "text/plain": [
       "        Rank                                              Name Platform  \\\n",
       "0          1                                        Wii Sports      Wii   \n",
       "1          2                                 Super Mario Bros.      NES   \n",
       "2          3                                    Mario Kart Wii      Wii   \n",
       "3          4                                 Wii Sports Resort      Wii   \n",
       "4          5                          Pokemon Red/Pokemon Blue       GB   \n",
       "...      ...                                               ...      ...   \n",
       "16593  16596                Woody Woodpecker in Crazy Castle 5      GBA   \n",
       "16594  16597                     Men in Black II: Alien Escape       GC   \n",
       "16595  16598  SCORE International Baja 1000: The Official Game      PS2   \n",
       "16596  16599                                        Know How 2       DS   \n",
       "16597  16600                                  Spirits & Spells      GBA   \n",
       "\n",
       "         Year         Genre   Publisher  NA_Sales  EU_Sales  JP_Sales  \\\n",
       "0      2006.0        Sports    Nintendo     41.49     29.02      3.77   \n",
       "1      1985.0      Platform    Nintendo     29.08      3.58      6.81   \n",
       "2      2008.0        Racing    Nintendo     15.85     12.88      3.79   \n",
       "3      2009.0        Sports    Nintendo     15.75     11.01      3.28   \n",
       "4      1996.0  Role-Playing    Nintendo     11.27      8.89     10.22   \n",
       "...       ...           ...         ...       ...       ...       ...   \n",
       "16593  2002.0      Platform       Kemco      0.01      0.00      0.00   \n",
       "16594  2003.0       Shooter  Infogrames      0.01      0.00      0.00   \n",
       "16595  2008.0        Racing  Activision      0.00      0.00      0.00   \n",
       "16596  2010.0        Puzzle    7G//AMES      0.00      0.01      0.00   \n",
       "16597  2003.0      Platform     Wanadoo      0.01      0.00      0.00   \n",
       "\n",
       "       Other_Sales  Global_Sales  \n",
       "0             8.46         82.74  \n",
       "1             0.77         40.24  \n",
       "2             3.31         35.82  \n",
       "3             2.96         33.00  \n",
       "4             1.00         31.37  \n",
       "...            ...           ...  \n",
       "16593         0.00          0.01  \n",
       "16594         0.00          0.01  \n",
       "16595         0.00          0.01  \n",
       "16596         0.00          0.01  \n",
       "16597         0.00          0.01  \n",
       "\n",
       "[16291 rows x 11 columns]"
      ]
     },
     "execution_count": 8,
     "metadata": {},
     "output_type": "execute_result"
    }
   ],
   "source": [
    "vgdata=vgdata.dropna()\n",
    "vgdata"
   ]
  },
  {
   "cell_type": "markdown",
   "metadata": {},
   "source": [
    "Cleaning dataset out of null values for future research"
   ]
  },
  {
   "cell_type": "code",
   "execution_count": 9,
   "metadata": {},
   "outputs": [
    {
     "data": {
      "text/plain": [
       "16291"
      ]
     },
     "execution_count": 9,
     "metadata": {},
     "output_type": "execute_result"
    }
   ],
   "source": [
    "len(vgdata[\"Rank\"].unique())"
   ]
  },
  {
   "cell_type": "markdown",
   "metadata": {},
   "source": [
    "Number of unique rows after cleaning"
   ]
  },
  {
   "cell_type": "code",
   "execution_count": 140,
   "metadata": {},
   "outputs": [],
   "source": [
    "games_names = vgdata['Name'].unique()\n",
    "publisher_names = vgdata['Publisher'].unique()\n",
    "platforms_names = vgdata['Platform'].unique()\n",
    "genres_names = vgdata['Genre'].unique()\n"
   ]
  },
  {
   "cell_type": "code",
   "execution_count": 142,
   "metadata": {},
   "outputs": [
    {
     "data": {
      "application/vnd.plotly.v1+json": {
       "config": {
        "plotlyServerURL": "https://plot.ly"
       },
       "data": [
        {
         "domain": {
          "column": 0,
          "row": 0
         },
         "number": {
          "font": {
           "color": "black",
           "size": 50
          }
         },
         "title": {
          "font": {
           "color": "black",
           "size": 22
          },
          "text": "Games"
         },
         "type": "indicator",
         "value": 11493
        },
        {
         "domain": {
          "column": 1,
          "row": 0
         },
         "number": {
          "font": {
           "color": "red",
           "size": 50
          }
         },
         "title": {
          "font": {
           "color": "red",
           "size": 22
          },
          "text": "Publishers"
         },
         "type": "indicator",
         "value": 579
        },
        {
         "domain": {
          "column": 2,
          "row": 0
         },
         "number": {
          "font": {
           "color": "brown",
           "size": 50
          }
         },
         "title": {
          "font": {
           "color": "brown",
           "size": 22
          },
          "text": "Platforms"
         },
         "type": "indicator",
         "value": 31
        },
        {
         "domain": {
          "column": 3,
          "row": 0
         },
         "number": {
          "font": {
           "color": "blue",
           "size": 50
          }
         },
         "title": {
          "font": {
           "color": "blue",
           "size": 22
          },
          "text": "Genres"
         },
         "type": "indicator",
         "value": 12
        }
       ],
       "layout": {
        "grid": {
         "columns": 4,
         "rows": 1
        },
        "template": {
         "data": {
          "bar": [
           {
            "error_x": {
             "color": "#2a3f5f"
            },
            "error_y": {
             "color": "#2a3f5f"
            },
            "marker": {
             "line": {
              "color": "#E5ECF6",
              "width": 0.5
             }
            },
            "type": "bar"
           }
          ],
          "barpolar": [
           {
            "marker": {
             "line": {
              "color": "#E5ECF6",
              "width": 0.5
             }
            },
            "type": "barpolar"
           }
          ],
          "carpet": [
           {
            "aaxis": {
             "endlinecolor": "#2a3f5f",
             "gridcolor": "white",
             "linecolor": "white",
             "minorgridcolor": "white",
             "startlinecolor": "#2a3f5f"
            },
            "baxis": {
             "endlinecolor": "#2a3f5f",
             "gridcolor": "white",
             "linecolor": "white",
             "minorgridcolor": "white",
             "startlinecolor": "#2a3f5f"
            },
            "type": "carpet"
           }
          ],
          "choropleth": [
           {
            "colorbar": {
             "outlinewidth": 0,
             "ticks": ""
            },
            "type": "choropleth"
           }
          ],
          "contour": [
           {
            "colorbar": {
             "outlinewidth": 0,
             "ticks": ""
            },
            "colorscale": [
             [
              0,
              "#0d0887"
             ],
             [
              0.1111111111111111,
              "#46039f"
             ],
             [
              0.2222222222222222,
              "#7201a8"
             ],
             [
              0.3333333333333333,
              "#9c179e"
             ],
             [
              0.4444444444444444,
              "#bd3786"
             ],
             [
              0.5555555555555556,
              "#d8576b"
             ],
             [
              0.6666666666666666,
              "#ed7953"
             ],
             [
              0.7777777777777778,
              "#fb9f3a"
             ],
             [
              0.8888888888888888,
              "#fdca26"
             ],
             [
              1,
              "#f0f921"
             ]
            ],
            "type": "contour"
           }
          ],
          "contourcarpet": [
           {
            "colorbar": {
             "outlinewidth": 0,
             "ticks": ""
            },
            "type": "contourcarpet"
           }
          ],
          "heatmap": [
           {
            "colorbar": {
             "outlinewidth": 0,
             "ticks": ""
            },
            "colorscale": [
             [
              0,
              "#0d0887"
             ],
             [
              0.1111111111111111,
              "#46039f"
             ],
             [
              0.2222222222222222,
              "#7201a8"
             ],
             [
              0.3333333333333333,
              "#9c179e"
             ],
             [
              0.4444444444444444,
              "#bd3786"
             ],
             [
              0.5555555555555556,
              "#d8576b"
             ],
             [
              0.6666666666666666,
              "#ed7953"
             ],
             [
              0.7777777777777778,
              "#fb9f3a"
             ],
             [
              0.8888888888888888,
              "#fdca26"
             ],
             [
              1,
              "#f0f921"
             ]
            ],
            "type": "heatmap"
           }
          ],
          "heatmapgl": [
           {
            "colorbar": {
             "outlinewidth": 0,
             "ticks": ""
            },
            "colorscale": [
             [
              0,
              "#0d0887"
             ],
             [
              0.1111111111111111,
              "#46039f"
             ],
             [
              0.2222222222222222,
              "#7201a8"
             ],
             [
              0.3333333333333333,
              "#9c179e"
             ],
             [
              0.4444444444444444,
              "#bd3786"
             ],
             [
              0.5555555555555556,
              "#d8576b"
             ],
             [
              0.6666666666666666,
              "#ed7953"
             ],
             [
              0.7777777777777778,
              "#fb9f3a"
             ],
             [
              0.8888888888888888,
              "#fdca26"
             ],
             [
              1,
              "#f0f921"
             ]
            ],
            "type": "heatmapgl"
           }
          ],
          "histogram": [
           {
            "marker": {
             "colorbar": {
              "outlinewidth": 0,
              "ticks": ""
             }
            },
            "type": "histogram"
           }
          ],
          "histogram2d": [
           {
            "colorbar": {
             "outlinewidth": 0,
             "ticks": ""
            },
            "colorscale": [
             [
              0,
              "#0d0887"
             ],
             [
              0.1111111111111111,
              "#46039f"
             ],
             [
              0.2222222222222222,
              "#7201a8"
             ],
             [
              0.3333333333333333,
              "#9c179e"
             ],
             [
              0.4444444444444444,
              "#bd3786"
             ],
             [
              0.5555555555555556,
              "#d8576b"
             ],
             [
              0.6666666666666666,
              "#ed7953"
             ],
             [
              0.7777777777777778,
              "#fb9f3a"
             ],
             [
              0.8888888888888888,
              "#fdca26"
             ],
             [
              1,
              "#f0f921"
             ]
            ],
            "type": "histogram2d"
           }
          ],
          "histogram2dcontour": [
           {
            "colorbar": {
             "outlinewidth": 0,
             "ticks": ""
            },
            "colorscale": [
             [
              0,
              "#0d0887"
             ],
             [
              0.1111111111111111,
              "#46039f"
             ],
             [
              0.2222222222222222,
              "#7201a8"
             ],
             [
              0.3333333333333333,
              "#9c179e"
             ],
             [
              0.4444444444444444,
              "#bd3786"
             ],
             [
              0.5555555555555556,
              "#d8576b"
             ],
             [
              0.6666666666666666,
              "#ed7953"
             ],
             [
              0.7777777777777778,
              "#fb9f3a"
             ],
             [
              0.8888888888888888,
              "#fdca26"
             ],
             [
              1,
              "#f0f921"
             ]
            ],
            "type": "histogram2dcontour"
           }
          ],
          "mesh3d": [
           {
            "colorbar": {
             "outlinewidth": 0,
             "ticks": ""
            },
            "type": "mesh3d"
           }
          ],
          "parcoords": [
           {
            "line": {
             "colorbar": {
              "outlinewidth": 0,
              "ticks": ""
             }
            },
            "type": "parcoords"
           }
          ],
          "pie": [
           {
            "automargin": true,
            "type": "pie"
           }
          ],
          "scatter": [
           {
            "marker": {
             "colorbar": {
              "outlinewidth": 0,
              "ticks": ""
             }
            },
            "type": "scatter"
           }
          ],
          "scatter3d": [
           {
            "line": {
             "colorbar": {
              "outlinewidth": 0,
              "ticks": ""
             }
            },
            "marker": {
             "colorbar": {
              "outlinewidth": 0,
              "ticks": ""
             }
            },
            "type": "scatter3d"
           }
          ],
          "scattercarpet": [
           {
            "marker": {
             "colorbar": {
              "outlinewidth": 0,
              "ticks": ""
             }
            },
            "type": "scattercarpet"
           }
          ],
          "scattergeo": [
           {
            "marker": {
             "colorbar": {
              "outlinewidth": 0,
              "ticks": ""
             }
            },
            "type": "scattergeo"
           }
          ],
          "scattergl": [
           {
            "marker": {
             "colorbar": {
              "outlinewidth": 0,
              "ticks": ""
             }
            },
            "type": "scattergl"
           }
          ],
          "scattermapbox": [
           {
            "marker": {
             "colorbar": {
              "outlinewidth": 0,
              "ticks": ""
             }
            },
            "type": "scattermapbox"
           }
          ],
          "scatterpolar": [
           {
            "marker": {
             "colorbar": {
              "outlinewidth": 0,
              "ticks": ""
             }
            },
            "type": "scatterpolar"
           }
          ],
          "scatterpolargl": [
           {
            "marker": {
             "colorbar": {
              "outlinewidth": 0,
              "ticks": ""
             }
            },
            "type": "scatterpolargl"
           }
          ],
          "scatterternary": [
           {
            "marker": {
             "colorbar": {
              "outlinewidth": 0,
              "ticks": ""
             }
            },
            "type": "scatterternary"
           }
          ],
          "surface": [
           {
            "colorbar": {
             "outlinewidth": 0,
             "ticks": ""
            },
            "colorscale": [
             [
              0,
              "#0d0887"
             ],
             [
              0.1111111111111111,
              "#46039f"
             ],
             [
              0.2222222222222222,
              "#7201a8"
             ],
             [
              0.3333333333333333,
              "#9c179e"
             ],
             [
              0.4444444444444444,
              "#bd3786"
             ],
             [
              0.5555555555555556,
              "#d8576b"
             ],
             [
              0.6666666666666666,
              "#ed7953"
             ],
             [
              0.7777777777777778,
              "#fb9f3a"
             ],
             [
              0.8888888888888888,
              "#fdca26"
             ],
             [
              1,
              "#f0f921"
             ]
            ],
            "type": "surface"
           }
          ],
          "table": [
           {
            "cells": {
             "fill": {
              "color": "#EBF0F8"
             },
             "line": {
              "color": "white"
             }
            },
            "header": {
             "fill": {
              "color": "#C8D4E3"
             },
             "line": {
              "color": "white"
             }
            },
            "type": "table"
           }
          ]
         },
         "layout": {
          "annotationdefaults": {
           "arrowcolor": "#2a3f5f",
           "arrowhead": 0,
           "arrowwidth": 1
          },
          "autotypenumbers": "strict",
          "coloraxis": {
           "colorbar": {
            "outlinewidth": 0,
            "ticks": ""
           }
          },
          "colorscale": {
           "diverging": [
            [
             0,
             "#8e0152"
            ],
            [
             0.1,
             "#c51b7d"
            ],
            [
             0.2,
             "#de77ae"
            ],
            [
             0.3,
             "#f1b6da"
            ],
            [
             0.4,
             "#fde0ef"
            ],
            [
             0.5,
             "#f7f7f7"
            ],
            [
             0.6,
             "#e6f5d0"
            ],
            [
             0.7,
             "#b8e186"
            ],
            [
             0.8,
             "#7fbc41"
            ],
            [
             0.9,
             "#4d9221"
            ],
            [
             1,
             "#276419"
            ]
           ],
           "sequential": [
            [
             0,
             "#0d0887"
            ],
            [
             0.1111111111111111,
             "#46039f"
            ],
            [
             0.2222222222222222,
             "#7201a8"
            ],
            [
             0.3333333333333333,
             "#9c179e"
            ],
            [
             0.4444444444444444,
             "#bd3786"
            ],
            [
             0.5555555555555556,
             "#d8576b"
            ],
            [
             0.6666666666666666,
             "#ed7953"
            ],
            [
             0.7777777777777778,
             "#fb9f3a"
            ],
            [
             0.8888888888888888,
             "#fdca26"
            ],
            [
             1,
             "#f0f921"
            ]
           ],
           "sequentialminus": [
            [
             0,
             "#0d0887"
            ],
            [
             0.1111111111111111,
             "#46039f"
            ],
            [
             0.2222222222222222,
             "#7201a8"
            ],
            [
             0.3333333333333333,
             "#9c179e"
            ],
            [
             0.4444444444444444,
             "#bd3786"
            ],
            [
             0.5555555555555556,
             "#d8576b"
            ],
            [
             0.6666666666666666,
             "#ed7953"
            ],
            [
             0.7777777777777778,
             "#fb9f3a"
            ],
            [
             0.8888888888888888,
             "#fdca26"
            ],
            [
             1,
             "#f0f921"
            ]
           ]
          },
          "colorway": [
           "#636efa",
           "#EF553B",
           "#00cc96",
           "#ab63fa",
           "#FFA15A",
           "#19d3f3",
           "#FF6692",
           "#B6E880",
           "#FF97FF",
           "#FECB52"
          ],
          "font": {
           "color": "#2a3f5f"
          },
          "geo": {
           "bgcolor": "white",
           "lakecolor": "white",
           "landcolor": "#E5ECF6",
           "showlakes": true,
           "showland": true,
           "subunitcolor": "white"
          },
          "hoverlabel": {
           "align": "left"
          },
          "hovermode": "closest",
          "mapbox": {
           "style": "light"
          },
          "paper_bgcolor": "white",
          "plot_bgcolor": "#E5ECF6",
          "polar": {
           "angularaxis": {
            "gridcolor": "white",
            "linecolor": "white",
            "ticks": ""
           },
           "bgcolor": "#E5ECF6",
           "radialaxis": {
            "gridcolor": "white",
            "linecolor": "white",
            "ticks": ""
           }
          },
          "scene": {
           "xaxis": {
            "backgroundcolor": "#E5ECF6",
            "gridcolor": "white",
            "gridwidth": 2,
            "linecolor": "white",
            "showbackground": true,
            "ticks": "",
            "zerolinecolor": "white"
           },
           "yaxis": {
            "backgroundcolor": "#E5ECF6",
            "gridcolor": "white",
            "gridwidth": 2,
            "linecolor": "white",
            "showbackground": true,
            "ticks": "",
            "zerolinecolor": "white"
           },
           "zaxis": {
            "backgroundcolor": "#E5ECF6",
            "gridcolor": "white",
            "gridwidth": 2,
            "linecolor": "white",
            "showbackground": true,
            "ticks": "",
            "zerolinecolor": "white"
           }
          },
          "shapedefaults": {
           "line": {
            "color": "#2a3f5f"
           }
          },
          "ternary": {
           "aaxis": {
            "gridcolor": "white",
            "linecolor": "white",
            "ticks": ""
           },
           "baxis": {
            "gridcolor": "white",
            "linecolor": "white",
            "ticks": ""
           },
           "bgcolor": "#E5ECF6",
           "caxis": {
            "gridcolor": "white",
            "linecolor": "white",
            "ticks": ""
           }
          },
          "title": {
           "x": 0.05
          },
          "xaxis": {
           "automargin": true,
           "gridcolor": "white",
           "linecolor": "white",
           "ticks": "",
           "title": {
            "standoff": 15
           },
           "zerolinecolor": "white",
           "zerolinewidth": 2
          },
          "yaxis": {
           "automargin": true,
           "gridcolor": "white",
           "linecolor": "white",
           "ticks": "",
           "title": {
            "standoff": 15
           },
           "zerolinecolor": "white",
           "zerolinewidth": 2
          }
         }
        }
       }
      },
      "text/html": [
       "<div>                            <div id=\"06f0d169-eacc-4e3a-ade8-93da5622e382\" class=\"plotly-graph-div\" style=\"height:525px; width:100%;\"></div>            <script type=\"text/javascript\">                require([\"plotly\"], function(Plotly) {                    window.PLOTLYENV=window.PLOTLYENV || {};                                    if (document.getElementById(\"06f0d169-eacc-4e3a-ade8-93da5622e382\")) {                    Plotly.newPlot(                        \"06f0d169-eacc-4e3a-ade8-93da5622e382\",                        [{\"domain\": {\"column\": 0, \"row\": 0}, \"number\": {\"font\": {\"color\": \"black\", \"size\": 50}}, \"title\": {\"font\": {\"color\": \"black\", \"size\": 22}, \"text\": \"Games\"}, \"type\": \"indicator\", \"value\": 11493}, {\"domain\": {\"column\": 1, \"row\": 0}, \"number\": {\"font\": {\"color\": \"red\", \"size\": 50}}, \"title\": {\"font\": {\"color\": \"red\", \"size\": 22}, \"text\": \"Publishers\"}, \"type\": \"indicator\", \"value\": 579}, {\"domain\": {\"column\": 2, \"row\": 0}, \"number\": {\"font\": {\"color\": \"brown\", \"size\": 50}}, \"title\": {\"font\": {\"color\": \"brown\", \"size\": 22}, \"text\": \"Platforms\"}, \"type\": \"indicator\", \"value\": 31}, {\"domain\": {\"column\": 3, \"row\": 0}, \"number\": {\"font\": {\"color\": \"blue\", \"size\": 50}}, \"title\": {\"font\": {\"color\": \"blue\", \"size\": 22}, \"text\": \"Genres\"}, \"type\": \"indicator\", \"value\": 12}],                        {\"grid\": {\"columns\": 4, \"rows\": 1}, \"template\": {\"data\": {\"bar\": [{\"error_x\": {\"color\": \"#2a3f5f\"}, \"error_y\": {\"color\": \"#2a3f5f\"}, \"marker\": {\"line\": {\"color\": \"#E5ECF6\", \"width\": 0.5}}, \"type\": \"bar\"}], \"barpolar\": [{\"marker\": {\"line\": {\"color\": \"#E5ECF6\", \"width\": 0.5}}, \"type\": \"barpolar\"}], \"carpet\": [{\"aaxis\": {\"endlinecolor\": \"#2a3f5f\", \"gridcolor\": \"white\", \"linecolor\": \"white\", \"minorgridcolor\": \"white\", \"startlinecolor\": \"#2a3f5f\"}, \"baxis\": {\"endlinecolor\": \"#2a3f5f\", \"gridcolor\": \"white\", \"linecolor\": \"white\", \"minorgridcolor\": \"white\", \"startlinecolor\": \"#2a3f5f\"}, \"type\": \"carpet\"}], \"choropleth\": [{\"colorbar\": {\"outlinewidth\": 0, \"ticks\": \"\"}, \"type\": \"choropleth\"}], \"contour\": [{\"colorbar\": {\"outlinewidth\": 0, \"ticks\": \"\"}, \"colorscale\": [[0.0, \"#0d0887\"], [0.1111111111111111, \"#46039f\"], [0.2222222222222222, \"#7201a8\"], [0.3333333333333333, \"#9c179e\"], [0.4444444444444444, \"#bd3786\"], [0.5555555555555556, \"#d8576b\"], [0.6666666666666666, \"#ed7953\"], [0.7777777777777778, \"#fb9f3a\"], [0.8888888888888888, \"#fdca26\"], [1.0, \"#f0f921\"]], \"type\": \"contour\"}], \"contourcarpet\": [{\"colorbar\": {\"outlinewidth\": 0, \"ticks\": \"\"}, \"type\": \"contourcarpet\"}], \"heatmap\": [{\"colorbar\": {\"outlinewidth\": 0, \"ticks\": \"\"}, \"colorscale\": [[0.0, \"#0d0887\"], [0.1111111111111111, \"#46039f\"], [0.2222222222222222, \"#7201a8\"], [0.3333333333333333, \"#9c179e\"], [0.4444444444444444, \"#bd3786\"], [0.5555555555555556, \"#d8576b\"], [0.6666666666666666, \"#ed7953\"], [0.7777777777777778, \"#fb9f3a\"], [0.8888888888888888, \"#fdca26\"], [1.0, \"#f0f921\"]], \"type\": \"heatmap\"}], \"heatmapgl\": [{\"colorbar\": {\"outlinewidth\": 0, \"ticks\": \"\"}, \"colorscale\": [[0.0, \"#0d0887\"], [0.1111111111111111, \"#46039f\"], [0.2222222222222222, \"#7201a8\"], [0.3333333333333333, \"#9c179e\"], [0.4444444444444444, \"#bd3786\"], [0.5555555555555556, \"#d8576b\"], [0.6666666666666666, \"#ed7953\"], [0.7777777777777778, \"#fb9f3a\"], [0.8888888888888888, \"#fdca26\"], [1.0, \"#f0f921\"]], \"type\": \"heatmapgl\"}], \"histogram\": [{\"marker\": {\"colorbar\": {\"outlinewidth\": 0, \"ticks\": \"\"}}, \"type\": \"histogram\"}], \"histogram2d\": [{\"colorbar\": {\"outlinewidth\": 0, \"ticks\": \"\"}, \"colorscale\": [[0.0, \"#0d0887\"], [0.1111111111111111, \"#46039f\"], [0.2222222222222222, \"#7201a8\"], [0.3333333333333333, \"#9c179e\"], [0.4444444444444444, \"#bd3786\"], [0.5555555555555556, \"#d8576b\"], [0.6666666666666666, \"#ed7953\"], [0.7777777777777778, \"#fb9f3a\"], [0.8888888888888888, \"#fdca26\"], [1.0, \"#f0f921\"]], \"type\": \"histogram2d\"}], \"histogram2dcontour\": [{\"colorbar\": {\"outlinewidth\": 0, \"ticks\": \"\"}, \"colorscale\": [[0.0, \"#0d0887\"], [0.1111111111111111, \"#46039f\"], [0.2222222222222222, \"#7201a8\"], [0.3333333333333333, \"#9c179e\"], [0.4444444444444444, \"#bd3786\"], [0.5555555555555556, \"#d8576b\"], [0.6666666666666666, \"#ed7953\"], [0.7777777777777778, \"#fb9f3a\"], [0.8888888888888888, \"#fdca26\"], [1.0, \"#f0f921\"]], \"type\": \"histogram2dcontour\"}], \"mesh3d\": [{\"colorbar\": {\"outlinewidth\": 0, \"ticks\": \"\"}, \"type\": \"mesh3d\"}], \"parcoords\": [{\"line\": {\"colorbar\": {\"outlinewidth\": 0, \"ticks\": \"\"}}, \"type\": \"parcoords\"}], \"pie\": [{\"automargin\": true, \"type\": \"pie\"}], \"scatter\": [{\"marker\": {\"colorbar\": {\"outlinewidth\": 0, \"ticks\": \"\"}}, \"type\": \"scatter\"}], \"scatter3d\": [{\"line\": {\"colorbar\": {\"outlinewidth\": 0, \"ticks\": \"\"}}, \"marker\": {\"colorbar\": {\"outlinewidth\": 0, \"ticks\": \"\"}}, \"type\": \"scatter3d\"}], \"scattercarpet\": [{\"marker\": {\"colorbar\": {\"outlinewidth\": 0, \"ticks\": \"\"}}, \"type\": \"scattercarpet\"}], \"scattergeo\": [{\"marker\": {\"colorbar\": {\"outlinewidth\": 0, \"ticks\": \"\"}}, \"type\": \"scattergeo\"}], \"scattergl\": [{\"marker\": {\"colorbar\": {\"outlinewidth\": 0, \"ticks\": \"\"}}, \"type\": \"scattergl\"}], \"scattermapbox\": [{\"marker\": {\"colorbar\": {\"outlinewidth\": 0, \"ticks\": \"\"}}, \"type\": \"scattermapbox\"}], \"scatterpolar\": [{\"marker\": {\"colorbar\": {\"outlinewidth\": 0, \"ticks\": \"\"}}, \"type\": \"scatterpolar\"}], \"scatterpolargl\": [{\"marker\": {\"colorbar\": {\"outlinewidth\": 0, \"ticks\": \"\"}}, \"type\": \"scatterpolargl\"}], \"scatterternary\": [{\"marker\": {\"colorbar\": {\"outlinewidth\": 0, \"ticks\": \"\"}}, \"type\": \"scatterternary\"}], \"surface\": [{\"colorbar\": {\"outlinewidth\": 0, \"ticks\": \"\"}, \"colorscale\": [[0.0, \"#0d0887\"], [0.1111111111111111, \"#46039f\"], [0.2222222222222222, \"#7201a8\"], [0.3333333333333333, \"#9c179e\"], [0.4444444444444444, \"#bd3786\"], [0.5555555555555556, \"#d8576b\"], [0.6666666666666666, \"#ed7953\"], [0.7777777777777778, \"#fb9f3a\"], [0.8888888888888888, \"#fdca26\"], [1.0, \"#f0f921\"]], \"type\": \"surface\"}], \"table\": [{\"cells\": {\"fill\": {\"color\": \"#EBF0F8\"}, \"line\": {\"color\": \"white\"}}, \"header\": {\"fill\": {\"color\": \"#C8D4E3\"}, \"line\": {\"color\": \"white\"}}, \"type\": \"table\"}]}, \"layout\": {\"annotationdefaults\": {\"arrowcolor\": \"#2a3f5f\", \"arrowhead\": 0, \"arrowwidth\": 1}, \"autotypenumbers\": \"strict\", \"coloraxis\": {\"colorbar\": {\"outlinewidth\": 0, \"ticks\": \"\"}}, \"colorscale\": {\"diverging\": [[0, \"#8e0152\"], [0.1, \"#c51b7d\"], [0.2, \"#de77ae\"], [0.3, \"#f1b6da\"], [0.4, \"#fde0ef\"], [0.5, \"#f7f7f7\"], [0.6, \"#e6f5d0\"], [0.7, \"#b8e186\"], [0.8, \"#7fbc41\"], [0.9, \"#4d9221\"], [1, \"#276419\"]], \"sequential\": [[0.0, \"#0d0887\"], [0.1111111111111111, \"#46039f\"], [0.2222222222222222, \"#7201a8\"], [0.3333333333333333, \"#9c179e\"], [0.4444444444444444, \"#bd3786\"], [0.5555555555555556, \"#d8576b\"], [0.6666666666666666, \"#ed7953\"], [0.7777777777777778, \"#fb9f3a\"], [0.8888888888888888, \"#fdca26\"], [1.0, \"#f0f921\"]], \"sequentialminus\": [[0.0, \"#0d0887\"], [0.1111111111111111, \"#46039f\"], [0.2222222222222222, \"#7201a8\"], [0.3333333333333333, \"#9c179e\"], [0.4444444444444444, \"#bd3786\"], [0.5555555555555556, \"#d8576b\"], [0.6666666666666666, \"#ed7953\"], [0.7777777777777778, \"#fb9f3a\"], [0.8888888888888888, \"#fdca26\"], [1.0, \"#f0f921\"]]}, \"colorway\": [\"#636efa\", \"#EF553B\", \"#00cc96\", \"#ab63fa\", \"#FFA15A\", \"#19d3f3\", \"#FF6692\", \"#B6E880\", \"#FF97FF\", \"#FECB52\"], \"font\": {\"color\": \"#2a3f5f\"}, \"geo\": {\"bgcolor\": \"white\", \"lakecolor\": \"white\", \"landcolor\": \"#E5ECF6\", \"showlakes\": true, \"showland\": true, \"subunitcolor\": \"white\"}, \"hoverlabel\": {\"align\": \"left\"}, \"hovermode\": \"closest\", \"mapbox\": {\"style\": \"light\"}, \"paper_bgcolor\": \"white\", \"plot_bgcolor\": \"#E5ECF6\", \"polar\": {\"angularaxis\": {\"gridcolor\": \"white\", \"linecolor\": \"white\", \"ticks\": \"\"}, \"bgcolor\": \"#E5ECF6\", \"radialaxis\": {\"gridcolor\": \"white\", \"linecolor\": \"white\", \"ticks\": \"\"}}, \"scene\": {\"xaxis\": {\"backgroundcolor\": \"#E5ECF6\", \"gridcolor\": \"white\", \"gridwidth\": 2, \"linecolor\": \"white\", \"showbackground\": true, \"ticks\": \"\", \"zerolinecolor\": \"white\"}, \"yaxis\": {\"backgroundcolor\": \"#E5ECF6\", \"gridcolor\": \"white\", \"gridwidth\": 2, \"linecolor\": \"white\", \"showbackground\": true, \"ticks\": \"\", \"zerolinecolor\": \"white\"}, \"zaxis\": {\"backgroundcolor\": \"#E5ECF6\", \"gridcolor\": \"white\", \"gridwidth\": 2, \"linecolor\": \"white\", \"showbackground\": true, \"ticks\": \"\", \"zerolinecolor\": \"white\"}}, \"shapedefaults\": {\"line\": {\"color\": \"#2a3f5f\"}}, \"ternary\": {\"aaxis\": {\"gridcolor\": \"white\", \"linecolor\": \"white\", \"ticks\": \"\"}, \"baxis\": {\"gridcolor\": \"white\", \"linecolor\": \"white\", \"ticks\": \"\"}, \"bgcolor\": \"#E5ECF6\", \"caxis\": {\"gridcolor\": \"white\", \"linecolor\": \"white\", \"ticks\": \"\"}}, \"title\": {\"x\": 0.05}, \"xaxis\": {\"automargin\": true, \"gridcolor\": \"white\", \"linecolor\": \"white\", \"ticks\": \"\", \"title\": {\"standoff\": 15}, \"zerolinecolor\": \"white\", \"zerolinewidth\": 2}, \"yaxis\": {\"automargin\": true, \"gridcolor\": \"white\", \"linecolor\": \"white\", \"ticks\": \"\", \"title\": {\"standoff\": 15}, \"zerolinecolor\": \"white\", \"zerolinewidth\": 2}}}},                        {\"responsive\": true}                    ).then(function(){\n",
       "                            \n",
       "var gd = document.getElementById('06f0d169-eacc-4e3a-ade8-93da5622e382');\n",
       "var x = new MutationObserver(function (mutations, observer) {{\n",
       "        var display = window.getComputedStyle(gd).display;\n",
       "        if (!display || display === 'none') {{\n",
       "            console.log([gd, 'removed!']);\n",
       "            Plotly.purge(gd);\n",
       "            observer.disconnect();\n",
       "        }}\n",
       "}});\n",
       "\n",
       "// Listen for the removal of the full notebook cells\n",
       "var notebookContainer = gd.closest('#notebook-container');\n",
       "if (notebookContainer) {{\n",
       "    x.observe(notebookContainer, {childList: true});\n",
       "}}\n",
       "\n",
       "// Listen for the clearing of the current output cell\n",
       "var outputEl = gd.closest('.output');\n",
       "if (outputEl) {{\n",
       "    x.observe(outputEl, {childList: true});\n",
       "}}\n",
       "\n",
       "                        })                };                });            </script>        </div>"
      ]
     },
     "metadata": {},
     "output_type": "display_data"
    }
   ],
   "source": [
    "fig = go.Figure()\n",
    "fig.add_trace(go.Indicator(\n",
    "    value = len(games_names),\n",
    "    title = {'text': \"Games\",'font': {'color': 'black','size':22}},\n",
    "    number={'font':{'color': 'black','size':50}},\n",
    "    domain = {'row': 0, 'column': 0}\n",
    "))\n",
    "fig.add_trace(go.Indicator(\n",
    "    value = len(publisher_names),\n",
    "    title = {'text': \"Publishers\",'font': {'color': 'red','size':22}},\n",
    "    number={'font':{'color': 'red','size':50}},\n",
    "    domain = {'row': 0, 'column': 1}\n",
    "))\n",
    "fig.add_trace(go.Indicator(\n",
    "    value = len(platforms_names),\n",
    "    title = {'text': \"Platforms\",'font': {'color': 'brown','size':22}},\n",
    "    number={'font':{'color': 'brown','size':50}},\n",
    "    domain = {'row': 0, 'column': 2}\n",
    "))\n",
    "\n",
    "fig.add_trace(go.Indicator(\n",
    "    value = len(genres_names),\n",
    "    title = {'text': \"Genres\",'font': {'color': 'blue','size':22}},\n",
    "    number={'font':{'color': 'blue','size':50}},\n",
    "    domain = {'row': 0, 'column': 3}\n",
    "))\n",
    "\n",
    "fig.update_layout(\n",
    "    grid = {'rows': 1, 'columns': 4})\n",
    "fig.show()"
   ]
  },
  {
   "cell_type": "markdown",
   "metadata": {},
   "source": [
    "Show all unique values that exist in my dataset"
   ]
  },
  {
   "cell_type": "markdown",
   "metadata": {},
   "source": [
    "# RESEARCH QUESTIONS"
   ]
  },
  {
   "cell_type": "markdown",
   "metadata": {},
   "source": [
    "#1\n",
    "\n",
    "**As you could see on previous cell we have 12 different genres of games . Each of them have own numbers of games and it is completely possible for us to observe the determination of those genres in our dataset from 1980 to 2020**\n",
    "\n",
    "*I want to see their distribution and percentage and the most popular genre*"
   ]
  },
  {
   "cell_type": "markdown",
   "metadata": {},
   "source": [
    "#2\n",
    "\n",
    "**Nintendo , Microsoft Game studios , Sony computer entertainment , Electronic arts , Konami are\n",
    "the largest companies around the world by revenue , that in sum have income exceeding  7 billion $**\n",
    "\n",
    "*I want to see progress of those companies starting since 2008 and observe what incomes they did have in the past decade*.\n"
   ]
  },
  {
   "cell_type": "markdown",
   "metadata": {},
   "source": [
    "#3\n",
    "\n",
    "**We know that every game has its own genre . Sports , action , racing and many others. For the sake of research I want to explore what genres are the most leading in countries that are represented in our dataset.** \n",
    "\n",
    "*So , by this we can observe what genres of games are mostly interesting for people from different parts of the world*\n"
   ]
  },
  {
   "cell_type": "markdown",
   "metadata": {},
   "source": [
    "#4\n",
    "\n",
    "**Every year of gaming industry has its own number of sales and incomes that was earn from gamers purchases in general in one year . So, my dataset allows me to count the common sales of every game every year .**\n",
    "\n",
    "*Consequently , I want to know which year of gaming was the most successful in its history*\n"
   ]
  },
  {
   "cell_type": "markdown",
   "metadata": {},
   "source": [
    "#5\n",
    "\n",
    "**In my dataset I have 11 columns and each of them are having different numbers and values.**\n",
    "\n",
    "*However , via correlation I want to know what values of my dataset are having greater coefficient of correlation . Let’s observe*\n"
   ]
  },
  {
   "cell_type": "markdown",
   "metadata": {},
   "source": [
    "# DATA PREPARATION AND VISUALISATION"
   ]
  },
  {
   "cell_type": "code",
   "execution_count": 75,
   "metadata": {},
   "outputs": [
    {
     "data": {
      "text/html": [
       "<div>\n",
       "<style scoped>\n",
       "    .dataframe tbody tr th:only-of-type {\n",
       "        vertical-align: middle;\n",
       "    }\n",
       "\n",
       "    .dataframe tbody tr th {\n",
       "        vertical-align: top;\n",
       "    }\n",
       "\n",
       "    .dataframe thead th {\n",
       "        text-align: right;\n",
       "    }\n",
       "</style>\n",
       "<table border=\"1\" class=\"dataframe\">\n",
       "  <thead>\n",
       "    <tr style=\"text-align: right;\">\n",
       "      <th></th>\n",
       "      <th>Rank</th>\n",
       "      <th>Name</th>\n",
       "      <th>Platform</th>\n",
       "      <th>Year</th>\n",
       "      <th>Genre</th>\n",
       "      <th>Publisher</th>\n",
       "      <th>NA_Sales</th>\n",
       "      <th>EU_Sales</th>\n",
       "      <th>JP_Sales</th>\n",
       "      <th>Other_Sales</th>\n",
       "      <th>Global_Sales</th>\n",
       "    </tr>\n",
       "  </thead>\n",
       "  <tbody>\n",
       "    <tr>\n",
       "      <th>0</th>\n",
       "      <td>1</td>\n",
       "      <td>Wii Sports</td>\n",
       "      <td>Wii</td>\n",
       "      <td>2006.0</td>\n",
       "      <td>Sports</td>\n",
       "      <td>Nintendo</td>\n",
       "      <td>41.49</td>\n",
       "      <td>29.02</td>\n",
       "      <td>3.77</td>\n",
       "      <td>8.46</td>\n",
       "      <td>82.74</td>\n",
       "    </tr>\n",
       "    <tr>\n",
       "      <th>1</th>\n",
       "      <td>2</td>\n",
       "      <td>Super Mario Bros.</td>\n",
       "      <td>NES</td>\n",
       "      <td>1985.0</td>\n",
       "      <td>Platform</td>\n",
       "      <td>Nintendo</td>\n",
       "      <td>29.08</td>\n",
       "      <td>3.58</td>\n",
       "      <td>6.81</td>\n",
       "      <td>0.77</td>\n",
       "      <td>40.24</td>\n",
       "    </tr>\n",
       "    <tr>\n",
       "      <th>2</th>\n",
       "      <td>3</td>\n",
       "      <td>Mario Kart Wii</td>\n",
       "      <td>Wii</td>\n",
       "      <td>2008.0</td>\n",
       "      <td>Racing</td>\n",
       "      <td>Nintendo</td>\n",
       "      <td>15.85</td>\n",
       "      <td>12.88</td>\n",
       "      <td>3.79</td>\n",
       "      <td>3.31</td>\n",
       "      <td>35.82</td>\n",
       "    </tr>\n",
       "    <tr>\n",
       "      <th>3</th>\n",
       "      <td>4</td>\n",
       "      <td>Wii Sports Resort</td>\n",
       "      <td>Wii</td>\n",
       "      <td>2009.0</td>\n",
       "      <td>Sports</td>\n",
       "      <td>Nintendo</td>\n",
       "      <td>15.75</td>\n",
       "      <td>11.01</td>\n",
       "      <td>3.28</td>\n",
       "      <td>2.96</td>\n",
       "      <td>33.00</td>\n",
       "    </tr>\n",
       "    <tr>\n",
       "      <th>4</th>\n",
       "      <td>5</td>\n",
       "      <td>Pokemon Red/Pokemon Blue</td>\n",
       "      <td>GB</td>\n",
       "      <td>1996.0</td>\n",
       "      <td>Role-Playing</td>\n",
       "      <td>Nintendo</td>\n",
       "      <td>11.27</td>\n",
       "      <td>8.89</td>\n",
       "      <td>10.22</td>\n",
       "      <td>1.00</td>\n",
       "      <td>31.37</td>\n",
       "    </tr>\n",
       "  </tbody>\n",
       "</table>\n",
       "</div>"
      ],
      "text/plain": [
       "   Rank                      Name Platform    Year         Genre Publisher  \\\n",
       "0     1                Wii Sports      Wii  2006.0        Sports  Nintendo   \n",
       "1     2         Super Mario Bros.      NES  1985.0      Platform  Nintendo   \n",
       "2     3            Mario Kart Wii      Wii  2008.0        Racing  Nintendo   \n",
       "3     4         Wii Sports Resort      Wii  2009.0        Sports  Nintendo   \n",
       "4     5  Pokemon Red/Pokemon Blue       GB  1996.0  Role-Playing  Nintendo   \n",
       "\n",
       "   NA_Sales  EU_Sales  JP_Sales  Other_Sales  Global_Sales  \n",
       "0     41.49     29.02      3.77         8.46         82.74  \n",
       "1     29.08      3.58      6.81         0.77         40.24  \n",
       "2     15.85     12.88      3.79         3.31         35.82  \n",
       "3     15.75     11.01      3.28         2.96         33.00  \n",
       "4     11.27      8.89     10.22         1.00         31.37  "
      ]
     },
     "execution_count": 75,
     "metadata": {},
     "output_type": "execute_result"
    }
   ],
   "source": [
    "vgdata.head()"
   ]
  },
  {
   "cell_type": "code",
   "execution_count": 76,
   "metadata": {},
   "outputs": [
    {
     "data": {
      "text/html": [
       "<div>\n",
       "<style scoped>\n",
       "    .dataframe tbody tr th:only-of-type {\n",
       "        vertical-align: middle;\n",
       "    }\n",
       "\n",
       "    .dataframe tbody tr th {\n",
       "        vertical-align: top;\n",
       "    }\n",
       "\n",
       "    .dataframe thead th {\n",
       "        text-align: right;\n",
       "    }\n",
       "</style>\n",
       "<table border=\"1\" class=\"dataframe\">\n",
       "  <thead>\n",
       "    <tr style=\"text-align: right;\">\n",
       "      <th></th>\n",
       "      <th>Rank</th>\n",
       "      <th>Name</th>\n",
       "      <th>Platform</th>\n",
       "      <th>Year</th>\n",
       "      <th>Genre</th>\n",
       "      <th>Publisher</th>\n",
       "      <th>NA_Sales</th>\n",
       "      <th>EU_Sales</th>\n",
       "      <th>JP_Sales</th>\n",
       "      <th>Other_Sales</th>\n",
       "      <th>Global_Sales</th>\n",
       "    </tr>\n",
       "  </thead>\n",
       "  <tbody>\n",
       "    <tr>\n",
       "      <th>0</th>\n",
       "      <td>1</td>\n",
       "      <td>Wii Sports</td>\n",
       "      <td>Wii</td>\n",
       "      <td>2006.0</td>\n",
       "      <td>Sports</td>\n",
       "      <td>Nintendo</td>\n",
       "      <td>41.49</td>\n",
       "      <td>29.02</td>\n",
       "      <td>3.77</td>\n",
       "      <td>8.46</td>\n",
       "      <td>82.74</td>\n",
       "    </tr>\n",
       "    <tr>\n",
       "      <th>1</th>\n",
       "      <td>2</td>\n",
       "      <td>Super Mario Bros.</td>\n",
       "      <td>NES</td>\n",
       "      <td>1985.0</td>\n",
       "      <td>Platform</td>\n",
       "      <td>Nintendo</td>\n",
       "      <td>29.08</td>\n",
       "      <td>3.58</td>\n",
       "      <td>6.81</td>\n",
       "      <td>0.77</td>\n",
       "      <td>40.24</td>\n",
       "    </tr>\n",
       "    <tr>\n",
       "      <th>2</th>\n",
       "      <td>3</td>\n",
       "      <td>Mario Kart Wii</td>\n",
       "      <td>Wii</td>\n",
       "      <td>2008.0</td>\n",
       "      <td>Racing</td>\n",
       "      <td>Nintendo</td>\n",
       "      <td>15.85</td>\n",
       "      <td>12.88</td>\n",
       "      <td>3.79</td>\n",
       "      <td>3.31</td>\n",
       "      <td>35.82</td>\n",
       "    </tr>\n",
       "    <tr>\n",
       "      <th>3</th>\n",
       "      <td>4</td>\n",
       "      <td>Wii Sports Resort</td>\n",
       "      <td>Wii</td>\n",
       "      <td>2009.0</td>\n",
       "      <td>Sports</td>\n",
       "      <td>Nintendo</td>\n",
       "      <td>15.75</td>\n",
       "      <td>11.01</td>\n",
       "      <td>3.28</td>\n",
       "      <td>2.96</td>\n",
       "      <td>33.00</td>\n",
       "    </tr>\n",
       "    <tr>\n",
       "      <th>4</th>\n",
       "      <td>5</td>\n",
       "      <td>Pokemon Red/Pokemon Blue</td>\n",
       "      <td>GB</td>\n",
       "      <td>1996.0</td>\n",
       "      <td>Role-Playing</td>\n",
       "      <td>Nintendo</td>\n",
       "      <td>11.27</td>\n",
       "      <td>8.89</td>\n",
       "      <td>10.22</td>\n",
       "      <td>1.00</td>\n",
       "      <td>31.37</td>\n",
       "    </tr>\n",
       "  </tbody>\n",
       "</table>\n",
       "</div>"
      ],
      "text/plain": [
       "   Rank                      Name Platform    Year         Genre Publisher  \\\n",
       "0     1                Wii Sports      Wii  2006.0        Sports  Nintendo   \n",
       "1     2         Super Mario Bros.      NES  1985.0      Platform  Nintendo   \n",
       "2     3            Mario Kart Wii      Wii  2008.0        Racing  Nintendo   \n",
       "3     4         Wii Sports Resort      Wii  2009.0        Sports  Nintendo   \n",
       "4     5  Pokemon Red/Pokemon Blue       GB  1996.0  Role-Playing  Nintendo   \n",
       "\n",
       "   NA_Sales  EU_Sales  JP_Sales  Other_Sales  Global_Sales  \n",
       "0     41.49     29.02      3.77         8.46         82.74  \n",
       "1     29.08      3.58      6.81         0.77         40.24  \n",
       "2     15.85     12.88      3.79         3.31         35.82  \n",
       "3     15.75     11.01      3.28         2.96         33.00  \n",
       "4     11.27      8.89     10.22         1.00         31.37  "
      ]
     },
     "execution_count": 76,
     "metadata": {},
     "output_type": "execute_result"
    }
   ],
   "source": [
    "vgdata.sort_values('Global_Sales',ascending=False).head(5)"
   ]
  },
  {
   "cell_type": "markdown",
   "metadata": {},
   "source": [
    "# 5.1 Pie chart on finding what genres of games are mostly presented"
   ]
  },
  {
   "cell_type": "code",
   "execution_count": 127,
   "metadata": {},
   "outputs": [],
   "source": [
    "genresandgames=  vgdata.groupby('Genre')['Name'].count().reset_index().sort_values(\"Name\",ascending=False)\n",
    "genresandgames = genresandgames.reset_index()\n",
    "genresandgames.drop(\"index\",axis = 1,inplace=True)\n",
    "\n",
    "#data preparation \n"
   ]
  },
  {
   "cell_type": "markdown",
   "metadata": {},
   "source": [
    "First of all we should do grouping by genre, and count the number of appearances in dataset , so we can plot it on the graph . "
   ]
  },
  {
   "cell_type": "code",
   "execution_count": 147,
   "metadata": {},
   "outputs": [
    {
     "data": {
      "application/vnd.plotly.v1+json": {
       "config": {
        "plotlyServerURL": "https://plot.ly"
       },
       "data": [
        {
         "hole": 0.3,
         "labels": [
          "Action",
          "Sports",
          "Misc",
          "Role-Playing",
          "Shooter",
          "Adventure",
          "Racing",
          "Platform",
          "Simulation",
          "Fighting",
          "Strategy",
          "Puzzle"
         ],
         "textfont": {
          "size": 15
         },
         "textinfo": "percent",
         "type": "pie",
         "values": [
          3251,
          2304,
          1686,
          1470,
          1282,
          1274,
          1225,
          875,
          848,
          836,
          670,
          570
         ]
        }
       ],
       "layout": {
        "template": {
         "data": {
          "bar": [
           {
            "error_x": {
             "color": "#2a3f5f"
            },
            "error_y": {
             "color": "#2a3f5f"
            },
            "marker": {
             "line": {
              "color": "#E5ECF6",
              "width": 0.5
             }
            },
            "type": "bar"
           }
          ],
          "barpolar": [
           {
            "marker": {
             "line": {
              "color": "#E5ECF6",
              "width": 0.5
             }
            },
            "type": "barpolar"
           }
          ],
          "carpet": [
           {
            "aaxis": {
             "endlinecolor": "#2a3f5f",
             "gridcolor": "white",
             "linecolor": "white",
             "minorgridcolor": "white",
             "startlinecolor": "#2a3f5f"
            },
            "baxis": {
             "endlinecolor": "#2a3f5f",
             "gridcolor": "white",
             "linecolor": "white",
             "minorgridcolor": "white",
             "startlinecolor": "#2a3f5f"
            },
            "type": "carpet"
           }
          ],
          "choropleth": [
           {
            "colorbar": {
             "outlinewidth": 0,
             "ticks": ""
            },
            "type": "choropleth"
           }
          ],
          "contour": [
           {
            "colorbar": {
             "outlinewidth": 0,
             "ticks": ""
            },
            "colorscale": [
             [
              0,
              "#0d0887"
             ],
             [
              0.1111111111111111,
              "#46039f"
             ],
             [
              0.2222222222222222,
              "#7201a8"
             ],
             [
              0.3333333333333333,
              "#9c179e"
             ],
             [
              0.4444444444444444,
              "#bd3786"
             ],
             [
              0.5555555555555556,
              "#d8576b"
             ],
             [
              0.6666666666666666,
              "#ed7953"
             ],
             [
              0.7777777777777778,
              "#fb9f3a"
             ],
             [
              0.8888888888888888,
              "#fdca26"
             ],
             [
              1,
              "#f0f921"
             ]
            ],
            "type": "contour"
           }
          ],
          "contourcarpet": [
           {
            "colorbar": {
             "outlinewidth": 0,
             "ticks": ""
            },
            "type": "contourcarpet"
           }
          ],
          "heatmap": [
           {
            "colorbar": {
             "outlinewidth": 0,
             "ticks": ""
            },
            "colorscale": [
             [
              0,
              "#0d0887"
             ],
             [
              0.1111111111111111,
              "#46039f"
             ],
             [
              0.2222222222222222,
              "#7201a8"
             ],
             [
              0.3333333333333333,
              "#9c179e"
             ],
             [
              0.4444444444444444,
              "#bd3786"
             ],
             [
              0.5555555555555556,
              "#d8576b"
             ],
             [
              0.6666666666666666,
              "#ed7953"
             ],
             [
              0.7777777777777778,
              "#fb9f3a"
             ],
             [
              0.8888888888888888,
              "#fdca26"
             ],
             [
              1,
              "#f0f921"
             ]
            ],
            "type": "heatmap"
           }
          ],
          "heatmapgl": [
           {
            "colorbar": {
             "outlinewidth": 0,
             "ticks": ""
            },
            "colorscale": [
             [
              0,
              "#0d0887"
             ],
             [
              0.1111111111111111,
              "#46039f"
             ],
             [
              0.2222222222222222,
              "#7201a8"
             ],
             [
              0.3333333333333333,
              "#9c179e"
             ],
             [
              0.4444444444444444,
              "#bd3786"
             ],
             [
              0.5555555555555556,
              "#d8576b"
             ],
             [
              0.6666666666666666,
              "#ed7953"
             ],
             [
              0.7777777777777778,
              "#fb9f3a"
             ],
             [
              0.8888888888888888,
              "#fdca26"
             ],
             [
              1,
              "#f0f921"
             ]
            ],
            "type": "heatmapgl"
           }
          ],
          "histogram": [
           {
            "marker": {
             "colorbar": {
              "outlinewidth": 0,
              "ticks": ""
             }
            },
            "type": "histogram"
           }
          ],
          "histogram2d": [
           {
            "colorbar": {
             "outlinewidth": 0,
             "ticks": ""
            },
            "colorscale": [
             [
              0,
              "#0d0887"
             ],
             [
              0.1111111111111111,
              "#46039f"
             ],
             [
              0.2222222222222222,
              "#7201a8"
             ],
             [
              0.3333333333333333,
              "#9c179e"
             ],
             [
              0.4444444444444444,
              "#bd3786"
             ],
             [
              0.5555555555555556,
              "#d8576b"
             ],
             [
              0.6666666666666666,
              "#ed7953"
             ],
             [
              0.7777777777777778,
              "#fb9f3a"
             ],
             [
              0.8888888888888888,
              "#fdca26"
             ],
             [
              1,
              "#f0f921"
             ]
            ],
            "type": "histogram2d"
           }
          ],
          "histogram2dcontour": [
           {
            "colorbar": {
             "outlinewidth": 0,
             "ticks": ""
            },
            "colorscale": [
             [
              0,
              "#0d0887"
             ],
             [
              0.1111111111111111,
              "#46039f"
             ],
             [
              0.2222222222222222,
              "#7201a8"
             ],
             [
              0.3333333333333333,
              "#9c179e"
             ],
             [
              0.4444444444444444,
              "#bd3786"
             ],
             [
              0.5555555555555556,
              "#d8576b"
             ],
             [
              0.6666666666666666,
              "#ed7953"
             ],
             [
              0.7777777777777778,
              "#fb9f3a"
             ],
             [
              0.8888888888888888,
              "#fdca26"
             ],
             [
              1,
              "#f0f921"
             ]
            ],
            "type": "histogram2dcontour"
           }
          ],
          "mesh3d": [
           {
            "colorbar": {
             "outlinewidth": 0,
             "ticks": ""
            },
            "type": "mesh3d"
           }
          ],
          "parcoords": [
           {
            "line": {
             "colorbar": {
              "outlinewidth": 0,
              "ticks": ""
             }
            },
            "type": "parcoords"
           }
          ],
          "pie": [
           {
            "automargin": true,
            "type": "pie"
           }
          ],
          "scatter": [
           {
            "marker": {
             "colorbar": {
              "outlinewidth": 0,
              "ticks": ""
             }
            },
            "type": "scatter"
           }
          ],
          "scatter3d": [
           {
            "line": {
             "colorbar": {
              "outlinewidth": 0,
              "ticks": ""
             }
            },
            "marker": {
             "colorbar": {
              "outlinewidth": 0,
              "ticks": ""
             }
            },
            "type": "scatter3d"
           }
          ],
          "scattercarpet": [
           {
            "marker": {
             "colorbar": {
              "outlinewidth": 0,
              "ticks": ""
             }
            },
            "type": "scattercarpet"
           }
          ],
          "scattergeo": [
           {
            "marker": {
             "colorbar": {
              "outlinewidth": 0,
              "ticks": ""
             }
            },
            "type": "scattergeo"
           }
          ],
          "scattergl": [
           {
            "marker": {
             "colorbar": {
              "outlinewidth": 0,
              "ticks": ""
             }
            },
            "type": "scattergl"
           }
          ],
          "scattermapbox": [
           {
            "marker": {
             "colorbar": {
              "outlinewidth": 0,
              "ticks": ""
             }
            },
            "type": "scattermapbox"
           }
          ],
          "scatterpolar": [
           {
            "marker": {
             "colorbar": {
              "outlinewidth": 0,
              "ticks": ""
             }
            },
            "type": "scatterpolar"
           }
          ],
          "scatterpolargl": [
           {
            "marker": {
             "colorbar": {
              "outlinewidth": 0,
              "ticks": ""
             }
            },
            "type": "scatterpolargl"
           }
          ],
          "scatterternary": [
           {
            "marker": {
             "colorbar": {
              "outlinewidth": 0,
              "ticks": ""
             }
            },
            "type": "scatterternary"
           }
          ],
          "surface": [
           {
            "colorbar": {
             "outlinewidth": 0,
             "ticks": ""
            },
            "colorscale": [
             [
              0,
              "#0d0887"
             ],
             [
              0.1111111111111111,
              "#46039f"
             ],
             [
              0.2222222222222222,
              "#7201a8"
             ],
             [
              0.3333333333333333,
              "#9c179e"
             ],
             [
              0.4444444444444444,
              "#bd3786"
             ],
             [
              0.5555555555555556,
              "#d8576b"
             ],
             [
              0.6666666666666666,
              "#ed7953"
             ],
             [
              0.7777777777777778,
              "#fb9f3a"
             ],
             [
              0.8888888888888888,
              "#fdca26"
             ],
             [
              1,
              "#f0f921"
             ]
            ],
            "type": "surface"
           }
          ],
          "table": [
           {
            "cells": {
             "fill": {
              "color": "#EBF0F8"
             },
             "line": {
              "color": "white"
             }
            },
            "header": {
             "fill": {
              "color": "#C8D4E3"
             },
             "line": {
              "color": "white"
             }
            },
            "type": "table"
           }
          ]
         },
         "layout": {
          "annotationdefaults": {
           "arrowcolor": "#2a3f5f",
           "arrowhead": 0,
           "arrowwidth": 1
          },
          "autotypenumbers": "strict",
          "coloraxis": {
           "colorbar": {
            "outlinewidth": 0,
            "ticks": ""
           }
          },
          "colorscale": {
           "diverging": [
            [
             0,
             "#8e0152"
            ],
            [
             0.1,
             "#c51b7d"
            ],
            [
             0.2,
             "#de77ae"
            ],
            [
             0.3,
             "#f1b6da"
            ],
            [
             0.4,
             "#fde0ef"
            ],
            [
             0.5,
             "#f7f7f7"
            ],
            [
             0.6,
             "#e6f5d0"
            ],
            [
             0.7,
             "#b8e186"
            ],
            [
             0.8,
             "#7fbc41"
            ],
            [
             0.9,
             "#4d9221"
            ],
            [
             1,
             "#276419"
            ]
           ],
           "sequential": [
            [
             0,
             "#0d0887"
            ],
            [
             0.1111111111111111,
             "#46039f"
            ],
            [
             0.2222222222222222,
             "#7201a8"
            ],
            [
             0.3333333333333333,
             "#9c179e"
            ],
            [
             0.4444444444444444,
             "#bd3786"
            ],
            [
             0.5555555555555556,
             "#d8576b"
            ],
            [
             0.6666666666666666,
             "#ed7953"
            ],
            [
             0.7777777777777778,
             "#fb9f3a"
            ],
            [
             0.8888888888888888,
             "#fdca26"
            ],
            [
             1,
             "#f0f921"
            ]
           ],
           "sequentialminus": [
            [
             0,
             "#0d0887"
            ],
            [
             0.1111111111111111,
             "#46039f"
            ],
            [
             0.2222222222222222,
             "#7201a8"
            ],
            [
             0.3333333333333333,
             "#9c179e"
            ],
            [
             0.4444444444444444,
             "#bd3786"
            ],
            [
             0.5555555555555556,
             "#d8576b"
            ],
            [
             0.6666666666666666,
             "#ed7953"
            ],
            [
             0.7777777777777778,
             "#fb9f3a"
            ],
            [
             0.8888888888888888,
             "#fdca26"
            ],
            [
             1,
             "#f0f921"
            ]
           ]
          },
          "colorway": [
           "#636efa",
           "#EF553B",
           "#00cc96",
           "#ab63fa",
           "#FFA15A",
           "#19d3f3",
           "#FF6692",
           "#B6E880",
           "#FF97FF",
           "#FECB52"
          ],
          "font": {
           "color": "#2a3f5f"
          },
          "geo": {
           "bgcolor": "white",
           "lakecolor": "white",
           "landcolor": "#E5ECF6",
           "showlakes": true,
           "showland": true,
           "subunitcolor": "white"
          },
          "hoverlabel": {
           "align": "left"
          },
          "hovermode": "closest",
          "mapbox": {
           "style": "light"
          },
          "paper_bgcolor": "white",
          "plot_bgcolor": "#E5ECF6",
          "polar": {
           "angularaxis": {
            "gridcolor": "white",
            "linecolor": "white",
            "ticks": ""
           },
           "bgcolor": "#E5ECF6",
           "radialaxis": {
            "gridcolor": "white",
            "linecolor": "white",
            "ticks": ""
           }
          },
          "scene": {
           "xaxis": {
            "backgroundcolor": "#E5ECF6",
            "gridcolor": "white",
            "gridwidth": 2,
            "linecolor": "white",
            "showbackground": true,
            "ticks": "",
            "zerolinecolor": "white"
           },
           "yaxis": {
            "backgroundcolor": "#E5ECF6",
            "gridcolor": "white",
            "gridwidth": 2,
            "linecolor": "white",
            "showbackground": true,
            "ticks": "",
            "zerolinecolor": "white"
           },
           "zaxis": {
            "backgroundcolor": "#E5ECF6",
            "gridcolor": "white",
            "gridwidth": 2,
            "linecolor": "white",
            "showbackground": true,
            "ticks": "",
            "zerolinecolor": "white"
           }
          },
          "shapedefaults": {
           "line": {
            "color": "#2a3f5f"
           }
          },
          "ternary": {
           "aaxis": {
            "gridcolor": "white",
            "linecolor": "white",
            "ticks": ""
           },
           "baxis": {
            "gridcolor": "white",
            "linecolor": "white",
            "ticks": ""
           },
           "bgcolor": "#E5ECF6",
           "caxis": {
            "gridcolor": "white",
            "linecolor": "white",
            "ticks": ""
           }
          },
          "title": {
           "x": 0.05
          },
          "xaxis": {
           "automargin": true,
           "gridcolor": "white",
           "linecolor": "white",
           "ticks": "",
           "title": {
            "standoff": 15
           },
           "zerolinecolor": "white",
           "zerolinewidth": 2
          },
          "yaxis": {
           "automargin": true,
           "gridcolor": "white",
           "linecolor": "white",
           "ticks": "",
           "title": {
            "standoff": 15
           },
           "zerolinecolor": "white",
           "zerolinewidth": 2
          }
         }
        },
        "title": {
         "text": "Genre Games distribution"
        }
       }
      },
      "text/html": [
       "<div>                            <div id=\"5ccf57cf-4faf-488a-8b3e-d226c7500894\" class=\"plotly-graph-div\" style=\"height:525px; width:100%;\"></div>            <script type=\"text/javascript\">                require([\"plotly\"], function(Plotly) {                    window.PLOTLYENV=window.PLOTLYENV || {};                                    if (document.getElementById(\"5ccf57cf-4faf-488a-8b3e-d226c7500894\")) {                    Plotly.newPlot(                        \"5ccf57cf-4faf-488a-8b3e-d226c7500894\",                        [{\"hole\": 0.3, \"labels\": [\"Action\", \"Sports\", \"Misc\", \"Role-Playing\", \"Shooter\", \"Adventure\", \"Racing\", \"Platform\", \"Simulation\", \"Fighting\", \"Strategy\", \"Puzzle\"], \"textfont\": {\"size\": 15}, \"textinfo\": \"percent\", \"type\": \"pie\", \"values\": [3251, 2304, 1686, 1470, 1282, 1274, 1225, 875, 848, 836, 670, 570]}],                        {\"template\": {\"data\": {\"bar\": [{\"error_x\": {\"color\": \"#2a3f5f\"}, \"error_y\": {\"color\": \"#2a3f5f\"}, \"marker\": {\"line\": {\"color\": \"#E5ECF6\", \"width\": 0.5}}, \"type\": \"bar\"}], \"barpolar\": [{\"marker\": {\"line\": {\"color\": \"#E5ECF6\", \"width\": 0.5}}, \"type\": \"barpolar\"}], \"carpet\": [{\"aaxis\": {\"endlinecolor\": \"#2a3f5f\", \"gridcolor\": \"white\", \"linecolor\": \"white\", \"minorgridcolor\": \"white\", \"startlinecolor\": \"#2a3f5f\"}, \"baxis\": {\"endlinecolor\": \"#2a3f5f\", \"gridcolor\": \"white\", \"linecolor\": \"white\", \"minorgridcolor\": \"white\", \"startlinecolor\": \"#2a3f5f\"}, \"type\": \"carpet\"}], \"choropleth\": [{\"colorbar\": {\"outlinewidth\": 0, \"ticks\": \"\"}, \"type\": \"choropleth\"}], \"contour\": [{\"colorbar\": {\"outlinewidth\": 0, \"ticks\": \"\"}, \"colorscale\": [[0.0, \"#0d0887\"], [0.1111111111111111, \"#46039f\"], [0.2222222222222222, \"#7201a8\"], [0.3333333333333333, \"#9c179e\"], [0.4444444444444444, \"#bd3786\"], [0.5555555555555556, \"#d8576b\"], [0.6666666666666666, \"#ed7953\"], [0.7777777777777778, \"#fb9f3a\"], [0.8888888888888888, \"#fdca26\"], [1.0, \"#f0f921\"]], \"type\": \"contour\"}], \"contourcarpet\": [{\"colorbar\": {\"outlinewidth\": 0, \"ticks\": \"\"}, \"type\": \"contourcarpet\"}], \"heatmap\": [{\"colorbar\": {\"outlinewidth\": 0, \"ticks\": \"\"}, \"colorscale\": [[0.0, \"#0d0887\"], [0.1111111111111111, \"#46039f\"], [0.2222222222222222, \"#7201a8\"], [0.3333333333333333, \"#9c179e\"], [0.4444444444444444, \"#bd3786\"], [0.5555555555555556, \"#d8576b\"], [0.6666666666666666, \"#ed7953\"], [0.7777777777777778, \"#fb9f3a\"], [0.8888888888888888, \"#fdca26\"], [1.0, \"#f0f921\"]], \"type\": \"heatmap\"}], \"heatmapgl\": [{\"colorbar\": {\"outlinewidth\": 0, \"ticks\": \"\"}, \"colorscale\": [[0.0, \"#0d0887\"], [0.1111111111111111, \"#46039f\"], [0.2222222222222222, \"#7201a8\"], [0.3333333333333333, \"#9c179e\"], [0.4444444444444444, \"#bd3786\"], [0.5555555555555556, \"#d8576b\"], [0.6666666666666666, \"#ed7953\"], [0.7777777777777778, \"#fb9f3a\"], [0.8888888888888888, \"#fdca26\"], [1.0, \"#f0f921\"]], \"type\": \"heatmapgl\"}], \"histogram\": [{\"marker\": {\"colorbar\": {\"outlinewidth\": 0, \"ticks\": \"\"}}, \"type\": \"histogram\"}], \"histogram2d\": [{\"colorbar\": {\"outlinewidth\": 0, \"ticks\": \"\"}, \"colorscale\": [[0.0, \"#0d0887\"], [0.1111111111111111, \"#46039f\"], [0.2222222222222222, \"#7201a8\"], [0.3333333333333333, \"#9c179e\"], [0.4444444444444444, \"#bd3786\"], [0.5555555555555556, \"#d8576b\"], [0.6666666666666666, \"#ed7953\"], [0.7777777777777778, \"#fb9f3a\"], [0.8888888888888888, \"#fdca26\"], [1.0, \"#f0f921\"]], \"type\": \"histogram2d\"}], \"histogram2dcontour\": [{\"colorbar\": {\"outlinewidth\": 0, \"ticks\": \"\"}, \"colorscale\": [[0.0, \"#0d0887\"], [0.1111111111111111, \"#46039f\"], [0.2222222222222222, \"#7201a8\"], [0.3333333333333333, \"#9c179e\"], [0.4444444444444444, \"#bd3786\"], [0.5555555555555556, \"#d8576b\"], [0.6666666666666666, \"#ed7953\"], [0.7777777777777778, \"#fb9f3a\"], [0.8888888888888888, \"#fdca26\"], [1.0, \"#f0f921\"]], \"type\": \"histogram2dcontour\"}], \"mesh3d\": [{\"colorbar\": {\"outlinewidth\": 0, \"ticks\": \"\"}, \"type\": \"mesh3d\"}], \"parcoords\": [{\"line\": {\"colorbar\": {\"outlinewidth\": 0, \"ticks\": \"\"}}, \"type\": \"parcoords\"}], \"pie\": [{\"automargin\": true, \"type\": \"pie\"}], \"scatter\": [{\"marker\": {\"colorbar\": {\"outlinewidth\": 0, \"ticks\": \"\"}}, \"type\": \"scatter\"}], \"scatter3d\": [{\"line\": {\"colorbar\": {\"outlinewidth\": 0, \"ticks\": \"\"}}, \"marker\": {\"colorbar\": {\"outlinewidth\": 0, \"ticks\": \"\"}}, \"type\": \"scatter3d\"}], \"scattercarpet\": [{\"marker\": {\"colorbar\": {\"outlinewidth\": 0, \"ticks\": \"\"}}, \"type\": \"scattercarpet\"}], \"scattergeo\": [{\"marker\": {\"colorbar\": {\"outlinewidth\": 0, \"ticks\": \"\"}}, \"type\": \"scattergeo\"}], \"scattergl\": [{\"marker\": {\"colorbar\": {\"outlinewidth\": 0, \"ticks\": \"\"}}, \"type\": \"scattergl\"}], \"scattermapbox\": [{\"marker\": {\"colorbar\": {\"outlinewidth\": 0, \"ticks\": \"\"}}, \"type\": \"scattermapbox\"}], \"scatterpolar\": [{\"marker\": {\"colorbar\": {\"outlinewidth\": 0, \"ticks\": \"\"}}, \"type\": \"scatterpolar\"}], \"scatterpolargl\": [{\"marker\": {\"colorbar\": {\"outlinewidth\": 0, \"ticks\": \"\"}}, \"type\": \"scatterpolargl\"}], \"scatterternary\": [{\"marker\": {\"colorbar\": {\"outlinewidth\": 0, \"ticks\": \"\"}}, \"type\": \"scatterternary\"}], \"surface\": [{\"colorbar\": {\"outlinewidth\": 0, \"ticks\": \"\"}, \"colorscale\": [[0.0, \"#0d0887\"], [0.1111111111111111, \"#46039f\"], [0.2222222222222222, \"#7201a8\"], [0.3333333333333333, \"#9c179e\"], [0.4444444444444444, \"#bd3786\"], [0.5555555555555556, \"#d8576b\"], [0.6666666666666666, \"#ed7953\"], [0.7777777777777778, \"#fb9f3a\"], [0.8888888888888888, \"#fdca26\"], [1.0, \"#f0f921\"]], \"type\": \"surface\"}], \"table\": [{\"cells\": {\"fill\": {\"color\": \"#EBF0F8\"}, \"line\": {\"color\": \"white\"}}, \"header\": {\"fill\": {\"color\": \"#C8D4E3\"}, \"line\": {\"color\": \"white\"}}, \"type\": \"table\"}]}, \"layout\": {\"annotationdefaults\": {\"arrowcolor\": \"#2a3f5f\", \"arrowhead\": 0, \"arrowwidth\": 1}, \"autotypenumbers\": \"strict\", \"coloraxis\": {\"colorbar\": {\"outlinewidth\": 0, \"ticks\": \"\"}}, \"colorscale\": {\"diverging\": [[0, \"#8e0152\"], [0.1, \"#c51b7d\"], [0.2, \"#de77ae\"], [0.3, \"#f1b6da\"], [0.4, \"#fde0ef\"], [0.5, \"#f7f7f7\"], [0.6, \"#e6f5d0\"], [0.7, \"#b8e186\"], [0.8, \"#7fbc41\"], [0.9, \"#4d9221\"], [1, \"#276419\"]], \"sequential\": [[0.0, \"#0d0887\"], [0.1111111111111111, \"#46039f\"], [0.2222222222222222, \"#7201a8\"], [0.3333333333333333, \"#9c179e\"], [0.4444444444444444, \"#bd3786\"], [0.5555555555555556, \"#d8576b\"], [0.6666666666666666, \"#ed7953\"], [0.7777777777777778, \"#fb9f3a\"], [0.8888888888888888, \"#fdca26\"], [1.0, \"#f0f921\"]], \"sequentialminus\": [[0.0, \"#0d0887\"], [0.1111111111111111, \"#46039f\"], [0.2222222222222222, \"#7201a8\"], [0.3333333333333333, \"#9c179e\"], [0.4444444444444444, \"#bd3786\"], [0.5555555555555556, \"#d8576b\"], [0.6666666666666666, \"#ed7953\"], [0.7777777777777778, \"#fb9f3a\"], [0.8888888888888888, \"#fdca26\"], [1.0, \"#f0f921\"]]}, \"colorway\": [\"#636efa\", \"#EF553B\", \"#00cc96\", \"#ab63fa\", \"#FFA15A\", \"#19d3f3\", \"#FF6692\", \"#B6E880\", \"#FF97FF\", \"#FECB52\"], \"font\": {\"color\": \"#2a3f5f\"}, \"geo\": {\"bgcolor\": \"white\", \"lakecolor\": \"white\", \"landcolor\": \"#E5ECF6\", \"showlakes\": true, \"showland\": true, \"subunitcolor\": \"white\"}, \"hoverlabel\": {\"align\": \"left\"}, \"hovermode\": \"closest\", \"mapbox\": {\"style\": \"light\"}, \"paper_bgcolor\": \"white\", \"plot_bgcolor\": \"#E5ECF6\", \"polar\": {\"angularaxis\": {\"gridcolor\": \"white\", \"linecolor\": \"white\", \"ticks\": \"\"}, \"bgcolor\": \"#E5ECF6\", \"radialaxis\": {\"gridcolor\": \"white\", \"linecolor\": \"white\", \"ticks\": \"\"}}, \"scene\": {\"xaxis\": {\"backgroundcolor\": \"#E5ECF6\", \"gridcolor\": \"white\", \"gridwidth\": 2, \"linecolor\": \"white\", \"showbackground\": true, \"ticks\": \"\", \"zerolinecolor\": \"white\"}, \"yaxis\": {\"backgroundcolor\": \"#E5ECF6\", \"gridcolor\": \"white\", \"gridwidth\": 2, \"linecolor\": \"white\", \"showbackground\": true, \"ticks\": \"\", \"zerolinecolor\": \"white\"}, \"zaxis\": {\"backgroundcolor\": \"#E5ECF6\", \"gridcolor\": \"white\", \"gridwidth\": 2, \"linecolor\": \"white\", \"showbackground\": true, \"ticks\": \"\", \"zerolinecolor\": \"white\"}}, \"shapedefaults\": {\"line\": {\"color\": \"#2a3f5f\"}}, \"ternary\": {\"aaxis\": {\"gridcolor\": \"white\", \"linecolor\": \"white\", \"ticks\": \"\"}, \"baxis\": {\"gridcolor\": \"white\", \"linecolor\": \"white\", \"ticks\": \"\"}, \"bgcolor\": \"#E5ECF6\", \"caxis\": {\"gridcolor\": \"white\", \"linecolor\": \"white\", \"ticks\": \"\"}}, \"title\": {\"x\": 0.05}, \"xaxis\": {\"automargin\": true, \"gridcolor\": \"white\", \"linecolor\": \"white\", \"ticks\": \"\", \"title\": {\"standoff\": 15}, \"zerolinecolor\": \"white\", \"zerolinewidth\": 2}, \"yaxis\": {\"automargin\": true, \"gridcolor\": \"white\", \"linecolor\": \"white\", \"ticks\": \"\", \"title\": {\"standoff\": 15}, \"zerolinecolor\": \"white\", \"zerolinewidth\": 2}}}, \"title\": {\"text\": \"Genre Games distribution\"}},                        {\"responsive\": true}                    ).then(function(){\n",
       "                            \n",
       "var gd = document.getElementById('5ccf57cf-4faf-488a-8b3e-d226c7500894');\n",
       "var x = new MutationObserver(function (mutations, observer) {{\n",
       "        var display = window.getComputedStyle(gd).display;\n",
       "        if (!display || display === 'none') {{\n",
       "            console.log([gd, 'removed!']);\n",
       "            Plotly.purge(gd);\n",
       "            observer.disconnect();\n",
       "        }}\n",
       "}});\n",
       "\n",
       "// Listen for the removal of the full notebook cells\n",
       "var notebookContainer = gd.closest('#notebook-container');\n",
       "if (notebookContainer) {{\n",
       "    x.observe(notebookContainer, {childList: true});\n",
       "}}\n",
       "\n",
       "// Listen for the clearing of the current output cell\n",
       "var outputEl = gd.closest('.output');\n",
       "if (outputEl) {{\n",
       "    x.observe(outputEl, {childList: true});\n",
       "}}\n",
       "\n",
       "                        })                };                });            </script>        </div>"
      ]
     },
     "metadata": {},
     "output_type": "display_data"
    }
   ],
   "source": [
    "fig = go.Figure([go.Pie(labels=genresandgames['Genre'], \n",
    "                        values=genresandgames['Name'],\n",
    "                        hole=0.3)])  \n",
    "fig.update_traces( textinfo='percent', textfont_size=15)\n",
    "fig.update_layout(title=\"Genre Games distribution\")\n",
    "fig.show()"
   ]
  },
  {
   "cell_type": "markdown",
   "metadata": {},
   "source": [
    "Using plotly library in order to showing data of our pie chart with extracting percentages and their special colors on graph."
   ]
  },
  {
   "cell_type": "markdown",
   "metadata": {},
   "source": [
    "# 5.2 Top 5 publishers' incomes every year since 2006"
   ]
  },
  {
   "cell_type": "code",
   "execution_count": 116,
   "metadata": {},
   "outputs": [],
   "source": [
    "\n",
    "#data preparation \n",
    "\n",
    "top_5_publishers = ['Nintendo', 'Sony Computer Entertainment','Microsoft Game Studios','Konami Digital Entertainment','Electronic Arts']\n",
    "publ = vgdata.loc[:,[\"Year\",\"Publisher\",'Global_Sales']]\n",
    "publ['total_sales'] = publ.groupby([publ.Publisher,publ.Year])['Global_Sales'].transform('sum')\n",
    "publ.drop('Global_Sales', axis=1, inplace=True)\n",
    "publ = publ.drop_duplicates()\n",
    "publ = publ[(publ['Year']>=2006)]\n",
    "publ = publ.sort_values(\"Year\",ascending = False)\n",
    "publ = publ.loc[publ['Publisher'].isin(top_5_publishers)]\n",
    "publ = publ.sort_values(\"Year\")\n"
   ]
  },
  {
   "cell_type": "markdown",
   "metadata": {},
   "source": [
    "Creating list from 5 companies that we want to explore in this task . Then sorting it to make it start from 2006 and do apply many other in order having clear result with any duplicates . "
   ]
  },
  {
   "cell_type": "code",
   "execution_count": 122,
   "metadata": {},
   "outputs": [
    {
     "data": {
      "application/vnd.plotly.v1+json": {
       "config": {
        "plotlyServerURL": "https://plot.ly"
       },
       "data": [
        {
         "alignmentgroup": "True",
         "hovertemplate": "<b>%{hovertext}</b><br><br>Publisher=%{x}<br>Year=2006.0<br>total_sales=%{y}<extra></extra>",
         "hovertext": [
          "Nintendo"
         ],
         "ids": [
          "Nintendo"
         ],
         "legendgroup": "Nintendo",
         "marker": {
          "color": "#636efa"
         },
         "name": "Nintendo",
         "offsetgroup": "Nintendo",
         "orientation": "v",
         "showlegend": true,
         "textposition": "auto",
         "type": "bar",
         "x": [
          "Nintendo"
         ],
         "xaxis": "x",
         "y": [
          205.60999999999999
         ],
         "yaxis": "y"
        },
        {
         "alignmentgroup": "True",
         "hovertemplate": "<b>%{hovertext}</b><br><br>Publisher=%{x}<br>Year=2006.0<br>total_sales=%{y}<extra></extra>",
         "hovertext": [
          "Sony Computer Entertainment"
         ],
         "ids": [
          "Sony Computer Entertainment"
         ],
         "legendgroup": "Sony Computer Entertainment",
         "marker": {
          "color": "#EF553B"
         },
         "name": "Sony Computer Entertainment",
         "offsetgroup": "Sony Computer Entertainment",
         "orientation": "v",
         "showlegend": true,
         "textposition": "auto",
         "type": "bar",
         "x": [
          "Sony Computer Entertainment"
         ],
         "xaxis": "x",
         "y": [
          33.81
         ],
         "yaxis": "y"
        },
        {
         "alignmentgroup": "True",
         "hovertemplate": "<b>%{hovertext}</b><br><br>Publisher=%{x}<br>Year=2006.0<br>total_sales=%{y}<extra></extra>",
         "hovertext": [
          "Microsoft Game Studios"
         ],
         "ids": [
          "Microsoft Game Studios"
         ],
         "legendgroup": "Microsoft Game Studios",
         "marker": {
          "color": "#00cc96"
         },
         "name": "Microsoft Game Studios",
         "offsetgroup": "Microsoft Game Studios",
         "orientation": "v",
         "showlegend": true,
         "textposition": "auto",
         "type": "bar",
         "x": [
          "Microsoft Game Studios"
         ],
         "xaxis": "x",
         "y": [
          9.98
         ],
         "yaxis": "y"
        },
        {
         "alignmentgroup": "True",
         "hovertemplate": "<b>%{hovertext}</b><br><br>Publisher=%{x}<br>Year=2006.0<br>total_sales=%{y}<extra></extra>",
         "hovertext": [
          "Electronic Arts"
         ],
         "ids": [
          "Electronic Arts"
         ],
         "legendgroup": "Electronic Arts",
         "marker": {
          "color": "#ab63fa"
         },
         "name": "Electronic Arts",
         "offsetgroup": "Electronic Arts",
         "orientation": "v",
         "showlegend": true,
         "textposition": "auto",
         "type": "bar",
         "x": [
          "Electronic Arts"
         ],
         "xaxis": "x",
         "y": [
          58.410000000000025
         ],
         "yaxis": "y"
        },
        {
         "alignmentgroup": "True",
         "hovertemplate": "<b>%{hovertext}</b><br><br>Publisher=%{x}<br>Year=2006.0<br>total_sales=%{y}<extra></extra>",
         "hovertext": [
          "Konami Digital Entertainment"
         ],
         "ids": [
          "Konami Digital Entertainment"
         ],
         "legendgroup": "Konami Digital Entertainment",
         "marker": {
          "color": "#FFA15A"
         },
         "name": "Konami Digital Entertainment",
         "offsetgroup": "Konami Digital Entertainment",
         "orientation": "v",
         "showlegend": true,
         "textposition": "auto",
         "type": "bar",
         "x": [
          "Konami Digital Entertainment"
         ],
         "xaxis": "x",
         "y": [
          14.599999999999996
         ],
         "yaxis": "y"
        }
       ],
       "frames": [
        {
         "data": [
          {
           "alignmentgroup": "True",
           "hovertemplate": "<b>%{hovertext}</b><br><br>Publisher=%{x}<br>Year=2006.0<br>total_sales=%{y}<extra></extra>",
           "hovertext": [
            "Nintendo"
           ],
           "ids": [
            "Nintendo"
           ],
           "legendgroup": "Nintendo",
           "marker": {
            "color": "#636efa"
           },
           "name": "Nintendo",
           "offsetgroup": "Nintendo",
           "orientation": "v",
           "showlegend": true,
           "textposition": "auto",
           "type": "bar",
           "x": [
            "Nintendo"
           ],
           "xaxis": "x",
           "y": [
            205.60999999999999
           ],
           "yaxis": "y"
          },
          {
           "alignmentgroup": "True",
           "hovertemplate": "<b>%{hovertext}</b><br><br>Publisher=%{x}<br>Year=2006.0<br>total_sales=%{y}<extra></extra>",
           "hovertext": [
            "Sony Computer Entertainment"
           ],
           "ids": [
            "Sony Computer Entertainment"
           ],
           "legendgroup": "Sony Computer Entertainment",
           "marker": {
            "color": "#EF553B"
           },
           "name": "Sony Computer Entertainment",
           "offsetgroup": "Sony Computer Entertainment",
           "orientation": "v",
           "showlegend": true,
           "textposition": "auto",
           "type": "bar",
           "x": [
            "Sony Computer Entertainment"
           ],
           "xaxis": "x",
           "y": [
            33.81
           ],
           "yaxis": "y"
          },
          {
           "alignmentgroup": "True",
           "hovertemplate": "<b>%{hovertext}</b><br><br>Publisher=%{x}<br>Year=2006.0<br>total_sales=%{y}<extra></extra>",
           "hovertext": [
            "Microsoft Game Studios"
           ],
           "ids": [
            "Microsoft Game Studios"
           ],
           "legendgroup": "Microsoft Game Studios",
           "marker": {
            "color": "#00cc96"
           },
           "name": "Microsoft Game Studios",
           "offsetgroup": "Microsoft Game Studios",
           "orientation": "v",
           "showlegend": true,
           "textposition": "auto",
           "type": "bar",
           "x": [
            "Microsoft Game Studios"
           ],
           "xaxis": "x",
           "y": [
            9.98
           ],
           "yaxis": "y"
          },
          {
           "alignmentgroup": "True",
           "hovertemplate": "<b>%{hovertext}</b><br><br>Publisher=%{x}<br>Year=2006.0<br>total_sales=%{y}<extra></extra>",
           "hovertext": [
            "Electronic Arts"
           ],
           "ids": [
            "Electronic Arts"
           ],
           "legendgroup": "Electronic Arts",
           "marker": {
            "color": "#ab63fa"
           },
           "name": "Electronic Arts",
           "offsetgroup": "Electronic Arts",
           "orientation": "v",
           "showlegend": true,
           "textposition": "auto",
           "type": "bar",
           "x": [
            "Electronic Arts"
           ],
           "xaxis": "x",
           "y": [
            58.410000000000025
           ],
           "yaxis": "y"
          },
          {
           "alignmentgroup": "True",
           "hovertemplate": "<b>%{hovertext}</b><br><br>Publisher=%{x}<br>Year=2006.0<br>total_sales=%{y}<extra></extra>",
           "hovertext": [
            "Konami Digital Entertainment"
           ],
           "ids": [
            "Konami Digital Entertainment"
           ],
           "legendgroup": "Konami Digital Entertainment",
           "marker": {
            "color": "#FFA15A"
           },
           "name": "Konami Digital Entertainment",
           "offsetgroup": "Konami Digital Entertainment",
           "orientation": "v",
           "showlegend": true,
           "textposition": "auto",
           "type": "bar",
           "x": [
            "Konami Digital Entertainment"
           ],
           "xaxis": "x",
           "y": [
            14.599999999999996
           ],
           "yaxis": "y"
          }
         ],
         "name": "2006.0"
        },
        {
         "data": [
          {
           "alignmentgroup": "True",
           "hovertemplate": "<b>%{hovertext}</b><br><br>Publisher=%{x}<br>Year=2007.0<br>total_sales=%{y}<extra></extra>",
           "hovertext": [
            "Nintendo"
           ],
           "ids": [
            "Nintendo"
           ],
           "legendgroup": "Nintendo",
           "marker": {
            "color": "#636efa"
           },
           "name": "Nintendo",
           "offsetgroup": "Nintendo",
           "orientation": "v",
           "showlegend": true,
           "textposition": "auto",
           "type": "bar",
           "x": [
            "Nintendo"
           ],
           "xaxis": "x",
           "y": [
            104.18
           ],
           "yaxis": "y"
          },
          {
           "alignmentgroup": "True",
           "hovertemplate": "<b>%{hovertext}</b><br><br>Publisher=%{x}<br>Year=2007.0<br>total_sales=%{y}<extra></extra>",
           "hovertext": [
            "Sony Computer Entertainment"
           ],
           "ids": [
            "Sony Computer Entertainment"
           ],
           "legendgroup": "Sony Computer Entertainment",
           "marker": {
            "color": "#EF553B"
           },
           "name": "Sony Computer Entertainment",
           "offsetgroup": "Sony Computer Entertainment",
           "orientation": "v",
           "showlegend": true,
           "textposition": "auto",
           "type": "bar",
           "x": [
            "Sony Computer Entertainment"
           ],
           "xaxis": "x",
           "y": [
            37.54000000000002
           ],
           "yaxis": "y"
          },
          {
           "alignmentgroup": "True",
           "hovertemplate": "<b>%{hovertext}</b><br><br>Publisher=%{x}<br>Year=2007.0<br>total_sales=%{y}<extra></extra>",
           "hovertext": [
            "Microsoft Game Studios"
           ],
           "ids": [
            "Microsoft Game Studios"
           ],
           "legendgroup": "Microsoft Game Studios",
           "marker": {
            "color": "#00cc96"
           },
           "name": "Microsoft Game Studios",
           "offsetgroup": "Microsoft Game Studios",
           "orientation": "v",
           "showlegend": true,
           "textposition": "auto",
           "type": "bar",
           "x": [
            "Microsoft Game Studios"
           ],
           "xaxis": "x",
           "y": [
            26.100000000000005
           ],
           "yaxis": "y"
          },
          {
           "alignmentgroup": "True",
           "hovertemplate": "<b>%{hovertext}</b><br><br>Publisher=%{x}<br>Year=2007.0<br>total_sales=%{y}<extra></extra>",
           "hovertext": [
            "Electronic Arts"
           ],
           "ids": [
            "Electronic Arts"
           ],
           "legendgroup": "Electronic Arts",
           "marker": {
            "color": "#ab63fa"
           },
           "name": "Electronic Arts",
           "offsetgroup": "Electronic Arts",
           "orientation": "v",
           "showlegend": true,
           "textposition": "auto",
           "type": "bar",
           "x": [
            "Electronic Arts"
           ],
           "xaxis": "x",
           "y": [
            71.33
           ],
           "yaxis": "y"
          },
          {
           "alignmentgroup": "True",
           "hovertemplate": "<b>%{hovertext}</b><br><br>Publisher=%{x}<br>Year=2007.0<br>total_sales=%{y}<extra></extra>",
           "hovertext": [
            "Konami Digital Entertainment"
           ],
           "ids": [
            "Konami Digital Entertainment"
           ],
           "legendgroup": "Konami Digital Entertainment",
           "marker": {
            "color": "#FFA15A"
           },
           "name": "Konami Digital Entertainment",
           "offsetgroup": "Konami Digital Entertainment",
           "orientation": "v",
           "showlegend": true,
           "textposition": "auto",
           "type": "bar",
           "x": [
            "Konami Digital Entertainment"
           ],
           "xaxis": "x",
           "y": [
            17.21
           ],
           "yaxis": "y"
          }
         ],
         "name": "2007.0"
        },
        {
         "data": [
          {
           "alignmentgroup": "True",
           "hovertemplate": "<b>%{hovertext}</b><br><br>Publisher=%{x}<br>Year=2008.0<br>total_sales=%{y}<extra></extra>",
           "hovertext": [
            "Nintendo"
           ],
           "ids": [
            "Nintendo"
           ],
           "legendgroup": "Nintendo",
           "marker": {
            "color": "#636efa"
           },
           "name": "Nintendo",
           "offsetgroup": "Nintendo",
           "orientation": "v",
           "showlegend": true,
           "textposition": "auto",
           "type": "bar",
           "x": [
            "Nintendo"
           ],
           "xaxis": "x",
           "y": [
            91.22000000000004
           ],
           "yaxis": "y"
          },
          {
           "alignmentgroup": "True",
           "hovertemplate": "<b>%{hovertext}</b><br><br>Publisher=%{x}<br>Year=2008.0<br>total_sales=%{y}<extra></extra>",
           "hovertext": [
            "Sony Computer Entertainment"
           ],
           "ids": [
            "Sony Computer Entertainment"
           ],
           "legendgroup": "Sony Computer Entertainment",
           "marker": {
            "color": "#EF553B"
           },
           "name": "Sony Computer Entertainment",
           "offsetgroup": "Sony Computer Entertainment",
           "orientation": "v",
           "showlegend": true,
           "textposition": "auto",
           "type": "bar",
           "x": [
            "Sony Computer Entertainment"
           ],
           "xaxis": "x",
           "y": [
            26.639999999999997
           ],
           "yaxis": "y"
          },
          {
           "alignmentgroup": "True",
           "hovertemplate": "<b>%{hovertext}</b><br><br>Publisher=%{x}<br>Year=2008.0<br>total_sales=%{y}<extra></extra>",
           "hovertext": [
            "Microsoft Game Studios"
           ],
           "ids": [
            "Microsoft Game Studios"
           ],
           "legendgroup": "Microsoft Game Studios",
           "marker": {
            "color": "#00cc96"
           },
           "name": "Microsoft Game Studios",
           "offsetgroup": "Microsoft Game Studios",
           "orientation": "v",
           "showlegend": true,
           "textposition": "auto",
           "type": "bar",
           "x": [
            "Microsoft Game Studios"
           ],
           "xaxis": "x",
           "y": [
            15.309999999999999
           ],
           "yaxis": "y"
          },
          {
           "alignmentgroup": "True",
           "hovertemplate": "<b>%{hovertext}</b><br><br>Publisher=%{x}<br>Year=2008.0<br>total_sales=%{y}<extra></extra>",
           "hovertext": [
            "Electronic Arts"
           ],
           "ids": [
            "Electronic Arts"
           ],
           "legendgroup": "Electronic Arts",
           "marker": {
            "color": "#ab63fa"
           },
           "name": "Electronic Arts",
           "offsetgroup": "Electronic Arts",
           "orientation": "v",
           "showlegend": true,
           "textposition": "auto",
           "type": "bar",
           "x": [
            "Electronic Arts"
           ],
           "xaxis": "x",
           "y": [
            84.12
           ],
           "yaxis": "y"
          },
          {
           "alignmentgroup": "True",
           "hovertemplate": "<b>%{hovertext}</b><br><br>Publisher=%{x}<br>Year=2008.0<br>total_sales=%{y}<extra></extra>",
           "hovertext": [
            "Konami Digital Entertainment"
           ],
           "ids": [
            "Konami Digital Entertainment"
           ],
           "legendgroup": "Konami Digital Entertainment",
           "marker": {
            "color": "#FFA15A"
           },
           "name": "Konami Digital Entertainment",
           "offsetgroup": "Konami Digital Entertainment",
           "orientation": "v",
           "showlegend": true,
           "textposition": "auto",
           "type": "bar",
           "x": [
            "Konami Digital Entertainment"
           ],
           "xaxis": "x",
           "y": [
            27.819999999999986
           ],
           "yaxis": "y"
          }
         ],
         "name": "2008.0"
        },
        {
         "data": [
          {
           "alignmentgroup": "True",
           "hovertemplate": "<b>%{hovertext}</b><br><br>Publisher=%{x}<br>Year=2009.0<br>total_sales=%{y}<extra></extra>",
           "hovertext": [
            "Nintendo"
           ],
           "ids": [
            "Nintendo"
           ],
           "legendgroup": "Nintendo",
           "marker": {
            "color": "#636efa"
           },
           "name": "Nintendo",
           "offsetgroup": "Nintendo",
           "orientation": "v",
           "showlegend": true,
           "textposition": "auto",
           "type": "bar",
           "x": [
            "Nintendo"
           ],
           "xaxis": "x",
           "y": [
            128.89
           ],
           "yaxis": "y"
          },
          {
           "alignmentgroup": "True",
           "hovertemplate": "<b>%{hovertext}</b><br><br>Publisher=%{x}<br>Year=2009.0<br>total_sales=%{y}<extra></extra>",
           "hovertext": [
            "Sony Computer Entertainment"
           ],
           "ids": [
            "Sony Computer Entertainment"
           ],
           "legendgroup": "Sony Computer Entertainment",
           "marker": {
            "color": "#EF553B"
           },
           "name": "Sony Computer Entertainment",
           "offsetgroup": "Sony Computer Entertainment",
           "orientation": "v",
           "showlegend": true,
           "textposition": "auto",
           "type": "bar",
           "x": [
            "Sony Computer Entertainment"
           ],
           "xaxis": "x",
           "y": [
            36.53
           ],
           "yaxis": "y"
          },
          {
           "alignmentgroup": "True",
           "hovertemplate": "<b>%{hovertext}</b><br><br>Publisher=%{x}<br>Year=2009.0<br>total_sales=%{y}<extra></extra>",
           "hovertext": [
            "Microsoft Game Studios"
           ],
           "ids": [
            "Microsoft Game Studios"
           ],
           "legendgroup": "Microsoft Game Studios",
           "marker": {
            "color": "#00cc96"
           },
           "name": "Microsoft Game Studios",
           "offsetgroup": "Microsoft Game Studios",
           "orientation": "v",
           "showlegend": true,
           "textposition": "auto",
           "type": "bar",
           "x": [
            "Microsoft Game Studios"
           ],
           "xaxis": "x",
           "y": [
            15.610000000000001
           ],
           "yaxis": "y"
          },
          {
           "alignmentgroup": "True",
           "hovertemplate": "<b>%{hovertext}</b><br><br>Publisher=%{x}<br>Year=2009.0<br>total_sales=%{y}<extra></extra>",
           "hovertext": [
            "Electronic Arts"
           ],
           "ids": [
            "Electronic Arts"
           ],
           "legendgroup": "Electronic Arts",
           "marker": {
            "color": "#ab63fa"
           },
           "name": "Electronic Arts",
           "offsetgroup": "Electronic Arts",
           "orientation": "v",
           "showlegend": true,
           "textposition": "auto",
           "type": "bar",
           "x": [
            "Electronic Arts"
           ],
           "xaxis": "x",
           "y": [
            86.20000000000002
           ],
           "yaxis": "y"
          },
          {
           "alignmentgroup": "True",
           "hovertemplate": "<b>%{hovertext}</b><br><br>Publisher=%{x}<br>Year=2009.0<br>total_sales=%{y}<extra></extra>",
           "hovertext": [
            "Konami Digital Entertainment"
           ],
           "ids": [
            "Konami Digital Entertainment"
           ],
           "legendgroup": "Konami Digital Entertainment",
           "marker": {
            "color": "#FFA15A"
           },
           "name": "Konami Digital Entertainment",
           "offsetgroup": "Konami Digital Entertainment",
           "orientation": "v",
           "showlegend": true,
           "textposition": "auto",
           "type": "bar",
           "x": [
            "Konami Digital Entertainment"
           ],
           "xaxis": "x",
           "y": [
            16.089999999999996
           ],
           "yaxis": "y"
          }
         ],
         "name": "2009.0"
        },
        {
         "data": [
          {
           "alignmentgroup": "True",
           "hovertemplate": "<b>%{hovertext}</b><br><br>Publisher=%{x}<br>Year=2010.0<br>total_sales=%{y}<extra></extra>",
           "hovertext": [
            "Nintendo"
           ],
           "ids": [
            "Nintendo"
           ],
           "legendgroup": "Nintendo",
           "marker": {
            "color": "#636efa"
           },
           "name": "Nintendo",
           "offsetgroup": "Nintendo",
           "orientation": "v",
           "showlegend": true,
           "textposition": "auto",
           "type": "bar",
           "x": [
            "Nintendo"
           ],
           "xaxis": "x",
           "y": [
            61.07
           ],
           "yaxis": "y"
          },
          {
           "alignmentgroup": "True",
           "hovertemplate": "<b>%{hovertext}</b><br><br>Publisher=%{x}<br>Year=2010.0<br>total_sales=%{y}<extra></extra>",
           "hovertext": [
            "Sony Computer Entertainment"
           ],
           "ids": [
            "Sony Computer Entertainment"
           ],
           "legendgroup": "Sony Computer Entertainment",
           "marker": {
            "color": "#EF553B"
           },
           "name": "Sony Computer Entertainment",
           "offsetgroup": "Sony Computer Entertainment",
           "orientation": "v",
           "showlegend": true,
           "textposition": "auto",
           "type": "bar",
           "x": [
            "Sony Computer Entertainment"
           ],
           "xaxis": "x",
           "y": [
            34.89
           ],
           "yaxis": "y"
          },
          {
           "alignmentgroup": "True",
           "hovertemplate": "<b>%{hovertext}</b><br><br>Publisher=%{x}<br>Year=2010.0<br>total_sales=%{y}<extra></extra>",
           "hovertext": [
            "Microsoft Game Studios"
           ],
           "ids": [
            "Microsoft Game Studios"
           ],
           "legendgroup": "Microsoft Game Studios",
           "marker": {
            "color": "#00cc96"
           },
           "name": "Microsoft Game Studios",
           "offsetgroup": "Microsoft Game Studios",
           "orientation": "v",
           "showlegend": true,
           "textposition": "auto",
           "type": "bar",
           "x": [
            "Microsoft Game Studios"
           ],
           "xaxis": "x",
           "y": [
            49.160000000000004
           ],
           "yaxis": "y"
          },
          {
           "alignmentgroup": "True",
           "hovertemplate": "<b>%{hovertext}</b><br><br>Publisher=%{x}<br>Year=2010.0<br>total_sales=%{y}<extra></extra>",
           "hovertext": [
            "Electronic Arts"
           ],
           "ids": [
            "Electronic Arts"
           ],
           "legendgroup": "Electronic Arts",
           "marker": {
            "color": "#ab63fa"
           },
           "name": "Electronic Arts",
           "offsetgroup": "Electronic Arts",
           "orientation": "v",
           "showlegend": true,
           "textposition": "auto",
           "type": "bar",
           "x": [
            "Electronic Arts"
           ],
           "xaxis": "x",
           "y": [
            81.38000000000001
           ],
           "yaxis": "y"
          },
          {
           "alignmentgroup": "True",
           "hovertemplate": "<b>%{hovertext}</b><br><br>Publisher=%{x}<br>Year=2010.0<br>total_sales=%{y}<extra></extra>",
           "hovertext": [
            "Konami Digital Entertainment"
           ],
           "ids": [
            "Konami Digital Entertainment"
           ],
           "legendgroup": "Konami Digital Entertainment",
           "marker": {
            "color": "#FFA15A"
           },
           "name": "Konami Digital Entertainment",
           "offsetgroup": "Konami Digital Entertainment",
           "orientation": "v",
           "showlegend": true,
           "textposition": "auto",
           "type": "bar",
           "x": [
            "Konami Digital Entertainment"
           ],
           "xaxis": "x",
           "y": [
            18.549999999999997
           ],
           "yaxis": "y"
          }
         ],
         "name": "2010.0"
        },
        {
         "data": [
          {
           "alignmentgroup": "True",
           "hovertemplate": "<b>%{hovertext}</b><br><br>Publisher=%{x}<br>Year=2011.0<br>total_sales=%{y}<extra></extra>",
           "hovertext": [
            "Nintendo"
           ],
           "ids": [
            "Nintendo"
           ],
           "legendgroup": "Nintendo",
           "marker": {
            "color": "#636efa"
           },
           "name": "Nintendo",
           "offsetgroup": "Nintendo",
           "orientation": "v",
           "showlegend": true,
           "textposition": "auto",
           "type": "bar",
           "x": [
            "Nintendo"
           ],
           "xaxis": "x",
           "y": [
            51.53
           ],
           "yaxis": "y"
          },
          {
           "alignmentgroup": "True",
           "hovertemplate": "<b>%{hovertext}</b><br><br>Publisher=%{x}<br>Year=2011.0<br>total_sales=%{y}<extra></extra>",
           "hovertext": [
            "Sony Computer Entertainment"
           ],
           "ids": [
            "Sony Computer Entertainment"
           ],
           "legendgroup": "Sony Computer Entertainment",
           "marker": {
            "color": "#EF553B"
           },
           "name": "Sony Computer Entertainment",
           "offsetgroup": "Sony Computer Entertainment",
           "orientation": "v",
           "showlegend": true,
           "textposition": "auto",
           "type": "bar",
           "x": [
            "Sony Computer Entertainment"
           ],
           "xaxis": "x",
           "y": [
            27.399999999999995
           ],
           "yaxis": "y"
          },
          {
           "alignmentgroup": "True",
           "hovertemplate": "<b>%{hovertext}</b><br><br>Publisher=%{x}<br>Year=2011.0<br>total_sales=%{y}<extra></extra>",
           "hovertext": [
            "Microsoft Game Studios"
           ],
           "ids": [
            "Microsoft Game Studios"
           ],
           "legendgroup": "Microsoft Game Studios",
           "marker": {
            "color": "#00cc96"
           },
           "name": "Microsoft Game Studios",
           "offsetgroup": "Microsoft Game Studios",
           "orientation": "v",
           "showlegend": true,
           "textposition": "auto",
           "type": "bar",
           "x": [
            "Microsoft Game Studios"
           ],
           "xaxis": "x",
           "y": [
            21.279999999999998
           ],
           "yaxis": "y"
          },
          {
           "alignmentgroup": "True",
           "hovertemplate": "<b>%{hovertext}</b><br><br>Publisher=%{x}<br>Year=2011.0<br>total_sales=%{y}<extra></extra>",
           "hovertext": [
            "Electronic Arts"
           ],
           "ids": [
            "Electronic Arts"
           ],
           "legendgroup": "Electronic Arts",
           "marker": {
            "color": "#ab63fa"
           },
           "name": "Electronic Arts",
           "offsetgroup": "Electronic Arts",
           "orientation": "v",
           "showlegend": true,
           "textposition": "auto",
           "type": "bar",
           "x": [
            "Electronic Arts"
           ],
           "xaxis": "x",
           "y": [
            72.25
           ],
           "yaxis": "y"
          },
          {
           "alignmentgroup": "True",
           "hovertemplate": "<b>%{hovertext}</b><br><br>Publisher=%{x}<br>Year=2011.0<br>total_sales=%{y}<extra></extra>",
           "hovertext": [
            "Konami Digital Entertainment"
           ],
           "ids": [
            "Konami Digital Entertainment"
           ],
           "legendgroup": "Konami Digital Entertainment",
           "marker": {
            "color": "#FFA15A"
           },
           "name": "Konami Digital Entertainment",
           "offsetgroup": "Konami Digital Entertainment",
           "orientation": "v",
           "showlegend": true,
           "textposition": "auto",
           "type": "bar",
           "x": [
            "Konami Digital Entertainment"
           ],
           "xaxis": "x",
           "y": [
            10.04
           ],
           "yaxis": "y"
          }
         ],
         "name": "2011.0"
        },
        {
         "data": [
          {
           "alignmentgroup": "True",
           "hovertemplate": "<b>%{hovertext}</b><br><br>Publisher=%{x}<br>Year=2012.0<br>total_sales=%{y}<extra></extra>",
           "hovertext": [
            "Nintendo"
           ],
           "ids": [
            "Nintendo"
           ],
           "legendgroup": "Nintendo",
           "marker": {
            "color": "#636efa"
           },
           "name": "Nintendo",
           "offsetgroup": "Nintendo",
           "orientation": "v",
           "showlegend": true,
           "textposition": "auto",
           "type": "bar",
           "x": [
            "Nintendo"
           ],
           "xaxis": "x",
           "y": [
            56.470000000000006
           ],
           "yaxis": "y"
          },
          {
           "alignmentgroup": "True",
           "hovertemplate": "<b>%{hovertext}</b><br><br>Publisher=%{x}<br>Year=2012.0<br>total_sales=%{y}<extra></extra>",
           "hovertext": [
            "Sony Computer Entertainment"
           ],
           "ids": [
            "Sony Computer Entertainment"
           ],
           "legendgroup": "Sony Computer Entertainment",
           "marker": {
            "color": "#EF553B"
           },
           "name": "Sony Computer Entertainment",
           "offsetgroup": "Sony Computer Entertainment",
           "orientation": "v",
           "showlegend": true,
           "textposition": "auto",
           "type": "bar",
           "x": [
            "Sony Computer Entertainment"
           ],
           "xaxis": "x",
           "y": [
            12.85
           ],
           "yaxis": "y"
          },
          {
           "alignmentgroup": "True",
           "hovertemplate": "<b>%{hovertext}</b><br><br>Publisher=%{x}<br>Year=2012.0<br>total_sales=%{y}<extra></extra>",
           "hovertext": [
            "Microsoft Game Studios"
           ],
           "ids": [
            "Microsoft Game Studios"
           ],
           "legendgroup": "Microsoft Game Studios",
           "marker": {
            "color": "#00cc96"
           },
           "name": "Microsoft Game Studios",
           "offsetgroup": "Microsoft Game Studios",
           "orientation": "v",
           "showlegend": true,
           "textposition": "auto",
           "type": "bar",
           "x": [
            "Microsoft Game Studios"
           ],
           "xaxis": "x",
           "y": [
            15.329999999999998
           ],
           "yaxis": "y"
          },
          {
           "alignmentgroup": "True",
           "hovertemplate": "<b>%{hovertext}</b><br><br>Publisher=%{x}<br>Year=2012.0<br>total_sales=%{y}<extra></extra>",
           "hovertext": [
            "Electronic Arts"
           ],
           "ids": [
            "Electronic Arts"
           ],
           "legendgroup": "Electronic Arts",
           "marker": {
            "color": "#ab63fa"
           },
           "name": "Electronic Arts",
           "offsetgroup": "Electronic Arts",
           "orientation": "v",
           "showlegend": true,
           "textposition": "auto",
           "type": "bar",
           "x": [
            "Electronic Arts"
           ],
           "xaxis": "x",
           "y": [
            49.89999999999996
           ],
           "yaxis": "y"
          },
          {
           "alignmentgroup": "True",
           "hovertemplate": "<b>%{hovertext}</b><br><br>Publisher=%{x}<br>Year=2012.0<br>total_sales=%{y}<extra></extra>",
           "hovertext": [
            "Konami Digital Entertainment"
           ],
           "ids": [
            "Konami Digital Entertainment"
           ],
           "legendgroup": "Konami Digital Entertainment",
           "marker": {
            "color": "#FFA15A"
           },
           "name": "Konami Digital Entertainment",
           "offsetgroup": "Konami Digital Entertainment",
           "orientation": "v",
           "showlegend": true,
           "textposition": "auto",
           "type": "bar",
           "x": [
            "Konami Digital Entertainment"
           ],
           "xaxis": "x",
           "y": [
            7.970000000000001
           ],
           "yaxis": "y"
          }
         ],
         "name": "2012.0"
        },
        {
         "data": [
          {
           "alignmentgroup": "True",
           "hovertemplate": "<b>%{hovertext}</b><br><br>Publisher=%{x}<br>Year=2013.0<br>total_sales=%{y}<extra></extra>",
           "hovertext": [
            "Nintendo"
           ],
           "ids": [
            "Nintendo"
           ],
           "legendgroup": "Nintendo",
           "marker": {
            "color": "#636efa"
           },
           "name": "Nintendo",
           "offsetgroup": "Nintendo",
           "orientation": "v",
           "showlegend": true,
           "textposition": "auto",
           "type": "bar",
           "x": [
            "Nintendo"
           ],
           "xaxis": "x",
           "y": [
            52.790000000000006
           ],
           "yaxis": "y"
          },
          {
           "alignmentgroup": "True",
           "hovertemplate": "<b>%{hovertext}</b><br><br>Publisher=%{x}<br>Year=2013.0<br>total_sales=%{y}<extra></extra>",
           "hovertext": [
            "Sony Computer Entertainment"
           ],
           "ids": [
            "Sony Computer Entertainment"
           ],
           "legendgroup": "Sony Computer Entertainment",
           "marker": {
            "color": "#EF553B"
           },
           "name": "Sony Computer Entertainment",
           "offsetgroup": "Sony Computer Entertainment",
           "orientation": "v",
           "showlegend": true,
           "textposition": "auto",
           "type": "bar",
           "x": [
            "Sony Computer Entertainment"
           ],
           "xaxis": "x",
           "y": [
            12.610000000000005
           ],
           "yaxis": "y"
          },
          {
           "alignmentgroup": "True",
           "hovertemplate": "<b>%{hovertext}</b><br><br>Publisher=%{x}<br>Year=2013.0<br>total_sales=%{y}<extra></extra>",
           "hovertext": [
            "Microsoft Game Studios"
           ],
           "ids": [
            "Microsoft Game Studios"
           ],
           "legendgroup": "Microsoft Game Studios",
           "marker": {
            "color": "#00cc96"
           },
           "name": "Microsoft Game Studios",
           "offsetgroup": "Microsoft Game Studios",
           "orientation": "v",
           "showlegend": true,
           "textposition": "auto",
           "type": "bar",
           "x": [
            "Microsoft Game Studios"
           ],
           "xaxis": "x",
           "y": [
            16.389999999999997
           ],
           "yaxis": "y"
          },
          {
           "alignmentgroup": "True",
           "hovertemplate": "<b>%{hovertext}</b><br><br>Publisher=%{x}<br>Year=2013.0<br>total_sales=%{y}<extra></extra>",
           "hovertext": [
            "Electronic Arts"
           ],
           "ids": [
            "Electronic Arts"
           ],
           "legendgroup": "Electronic Arts",
           "marker": {
            "color": "#ab63fa"
           },
           "name": "Electronic Arts",
           "offsetgroup": "Electronic Arts",
           "orientation": "v",
           "showlegend": true,
           "textposition": "auto",
           "type": "bar",
           "x": [
            "Electronic Arts"
           ],
           "xaxis": "x",
           "y": [
            52.919999999999995
           ],
           "yaxis": "y"
          },
          {
           "alignmentgroup": "True",
           "hovertemplate": "<b>%{hovertext}</b><br><br>Publisher=%{x}<br>Year=2013.0<br>total_sales=%{y}<extra></extra>",
           "hovertext": [
            "Konami Digital Entertainment"
           ],
           "ids": [
            "Konami Digital Entertainment"
           ],
           "legendgroup": "Konami Digital Entertainment",
           "marker": {
            "color": "#FFA15A"
           },
           "name": "Konami Digital Entertainment",
           "offsetgroup": "Konami Digital Entertainment",
           "orientation": "v",
           "showlegend": true,
           "textposition": "auto",
           "type": "bar",
           "x": [
            "Konami Digital Entertainment"
           ],
           "xaxis": "x",
           "y": [
            5.370000000000001
           ],
           "yaxis": "y"
          }
         ],
         "name": "2013.0"
        },
        {
         "data": [
          {
           "alignmentgroup": "True",
           "hovertemplate": "<b>%{hovertext}</b><br><br>Publisher=%{x}<br>Year=2014.0<br>total_sales=%{y}<extra></extra>",
           "hovertext": [
            "Nintendo"
           ],
           "ids": [
            "Nintendo"
           ],
           "legendgroup": "Nintendo",
           "marker": {
            "color": "#636efa"
           },
           "name": "Nintendo",
           "offsetgroup": "Nintendo",
           "orientation": "v",
           "showlegend": true,
           "textposition": "auto",
           "type": "bar",
           "x": [
            "Nintendo"
           ],
           "xaxis": "x",
           "y": [
            48.64999999999999
           ],
           "yaxis": "y"
          },
          {
           "alignmentgroup": "True",
           "hovertemplate": "<b>%{hovertext}</b><br><br>Publisher=%{x}<br>Year=2014.0<br>total_sales=%{y}<extra></extra>",
           "hovertext": [
            "Sony Computer Entertainment"
           ],
           "ids": [
            "Sony Computer Entertainment"
           ],
           "legendgroup": "Sony Computer Entertainment",
           "marker": {
            "color": "#EF553B"
           },
           "name": "Sony Computer Entertainment",
           "offsetgroup": "Sony Computer Entertainment",
           "orientation": "v",
           "showlegend": true,
           "textposition": "auto",
           "type": "bar",
           "x": [
            "Sony Computer Entertainment"
           ],
           "xaxis": "x",
           "y": [
            19.019999999999992
           ],
           "yaxis": "y"
          },
          {
           "alignmentgroup": "True",
           "hovertemplate": "<b>%{hovertext}</b><br><br>Publisher=%{x}<br>Year=2014.0<br>total_sales=%{y}<extra></extra>",
           "hovertext": [
            "Microsoft Game Studios"
           ],
           "ids": [
            "Microsoft Game Studios"
           ],
           "legendgroup": "Microsoft Game Studios",
           "marker": {
            "color": "#00cc96"
           },
           "name": "Microsoft Game Studios",
           "offsetgroup": "Microsoft Game Studios",
           "orientation": "v",
           "showlegend": true,
           "textposition": "auto",
           "type": "bar",
           "x": [
            "Microsoft Game Studios"
           ],
           "xaxis": "x",
           "y": [
            10.31
           ],
           "yaxis": "y"
          },
          {
           "alignmentgroup": "True",
           "hovertemplate": "<b>%{hovertext}</b><br><br>Publisher=%{x}<br>Year=2014.0<br>total_sales=%{y}<extra></extra>",
           "hovertext": [
            "Electronic Arts"
           ],
           "ids": [
            "Electronic Arts"
           ],
           "legendgroup": "Electronic Arts",
           "marker": {
            "color": "#ab63fa"
           },
           "name": "Electronic Arts",
           "offsetgroup": "Electronic Arts",
           "orientation": "v",
           "showlegend": true,
           "textposition": "auto",
           "type": "bar",
           "x": [
            "Electronic Arts"
           ],
           "xaxis": "x",
           "y": [
            46.79999999999998
           ],
           "yaxis": "y"
          },
          {
           "alignmentgroup": "True",
           "hovertemplate": "<b>%{hovertext}</b><br><br>Publisher=%{x}<br>Year=2014.0<br>total_sales=%{y}<extra></extra>",
           "hovertext": [
            "Konami Digital Entertainment"
           ],
           "ids": [
            "Konami Digital Entertainment"
           ],
           "legendgroup": "Konami Digital Entertainment",
           "marker": {
            "color": "#FFA15A"
           },
           "name": "Konami Digital Entertainment",
           "offsetgroup": "Konami Digital Entertainment",
           "orientation": "v",
           "showlegend": true,
           "textposition": "auto",
           "type": "bar",
           "x": [
            "Konami Digital Entertainment"
           ],
           "xaxis": "x",
           "y": [
            5.0600000000000005
           ],
           "yaxis": "y"
          }
         ],
         "name": "2014.0"
        },
        {
         "data": [
          {
           "alignmentgroup": "True",
           "hovertemplate": "<b>%{hovertext}</b><br><br>Publisher=%{x}<br>Year=2015.0<br>total_sales=%{y}<extra></extra>",
           "hovertext": [
            "Nintendo"
           ],
           "ids": [
            "Nintendo"
           ],
           "legendgroup": "Nintendo",
           "marker": {
            "color": "#636efa"
           },
           "name": "Nintendo",
           "offsetgroup": "Nintendo",
           "orientation": "v",
           "showlegend": true,
           "textposition": "auto",
           "type": "bar",
           "x": [
            "Nintendo"
           ],
           "xaxis": "x",
           "y": [
            27.080000000000002
           ],
           "yaxis": "y"
          },
          {
           "alignmentgroup": "True",
           "hovertemplate": "<b>%{hovertext}</b><br><br>Publisher=%{x}<br>Year=2015.0<br>total_sales=%{y}<extra></extra>",
           "hovertext": [
            "Sony Computer Entertainment"
           ],
           "ids": [
            "Sony Computer Entertainment"
           ],
           "legendgroup": "Sony Computer Entertainment",
           "marker": {
            "color": "#EF553B"
           },
           "name": "Sony Computer Entertainment",
           "offsetgroup": "Sony Computer Entertainment",
           "orientation": "v",
           "showlegend": true,
           "textposition": "auto",
           "type": "bar",
           "x": [
            "Sony Computer Entertainment"
           ],
           "xaxis": "x",
           "y": [
            11.010000000000002
           ],
           "yaxis": "y"
          },
          {
           "alignmentgroup": "True",
           "hovertemplate": "<b>%{hovertext}</b><br><br>Publisher=%{x}<br>Year=2015.0<br>total_sales=%{y}<extra></extra>",
           "hovertext": [
            "Microsoft Game Studios"
           ],
           "ids": [
            "Microsoft Game Studios"
           ],
           "legendgroup": "Microsoft Game Studios",
           "marker": {
            "color": "#00cc96"
           },
           "name": "Microsoft Game Studios",
           "offsetgroup": "Microsoft Game Studios",
           "orientation": "v",
           "showlegend": true,
           "textposition": "auto",
           "type": "bar",
           "x": [
            "Microsoft Game Studios"
           ],
           "xaxis": "x",
           "y": [
            9.95
           ],
           "yaxis": "y"
          },
          {
           "alignmentgroup": "True",
           "hovertemplate": "<b>%{hovertext}</b><br><br>Publisher=%{x}<br>Year=2015.0<br>total_sales=%{y}<extra></extra>",
           "hovertext": [
            "Electronic Arts"
           ],
           "ids": [
            "Electronic Arts"
           ],
           "legendgroup": "Electronic Arts",
           "marker": {
            "color": "#ab63fa"
           },
           "name": "Electronic Arts",
           "offsetgroup": "Electronic Arts",
           "orientation": "v",
           "showlegend": true,
           "textposition": "auto",
           "type": "bar",
           "x": [
            "Electronic Arts"
           ],
           "xaxis": "x",
           "y": [
            45.42
           ],
           "yaxis": "y"
          },
          {
           "alignmentgroup": "True",
           "hovertemplate": "<b>%{hovertext}</b><br><br>Publisher=%{x}<br>Year=2015.0<br>total_sales=%{y}<extra></extra>",
           "hovertext": [
            "Konami Digital Entertainment"
           ],
           "ids": [
            "Konami Digital Entertainment"
           ],
           "legendgroup": "Konami Digital Entertainment",
           "marker": {
            "color": "#FFA15A"
           },
           "name": "Konami Digital Entertainment",
           "offsetgroup": "Konami Digital Entertainment",
           "orientation": "v",
           "showlegend": true,
           "textposition": "auto",
           "type": "bar",
           "x": [
            "Konami Digital Entertainment"
           ],
           "xaxis": "x",
           "y": [
            6.86
           ],
           "yaxis": "y"
          }
         ],
         "name": "2015.0"
        },
        {
         "data": [
          {
           "alignmentgroup": "True",
           "hovertemplate": "<b>%{hovertext}</b><br><br>Publisher=%{x}<br>Year=2016.0<br>total_sales=%{y}<extra></extra>",
           "hovertext": [
            "Nintendo"
           ],
           "ids": [
            "Nintendo"
           ],
           "legendgroup": "Nintendo",
           "marker": {
            "color": "#636efa"
           },
           "name": "Nintendo",
           "offsetgroup": "Nintendo",
           "orientation": "v",
           "showlegend": true,
           "textposition": "auto",
           "type": "bar",
           "x": [
            "Nintendo"
           ],
           "xaxis": "x",
           "y": [
            3.4699999999999998
           ],
           "yaxis": "y"
          },
          {
           "alignmentgroup": "True",
           "hovertemplate": "<b>%{hovertext}</b><br><br>Publisher=%{x}<br>Year=2016.0<br>total_sales=%{y}<extra></extra>",
           "hovertext": [
            "Sony Computer Entertainment"
           ],
           "ids": [
            "Sony Computer Entertainment"
           ],
           "legendgroup": "Sony Computer Entertainment",
           "marker": {
            "color": "#EF553B"
           },
           "name": "Sony Computer Entertainment",
           "offsetgroup": "Sony Computer Entertainment",
           "orientation": "v",
           "showlegend": true,
           "textposition": "auto",
           "type": "bar",
           "x": [
            "Sony Computer Entertainment"
           ],
           "xaxis": "x",
           "y": [
            6.5600000000000005
           ],
           "yaxis": "y"
          },
          {
           "alignmentgroup": "True",
           "hovertemplate": "<b>%{hovertext}</b><br><br>Publisher=%{x}<br>Year=2016.0<br>total_sales=%{y}<extra></extra>",
           "hovertext": [
            "Microsoft Game Studios"
           ],
           "ids": [
            "Microsoft Game Studios"
           ],
           "legendgroup": "Microsoft Game Studios",
           "marker": {
            "color": "#00cc96"
           },
           "name": "Microsoft Game Studios",
           "offsetgroup": "Microsoft Game Studios",
           "orientation": "v",
           "showlegend": true,
           "textposition": "auto",
           "type": "bar",
           "x": [
            "Microsoft Game Studios"
           ],
           "xaxis": "x",
           "y": [
            1.42
           ],
           "yaxis": "y"
          },
          {
           "alignmentgroup": "True",
           "hovertemplate": "<b>%{hovertext}</b><br><br>Publisher=%{x}<br>Year=2016.0<br>total_sales=%{y}<extra></extra>",
           "hovertext": [
            "Electronic Arts"
           ],
           "ids": [
            "Electronic Arts"
           ],
           "legendgroup": "Electronic Arts",
           "marker": {
            "color": "#ab63fa"
           },
           "name": "Electronic Arts",
           "offsetgroup": "Electronic Arts",
           "orientation": "v",
           "showlegend": true,
           "textposition": "auto",
           "type": "bar",
           "x": [
            "Electronic Arts"
           ],
           "xaxis": "x",
           "y": [
            12.250000000000002
           ],
           "yaxis": "y"
          },
          {
           "alignmentgroup": "True",
           "hovertemplate": "<b>%{hovertext}</b><br><br>Publisher=%{x}<br>Year=2016.0<br>total_sales=%{y}<extra></extra>",
           "hovertext": [
            "Konami Digital Entertainment"
           ],
           "ids": [
            "Konami Digital Entertainment"
           ],
           "legendgroup": "Konami Digital Entertainment",
           "marker": {
            "color": "#FFA15A"
           },
           "name": "Konami Digital Entertainment",
           "offsetgroup": "Konami Digital Entertainment",
           "orientation": "v",
           "showlegend": true,
           "textposition": "auto",
           "type": "bar",
           "x": [
            "Konami Digital Entertainment"
           ],
           "xaxis": "x",
           "y": [
            1.2100000000000004
           ],
           "yaxis": "y"
          }
         ],
         "name": "2016.0"
        }
       ],
       "layout": {
        "barmode": "relative",
        "legend": {
         "title": {
          "text": "Publisher"
         },
         "tracegroupgap": 0
        },
        "margin": {
         "t": 60
        },
        "sliders": [
         {
          "active": 0,
          "currentvalue": {
           "prefix": "Year="
          },
          "len": 0.9,
          "pad": {
           "b": 10,
           "t": 60
          },
          "steps": [
           {
            "args": [
             [
              "2006.0"
             ],
             {
              "frame": {
               "duration": 0,
               "redraw": true
              },
              "fromcurrent": true,
              "mode": "immediate",
              "transition": {
               "duration": 0,
               "easing": "linear"
              }
             }
            ],
            "label": "2006.0",
            "method": "animate"
           },
           {
            "args": [
             [
              "2007.0"
             ],
             {
              "frame": {
               "duration": 0,
               "redraw": true
              },
              "fromcurrent": true,
              "mode": "immediate",
              "transition": {
               "duration": 0,
               "easing": "linear"
              }
             }
            ],
            "label": "2007.0",
            "method": "animate"
           },
           {
            "args": [
             [
              "2008.0"
             ],
             {
              "frame": {
               "duration": 0,
               "redraw": true
              },
              "fromcurrent": true,
              "mode": "immediate",
              "transition": {
               "duration": 0,
               "easing": "linear"
              }
             }
            ],
            "label": "2008.0",
            "method": "animate"
           },
           {
            "args": [
             [
              "2009.0"
             ],
             {
              "frame": {
               "duration": 0,
               "redraw": true
              },
              "fromcurrent": true,
              "mode": "immediate",
              "transition": {
               "duration": 0,
               "easing": "linear"
              }
             }
            ],
            "label": "2009.0",
            "method": "animate"
           },
           {
            "args": [
             [
              "2010.0"
             ],
             {
              "frame": {
               "duration": 0,
               "redraw": true
              },
              "fromcurrent": true,
              "mode": "immediate",
              "transition": {
               "duration": 0,
               "easing": "linear"
              }
             }
            ],
            "label": "2010.0",
            "method": "animate"
           },
           {
            "args": [
             [
              "2011.0"
             ],
             {
              "frame": {
               "duration": 0,
               "redraw": true
              },
              "fromcurrent": true,
              "mode": "immediate",
              "transition": {
               "duration": 0,
               "easing": "linear"
              }
             }
            ],
            "label": "2011.0",
            "method": "animate"
           },
           {
            "args": [
             [
              "2012.0"
             ],
             {
              "frame": {
               "duration": 0,
               "redraw": true
              },
              "fromcurrent": true,
              "mode": "immediate",
              "transition": {
               "duration": 0,
               "easing": "linear"
              }
             }
            ],
            "label": "2012.0",
            "method": "animate"
           },
           {
            "args": [
             [
              "2013.0"
             ],
             {
              "frame": {
               "duration": 0,
               "redraw": true
              },
              "fromcurrent": true,
              "mode": "immediate",
              "transition": {
               "duration": 0,
               "easing": "linear"
              }
             }
            ],
            "label": "2013.0",
            "method": "animate"
           },
           {
            "args": [
             [
              "2014.0"
             ],
             {
              "frame": {
               "duration": 0,
               "redraw": true
              },
              "fromcurrent": true,
              "mode": "immediate",
              "transition": {
               "duration": 0,
               "easing": "linear"
              }
             }
            ],
            "label": "2014.0",
            "method": "animate"
           },
           {
            "args": [
             [
              "2015.0"
             ],
             {
              "frame": {
               "duration": 0,
               "redraw": true
              },
              "fromcurrent": true,
              "mode": "immediate",
              "transition": {
               "duration": 0,
               "easing": "linear"
              }
             }
            ],
            "label": "2015.0",
            "method": "animate"
           },
           {
            "args": [
             [
              "2016.0"
             ],
             {
              "frame": {
               "duration": 0,
               "redraw": true
              },
              "fromcurrent": true,
              "mode": "immediate",
              "transition": {
               "duration": 0,
               "easing": "linear"
              }
             }
            ],
            "label": "2016.0",
            "method": "animate"
           }
          ],
          "x": 0.1,
          "xanchor": "left",
          "y": 0,
          "yanchor": "top"
         }
        ],
        "template": {
         "data": {
          "bar": [
           {
            "error_x": {
             "color": "#2a3f5f"
            },
            "error_y": {
             "color": "#2a3f5f"
            },
            "marker": {
             "line": {
              "color": "#E5ECF6",
              "width": 0.5
             }
            },
            "type": "bar"
           }
          ],
          "barpolar": [
           {
            "marker": {
             "line": {
              "color": "#E5ECF6",
              "width": 0.5
             }
            },
            "type": "barpolar"
           }
          ],
          "carpet": [
           {
            "aaxis": {
             "endlinecolor": "#2a3f5f",
             "gridcolor": "white",
             "linecolor": "white",
             "minorgridcolor": "white",
             "startlinecolor": "#2a3f5f"
            },
            "baxis": {
             "endlinecolor": "#2a3f5f",
             "gridcolor": "white",
             "linecolor": "white",
             "minorgridcolor": "white",
             "startlinecolor": "#2a3f5f"
            },
            "type": "carpet"
           }
          ],
          "choropleth": [
           {
            "colorbar": {
             "outlinewidth": 0,
             "ticks": ""
            },
            "type": "choropleth"
           }
          ],
          "contour": [
           {
            "colorbar": {
             "outlinewidth": 0,
             "ticks": ""
            },
            "colorscale": [
             [
              0,
              "#0d0887"
             ],
             [
              0.1111111111111111,
              "#46039f"
             ],
             [
              0.2222222222222222,
              "#7201a8"
             ],
             [
              0.3333333333333333,
              "#9c179e"
             ],
             [
              0.4444444444444444,
              "#bd3786"
             ],
             [
              0.5555555555555556,
              "#d8576b"
             ],
             [
              0.6666666666666666,
              "#ed7953"
             ],
             [
              0.7777777777777778,
              "#fb9f3a"
             ],
             [
              0.8888888888888888,
              "#fdca26"
             ],
             [
              1,
              "#f0f921"
             ]
            ],
            "type": "contour"
           }
          ],
          "contourcarpet": [
           {
            "colorbar": {
             "outlinewidth": 0,
             "ticks": ""
            },
            "type": "contourcarpet"
           }
          ],
          "heatmap": [
           {
            "colorbar": {
             "outlinewidth": 0,
             "ticks": ""
            },
            "colorscale": [
             [
              0,
              "#0d0887"
             ],
             [
              0.1111111111111111,
              "#46039f"
             ],
             [
              0.2222222222222222,
              "#7201a8"
             ],
             [
              0.3333333333333333,
              "#9c179e"
             ],
             [
              0.4444444444444444,
              "#bd3786"
             ],
             [
              0.5555555555555556,
              "#d8576b"
             ],
             [
              0.6666666666666666,
              "#ed7953"
             ],
             [
              0.7777777777777778,
              "#fb9f3a"
             ],
             [
              0.8888888888888888,
              "#fdca26"
             ],
             [
              1,
              "#f0f921"
             ]
            ],
            "type": "heatmap"
           }
          ],
          "heatmapgl": [
           {
            "colorbar": {
             "outlinewidth": 0,
             "ticks": ""
            },
            "colorscale": [
             [
              0,
              "#0d0887"
             ],
             [
              0.1111111111111111,
              "#46039f"
             ],
             [
              0.2222222222222222,
              "#7201a8"
             ],
             [
              0.3333333333333333,
              "#9c179e"
             ],
             [
              0.4444444444444444,
              "#bd3786"
             ],
             [
              0.5555555555555556,
              "#d8576b"
             ],
             [
              0.6666666666666666,
              "#ed7953"
             ],
             [
              0.7777777777777778,
              "#fb9f3a"
             ],
             [
              0.8888888888888888,
              "#fdca26"
             ],
             [
              1,
              "#f0f921"
             ]
            ],
            "type": "heatmapgl"
           }
          ],
          "histogram": [
           {
            "marker": {
             "colorbar": {
              "outlinewidth": 0,
              "ticks": ""
             }
            },
            "type": "histogram"
           }
          ],
          "histogram2d": [
           {
            "colorbar": {
             "outlinewidth": 0,
             "ticks": ""
            },
            "colorscale": [
             [
              0,
              "#0d0887"
             ],
             [
              0.1111111111111111,
              "#46039f"
             ],
             [
              0.2222222222222222,
              "#7201a8"
             ],
             [
              0.3333333333333333,
              "#9c179e"
             ],
             [
              0.4444444444444444,
              "#bd3786"
             ],
             [
              0.5555555555555556,
              "#d8576b"
             ],
             [
              0.6666666666666666,
              "#ed7953"
             ],
             [
              0.7777777777777778,
              "#fb9f3a"
             ],
             [
              0.8888888888888888,
              "#fdca26"
             ],
             [
              1,
              "#f0f921"
             ]
            ],
            "type": "histogram2d"
           }
          ],
          "histogram2dcontour": [
           {
            "colorbar": {
             "outlinewidth": 0,
             "ticks": ""
            },
            "colorscale": [
             [
              0,
              "#0d0887"
             ],
             [
              0.1111111111111111,
              "#46039f"
             ],
             [
              0.2222222222222222,
              "#7201a8"
             ],
             [
              0.3333333333333333,
              "#9c179e"
             ],
             [
              0.4444444444444444,
              "#bd3786"
             ],
             [
              0.5555555555555556,
              "#d8576b"
             ],
             [
              0.6666666666666666,
              "#ed7953"
             ],
             [
              0.7777777777777778,
              "#fb9f3a"
             ],
             [
              0.8888888888888888,
              "#fdca26"
             ],
             [
              1,
              "#f0f921"
             ]
            ],
            "type": "histogram2dcontour"
           }
          ],
          "mesh3d": [
           {
            "colorbar": {
             "outlinewidth": 0,
             "ticks": ""
            },
            "type": "mesh3d"
           }
          ],
          "parcoords": [
           {
            "line": {
             "colorbar": {
              "outlinewidth": 0,
              "ticks": ""
             }
            },
            "type": "parcoords"
           }
          ],
          "pie": [
           {
            "automargin": true,
            "type": "pie"
           }
          ],
          "scatter": [
           {
            "marker": {
             "colorbar": {
              "outlinewidth": 0,
              "ticks": ""
             }
            },
            "type": "scatter"
           }
          ],
          "scatter3d": [
           {
            "line": {
             "colorbar": {
              "outlinewidth": 0,
              "ticks": ""
             }
            },
            "marker": {
             "colorbar": {
              "outlinewidth": 0,
              "ticks": ""
             }
            },
            "type": "scatter3d"
           }
          ],
          "scattercarpet": [
           {
            "marker": {
             "colorbar": {
              "outlinewidth": 0,
              "ticks": ""
             }
            },
            "type": "scattercarpet"
           }
          ],
          "scattergeo": [
           {
            "marker": {
             "colorbar": {
              "outlinewidth": 0,
              "ticks": ""
             }
            },
            "type": "scattergeo"
           }
          ],
          "scattergl": [
           {
            "marker": {
             "colorbar": {
              "outlinewidth": 0,
              "ticks": ""
             }
            },
            "type": "scattergl"
           }
          ],
          "scattermapbox": [
           {
            "marker": {
             "colorbar": {
              "outlinewidth": 0,
              "ticks": ""
             }
            },
            "type": "scattermapbox"
           }
          ],
          "scatterpolar": [
           {
            "marker": {
             "colorbar": {
              "outlinewidth": 0,
              "ticks": ""
             }
            },
            "type": "scatterpolar"
           }
          ],
          "scatterpolargl": [
           {
            "marker": {
             "colorbar": {
              "outlinewidth": 0,
              "ticks": ""
             }
            },
            "type": "scatterpolargl"
           }
          ],
          "scatterternary": [
           {
            "marker": {
             "colorbar": {
              "outlinewidth": 0,
              "ticks": ""
             }
            },
            "type": "scatterternary"
           }
          ],
          "surface": [
           {
            "colorbar": {
             "outlinewidth": 0,
             "ticks": ""
            },
            "colorscale": [
             [
              0,
              "#0d0887"
             ],
             [
              0.1111111111111111,
              "#46039f"
             ],
             [
              0.2222222222222222,
              "#7201a8"
             ],
             [
              0.3333333333333333,
              "#9c179e"
             ],
             [
              0.4444444444444444,
              "#bd3786"
             ],
             [
              0.5555555555555556,
              "#d8576b"
             ],
             [
              0.6666666666666666,
              "#ed7953"
             ],
             [
              0.7777777777777778,
              "#fb9f3a"
             ],
             [
              0.8888888888888888,
              "#fdca26"
             ],
             [
              1,
              "#f0f921"
             ]
            ],
            "type": "surface"
           }
          ],
          "table": [
           {
            "cells": {
             "fill": {
              "color": "#EBF0F8"
             },
             "line": {
              "color": "white"
             }
            },
            "header": {
             "fill": {
              "color": "#C8D4E3"
             },
             "line": {
              "color": "white"
             }
            },
            "type": "table"
           }
          ]
         },
         "layout": {
          "annotationdefaults": {
           "arrowcolor": "#2a3f5f",
           "arrowhead": 0,
           "arrowwidth": 1
          },
          "autotypenumbers": "strict",
          "coloraxis": {
           "colorbar": {
            "outlinewidth": 0,
            "ticks": ""
           }
          },
          "colorscale": {
           "diverging": [
            [
             0,
             "#8e0152"
            ],
            [
             0.1,
             "#c51b7d"
            ],
            [
             0.2,
             "#de77ae"
            ],
            [
             0.3,
             "#f1b6da"
            ],
            [
             0.4,
             "#fde0ef"
            ],
            [
             0.5,
             "#f7f7f7"
            ],
            [
             0.6,
             "#e6f5d0"
            ],
            [
             0.7,
             "#b8e186"
            ],
            [
             0.8,
             "#7fbc41"
            ],
            [
             0.9,
             "#4d9221"
            ],
            [
             1,
             "#276419"
            ]
           ],
           "sequential": [
            [
             0,
             "#0d0887"
            ],
            [
             0.1111111111111111,
             "#46039f"
            ],
            [
             0.2222222222222222,
             "#7201a8"
            ],
            [
             0.3333333333333333,
             "#9c179e"
            ],
            [
             0.4444444444444444,
             "#bd3786"
            ],
            [
             0.5555555555555556,
             "#d8576b"
            ],
            [
             0.6666666666666666,
             "#ed7953"
            ],
            [
             0.7777777777777778,
             "#fb9f3a"
            ],
            [
             0.8888888888888888,
             "#fdca26"
            ],
            [
             1,
             "#f0f921"
            ]
           ],
           "sequentialminus": [
            [
             0,
             "#0d0887"
            ],
            [
             0.1111111111111111,
             "#46039f"
            ],
            [
             0.2222222222222222,
             "#7201a8"
            ],
            [
             0.3333333333333333,
             "#9c179e"
            ],
            [
             0.4444444444444444,
             "#bd3786"
            ],
            [
             0.5555555555555556,
             "#d8576b"
            ],
            [
             0.6666666666666666,
             "#ed7953"
            ],
            [
             0.7777777777777778,
             "#fb9f3a"
            ],
            [
             0.8888888888888888,
             "#fdca26"
            ],
            [
             1,
             "#f0f921"
            ]
           ]
          },
          "colorway": [
           "#636efa",
           "#EF553B",
           "#00cc96",
           "#ab63fa",
           "#FFA15A",
           "#19d3f3",
           "#FF6692",
           "#B6E880",
           "#FF97FF",
           "#FECB52"
          ],
          "font": {
           "color": "#2a3f5f"
          },
          "geo": {
           "bgcolor": "white",
           "lakecolor": "white",
           "landcolor": "#E5ECF6",
           "showlakes": true,
           "showland": true,
           "subunitcolor": "white"
          },
          "hoverlabel": {
           "align": "left"
          },
          "hovermode": "closest",
          "mapbox": {
           "style": "light"
          },
          "paper_bgcolor": "white",
          "plot_bgcolor": "#E5ECF6",
          "polar": {
           "angularaxis": {
            "gridcolor": "white",
            "linecolor": "white",
            "ticks": ""
           },
           "bgcolor": "#E5ECF6",
           "radialaxis": {
            "gridcolor": "white",
            "linecolor": "white",
            "ticks": ""
           }
          },
          "scene": {
           "xaxis": {
            "backgroundcolor": "#E5ECF6",
            "gridcolor": "white",
            "gridwidth": 2,
            "linecolor": "white",
            "showbackground": true,
            "ticks": "",
            "zerolinecolor": "white"
           },
           "yaxis": {
            "backgroundcolor": "#E5ECF6",
            "gridcolor": "white",
            "gridwidth": 2,
            "linecolor": "white",
            "showbackground": true,
            "ticks": "",
            "zerolinecolor": "white"
           },
           "zaxis": {
            "backgroundcolor": "#E5ECF6",
            "gridcolor": "white",
            "gridwidth": 2,
            "linecolor": "white",
            "showbackground": true,
            "ticks": "",
            "zerolinecolor": "white"
           }
          },
          "shapedefaults": {
           "line": {
            "color": "#2a3f5f"
           }
          },
          "ternary": {
           "aaxis": {
            "gridcolor": "white",
            "linecolor": "white",
            "ticks": ""
           },
           "baxis": {
            "gridcolor": "white",
            "linecolor": "white",
            "ticks": ""
           },
           "bgcolor": "#E5ECF6",
           "caxis": {
            "gridcolor": "white",
            "linecolor": "white",
            "ticks": ""
           }
          },
          "title": {
           "x": 0.05
          },
          "xaxis": {
           "automargin": true,
           "gridcolor": "white",
           "linecolor": "white",
           "ticks": "",
           "title": {
            "standoff": 15
           },
           "zerolinecolor": "white",
           "zerolinewidth": 2
          },
          "yaxis": {
           "automargin": true,
           "gridcolor": "white",
           "linecolor": "white",
           "ticks": "",
           "title": {
            "standoff": 15
           },
           "zerolinecolor": "white",
           "zerolinewidth": 2
          }
         }
        },
        "title": {
         "text": "Top 5 Publisher Game Sale by Year"
        },
        "updatemenus": [
         {
          "buttons": [
           {
            "args": [
             null,
             {
              "frame": {
               "duration": 500,
               "redraw": true
              },
              "fromcurrent": true,
              "mode": "immediate",
              "transition": {
               "duration": 500,
               "easing": "linear"
              }
             }
            ],
            "label": "&#9654;",
            "method": "animate"
           },
           {
            "args": [
             [
              null
             ],
             {
              "frame": {
               "duration": 0,
               "redraw": true
              },
              "fromcurrent": true,
              "mode": "immediate",
              "transition": {
               "duration": 0,
               "easing": "linear"
              }
             }
            ],
            "label": "&#9724;",
            "method": "animate"
           }
          ],
          "direction": "left",
          "pad": {
           "r": 10,
           "t": 70
          },
          "showactive": false,
          "type": "buttons",
          "x": 0.1,
          "xanchor": "right",
          "y": 0,
          "yanchor": "top"
         }
        ],
        "xaxis": {
         "anchor": "y",
         "categoryarray": [
          "Nintendo",
          "Sony Computer Entertainment",
          "Microsoft Game Studios",
          "Electronic Arts",
          "Konami Digital Entertainment"
         ],
         "categoryorder": "array",
         "domain": [
          0.05,
          1
         ],
         "title": {
          "text": "Publisher"
         }
        },
        "yaxis": {
         "anchor": "x",
         "domain": [
          0,
          1
         ],
         "range": [
          0,
          200
         ],
         "title": {
          "text": "total_sales"
         }
        }
       }
      },
      "text/html": [
       "<div>                            <div id=\"1015f500-401b-49d2-8b35-ef54ccac91e9\" class=\"plotly-graph-div\" style=\"height:525px; width:100%;\"></div>            <script type=\"text/javascript\">                require([\"plotly\"], function(Plotly) {                    window.PLOTLYENV=window.PLOTLYENV || {};                                    if (document.getElementById(\"1015f500-401b-49d2-8b35-ef54ccac91e9\")) {                    Plotly.newPlot(                        \"1015f500-401b-49d2-8b35-ef54ccac91e9\",                        [{\"alignmentgroup\": \"True\", \"hovertemplate\": \"<b>%{hovertext}</b><br><br>Publisher=%{x}<br>Year=2006.0<br>total_sales=%{y}<extra></extra>\", \"hovertext\": [\"Nintendo\"], \"ids\": [\"Nintendo\"], \"legendgroup\": \"Nintendo\", \"marker\": {\"color\": \"#636efa\"}, \"name\": \"Nintendo\", \"offsetgroup\": \"Nintendo\", \"orientation\": \"v\", \"showlegend\": true, \"textposition\": \"auto\", \"type\": \"bar\", \"x\": [\"Nintendo\"], \"xaxis\": \"x\", \"y\": [205.60999999999999], \"yaxis\": \"y\"}, {\"alignmentgroup\": \"True\", \"hovertemplate\": \"<b>%{hovertext}</b><br><br>Publisher=%{x}<br>Year=2006.0<br>total_sales=%{y}<extra></extra>\", \"hovertext\": [\"Sony Computer Entertainment\"], \"ids\": [\"Sony Computer Entertainment\"], \"legendgroup\": \"Sony Computer Entertainment\", \"marker\": {\"color\": \"#EF553B\"}, \"name\": \"Sony Computer Entertainment\", \"offsetgroup\": \"Sony Computer Entertainment\", \"orientation\": \"v\", \"showlegend\": true, \"textposition\": \"auto\", \"type\": \"bar\", \"x\": [\"Sony Computer Entertainment\"], \"xaxis\": \"x\", \"y\": [33.81], \"yaxis\": \"y\"}, {\"alignmentgroup\": \"True\", \"hovertemplate\": \"<b>%{hovertext}</b><br><br>Publisher=%{x}<br>Year=2006.0<br>total_sales=%{y}<extra></extra>\", \"hovertext\": [\"Microsoft Game Studios\"], \"ids\": [\"Microsoft Game Studios\"], \"legendgroup\": \"Microsoft Game Studios\", \"marker\": {\"color\": \"#00cc96\"}, \"name\": \"Microsoft Game Studios\", \"offsetgroup\": \"Microsoft Game Studios\", \"orientation\": \"v\", \"showlegend\": true, \"textposition\": \"auto\", \"type\": \"bar\", \"x\": [\"Microsoft Game Studios\"], \"xaxis\": \"x\", \"y\": [9.98], \"yaxis\": \"y\"}, {\"alignmentgroup\": \"True\", \"hovertemplate\": \"<b>%{hovertext}</b><br><br>Publisher=%{x}<br>Year=2006.0<br>total_sales=%{y}<extra></extra>\", \"hovertext\": [\"Electronic Arts\"], \"ids\": [\"Electronic Arts\"], \"legendgroup\": \"Electronic Arts\", \"marker\": {\"color\": \"#ab63fa\"}, \"name\": \"Electronic Arts\", \"offsetgroup\": \"Electronic Arts\", \"orientation\": \"v\", \"showlegend\": true, \"textposition\": \"auto\", \"type\": \"bar\", \"x\": [\"Electronic Arts\"], \"xaxis\": \"x\", \"y\": [58.410000000000025], \"yaxis\": \"y\"}, {\"alignmentgroup\": \"True\", \"hovertemplate\": \"<b>%{hovertext}</b><br><br>Publisher=%{x}<br>Year=2006.0<br>total_sales=%{y}<extra></extra>\", \"hovertext\": [\"Konami Digital Entertainment\"], \"ids\": [\"Konami Digital Entertainment\"], \"legendgroup\": \"Konami Digital Entertainment\", \"marker\": {\"color\": \"#FFA15A\"}, \"name\": \"Konami Digital Entertainment\", \"offsetgroup\": \"Konami Digital Entertainment\", \"orientation\": \"v\", \"showlegend\": true, \"textposition\": \"auto\", \"type\": \"bar\", \"x\": [\"Konami Digital Entertainment\"], \"xaxis\": \"x\", \"y\": [14.599999999999996], \"yaxis\": \"y\"}],                        {\"barmode\": \"relative\", \"legend\": {\"title\": {\"text\": \"Publisher\"}, \"tracegroupgap\": 0}, \"margin\": {\"t\": 60}, \"sliders\": [{\"active\": 0, \"currentvalue\": {\"prefix\": \"Year=\"}, \"len\": 0.9, \"pad\": {\"b\": 10, \"t\": 60}, \"steps\": [{\"args\": [[\"2006.0\"], {\"frame\": {\"duration\": 0, \"redraw\": true}, \"fromcurrent\": true, \"mode\": \"immediate\", \"transition\": {\"duration\": 0, \"easing\": \"linear\"}}], \"label\": \"2006.0\", \"method\": \"animate\"}, {\"args\": [[\"2007.0\"], {\"frame\": {\"duration\": 0, \"redraw\": true}, \"fromcurrent\": true, \"mode\": \"immediate\", \"transition\": {\"duration\": 0, \"easing\": \"linear\"}}], \"label\": \"2007.0\", \"method\": \"animate\"}, {\"args\": [[\"2008.0\"], {\"frame\": {\"duration\": 0, \"redraw\": true}, \"fromcurrent\": true, \"mode\": \"immediate\", \"transition\": {\"duration\": 0, \"easing\": \"linear\"}}], \"label\": \"2008.0\", \"method\": \"animate\"}, {\"args\": [[\"2009.0\"], {\"frame\": {\"duration\": 0, \"redraw\": true}, \"fromcurrent\": true, \"mode\": \"immediate\", \"transition\": {\"duration\": 0, \"easing\": \"linear\"}}], \"label\": \"2009.0\", \"method\": \"animate\"}, {\"args\": [[\"2010.0\"], {\"frame\": {\"duration\": 0, \"redraw\": true}, \"fromcurrent\": true, \"mode\": \"immediate\", \"transition\": {\"duration\": 0, \"easing\": \"linear\"}}], \"label\": \"2010.0\", \"method\": \"animate\"}, {\"args\": [[\"2011.0\"], {\"frame\": {\"duration\": 0, \"redraw\": true}, \"fromcurrent\": true, \"mode\": \"immediate\", \"transition\": {\"duration\": 0, \"easing\": \"linear\"}}], \"label\": \"2011.0\", \"method\": \"animate\"}, {\"args\": [[\"2012.0\"], {\"frame\": {\"duration\": 0, \"redraw\": true}, \"fromcurrent\": true, \"mode\": \"immediate\", \"transition\": {\"duration\": 0, \"easing\": \"linear\"}}], \"label\": \"2012.0\", \"method\": \"animate\"}, {\"args\": [[\"2013.0\"], {\"frame\": {\"duration\": 0, \"redraw\": true}, \"fromcurrent\": true, \"mode\": \"immediate\", \"transition\": {\"duration\": 0, \"easing\": \"linear\"}}], \"label\": \"2013.0\", \"method\": \"animate\"}, {\"args\": [[\"2014.0\"], {\"frame\": {\"duration\": 0, \"redraw\": true}, \"fromcurrent\": true, \"mode\": \"immediate\", \"transition\": {\"duration\": 0, \"easing\": \"linear\"}}], \"label\": \"2014.0\", \"method\": \"animate\"}, {\"args\": [[\"2015.0\"], {\"frame\": {\"duration\": 0, \"redraw\": true}, \"fromcurrent\": true, \"mode\": \"immediate\", \"transition\": {\"duration\": 0, \"easing\": \"linear\"}}], \"label\": \"2015.0\", \"method\": \"animate\"}, {\"args\": [[\"2016.0\"], {\"frame\": {\"duration\": 0, \"redraw\": true}, \"fromcurrent\": true, \"mode\": \"immediate\", \"transition\": {\"duration\": 0, \"easing\": \"linear\"}}], \"label\": \"2016.0\", \"method\": \"animate\"}], \"x\": 0.1, \"xanchor\": \"left\", \"y\": 0, \"yanchor\": \"top\"}], \"template\": {\"data\": {\"bar\": [{\"error_x\": {\"color\": \"#2a3f5f\"}, \"error_y\": {\"color\": \"#2a3f5f\"}, \"marker\": {\"line\": {\"color\": \"#E5ECF6\", \"width\": 0.5}}, \"type\": \"bar\"}], \"barpolar\": [{\"marker\": {\"line\": {\"color\": \"#E5ECF6\", \"width\": 0.5}}, \"type\": \"barpolar\"}], \"carpet\": [{\"aaxis\": {\"endlinecolor\": \"#2a3f5f\", \"gridcolor\": \"white\", \"linecolor\": \"white\", \"minorgridcolor\": \"white\", \"startlinecolor\": \"#2a3f5f\"}, \"baxis\": {\"endlinecolor\": \"#2a3f5f\", \"gridcolor\": \"white\", \"linecolor\": \"white\", \"minorgridcolor\": \"white\", \"startlinecolor\": \"#2a3f5f\"}, \"type\": \"carpet\"}], \"choropleth\": [{\"colorbar\": {\"outlinewidth\": 0, \"ticks\": \"\"}, \"type\": \"choropleth\"}], \"contour\": [{\"colorbar\": {\"outlinewidth\": 0, \"ticks\": \"\"}, \"colorscale\": [[0.0, \"#0d0887\"], [0.1111111111111111, \"#46039f\"], [0.2222222222222222, \"#7201a8\"], [0.3333333333333333, \"#9c179e\"], [0.4444444444444444, \"#bd3786\"], [0.5555555555555556, \"#d8576b\"], [0.6666666666666666, \"#ed7953\"], [0.7777777777777778, \"#fb9f3a\"], [0.8888888888888888, \"#fdca26\"], [1.0, \"#f0f921\"]], \"type\": \"contour\"}], \"contourcarpet\": [{\"colorbar\": {\"outlinewidth\": 0, \"ticks\": \"\"}, \"type\": \"contourcarpet\"}], \"heatmap\": [{\"colorbar\": {\"outlinewidth\": 0, \"ticks\": \"\"}, \"colorscale\": [[0.0, \"#0d0887\"], [0.1111111111111111, \"#46039f\"], [0.2222222222222222, \"#7201a8\"], [0.3333333333333333, \"#9c179e\"], [0.4444444444444444, \"#bd3786\"], [0.5555555555555556, \"#d8576b\"], [0.6666666666666666, \"#ed7953\"], [0.7777777777777778, \"#fb9f3a\"], [0.8888888888888888, \"#fdca26\"], [1.0, \"#f0f921\"]], \"type\": \"heatmap\"}], \"heatmapgl\": [{\"colorbar\": {\"outlinewidth\": 0, \"ticks\": \"\"}, \"colorscale\": [[0.0, \"#0d0887\"], [0.1111111111111111, \"#46039f\"], [0.2222222222222222, \"#7201a8\"], [0.3333333333333333, \"#9c179e\"], [0.4444444444444444, \"#bd3786\"], [0.5555555555555556, \"#d8576b\"], [0.6666666666666666, \"#ed7953\"], [0.7777777777777778, \"#fb9f3a\"], [0.8888888888888888, \"#fdca26\"], [1.0, \"#f0f921\"]], \"type\": \"heatmapgl\"}], \"histogram\": [{\"marker\": {\"colorbar\": {\"outlinewidth\": 0, \"ticks\": \"\"}}, \"type\": \"histogram\"}], \"histogram2d\": [{\"colorbar\": {\"outlinewidth\": 0, \"ticks\": \"\"}, \"colorscale\": [[0.0, \"#0d0887\"], [0.1111111111111111, \"#46039f\"], [0.2222222222222222, \"#7201a8\"], [0.3333333333333333, \"#9c179e\"], [0.4444444444444444, \"#bd3786\"], [0.5555555555555556, \"#d8576b\"], [0.6666666666666666, \"#ed7953\"], [0.7777777777777778, \"#fb9f3a\"], [0.8888888888888888, \"#fdca26\"], [1.0, \"#f0f921\"]], \"type\": \"histogram2d\"}], \"histogram2dcontour\": [{\"colorbar\": {\"outlinewidth\": 0, \"ticks\": \"\"}, \"colorscale\": [[0.0, \"#0d0887\"], [0.1111111111111111, \"#46039f\"], [0.2222222222222222, \"#7201a8\"], [0.3333333333333333, \"#9c179e\"], [0.4444444444444444, \"#bd3786\"], [0.5555555555555556, \"#d8576b\"], [0.6666666666666666, \"#ed7953\"], [0.7777777777777778, \"#fb9f3a\"], [0.8888888888888888, \"#fdca26\"], [1.0, \"#f0f921\"]], \"type\": \"histogram2dcontour\"}], \"mesh3d\": [{\"colorbar\": {\"outlinewidth\": 0, \"ticks\": \"\"}, \"type\": \"mesh3d\"}], \"parcoords\": [{\"line\": {\"colorbar\": {\"outlinewidth\": 0, \"ticks\": \"\"}}, \"type\": \"parcoords\"}], \"pie\": [{\"automargin\": true, \"type\": \"pie\"}], \"scatter\": [{\"marker\": {\"colorbar\": {\"outlinewidth\": 0, \"ticks\": \"\"}}, \"type\": \"scatter\"}], \"scatter3d\": [{\"line\": {\"colorbar\": {\"outlinewidth\": 0, \"ticks\": \"\"}}, \"marker\": {\"colorbar\": {\"outlinewidth\": 0, \"ticks\": \"\"}}, \"type\": \"scatter3d\"}], \"scattercarpet\": [{\"marker\": {\"colorbar\": {\"outlinewidth\": 0, \"ticks\": \"\"}}, \"type\": \"scattercarpet\"}], \"scattergeo\": [{\"marker\": {\"colorbar\": {\"outlinewidth\": 0, \"ticks\": \"\"}}, \"type\": \"scattergeo\"}], \"scattergl\": [{\"marker\": {\"colorbar\": {\"outlinewidth\": 0, \"ticks\": \"\"}}, \"type\": \"scattergl\"}], \"scattermapbox\": [{\"marker\": {\"colorbar\": {\"outlinewidth\": 0, \"ticks\": \"\"}}, \"type\": \"scattermapbox\"}], \"scatterpolar\": [{\"marker\": {\"colorbar\": {\"outlinewidth\": 0, \"ticks\": \"\"}}, \"type\": \"scatterpolar\"}], \"scatterpolargl\": [{\"marker\": {\"colorbar\": {\"outlinewidth\": 0, \"ticks\": \"\"}}, \"type\": \"scatterpolargl\"}], \"scatterternary\": [{\"marker\": {\"colorbar\": {\"outlinewidth\": 0, \"ticks\": \"\"}}, \"type\": \"scatterternary\"}], \"surface\": [{\"colorbar\": {\"outlinewidth\": 0, \"ticks\": \"\"}, \"colorscale\": [[0.0, \"#0d0887\"], [0.1111111111111111, \"#46039f\"], [0.2222222222222222, \"#7201a8\"], [0.3333333333333333, \"#9c179e\"], [0.4444444444444444, \"#bd3786\"], [0.5555555555555556, \"#d8576b\"], [0.6666666666666666, \"#ed7953\"], [0.7777777777777778, \"#fb9f3a\"], [0.8888888888888888, \"#fdca26\"], [1.0, \"#f0f921\"]], \"type\": \"surface\"}], \"table\": [{\"cells\": {\"fill\": {\"color\": \"#EBF0F8\"}, \"line\": {\"color\": \"white\"}}, \"header\": {\"fill\": {\"color\": \"#C8D4E3\"}, \"line\": {\"color\": \"white\"}}, \"type\": \"table\"}]}, \"layout\": {\"annotationdefaults\": {\"arrowcolor\": \"#2a3f5f\", \"arrowhead\": 0, \"arrowwidth\": 1}, \"autotypenumbers\": \"strict\", \"coloraxis\": {\"colorbar\": {\"outlinewidth\": 0, \"ticks\": \"\"}}, \"colorscale\": {\"diverging\": [[0, \"#8e0152\"], [0.1, \"#c51b7d\"], [0.2, \"#de77ae\"], [0.3, \"#f1b6da\"], [0.4, \"#fde0ef\"], [0.5, \"#f7f7f7\"], [0.6, \"#e6f5d0\"], [0.7, \"#b8e186\"], [0.8, \"#7fbc41\"], [0.9, \"#4d9221\"], [1, \"#276419\"]], \"sequential\": [[0.0, \"#0d0887\"], [0.1111111111111111, \"#46039f\"], [0.2222222222222222, \"#7201a8\"], [0.3333333333333333, \"#9c179e\"], [0.4444444444444444, \"#bd3786\"], [0.5555555555555556, \"#d8576b\"], [0.6666666666666666, \"#ed7953\"], [0.7777777777777778, \"#fb9f3a\"], [0.8888888888888888, \"#fdca26\"], [1.0, \"#f0f921\"]], \"sequentialminus\": [[0.0, \"#0d0887\"], [0.1111111111111111, \"#46039f\"], [0.2222222222222222, \"#7201a8\"], [0.3333333333333333, \"#9c179e\"], [0.4444444444444444, \"#bd3786\"], [0.5555555555555556, \"#d8576b\"], [0.6666666666666666, \"#ed7953\"], [0.7777777777777778, \"#fb9f3a\"], [0.8888888888888888, \"#fdca26\"], [1.0, \"#f0f921\"]]}, \"colorway\": [\"#636efa\", \"#EF553B\", \"#00cc96\", \"#ab63fa\", \"#FFA15A\", \"#19d3f3\", \"#FF6692\", \"#B6E880\", \"#FF97FF\", \"#FECB52\"], \"font\": {\"color\": \"#2a3f5f\"}, \"geo\": {\"bgcolor\": \"white\", \"lakecolor\": \"white\", \"landcolor\": \"#E5ECF6\", \"showlakes\": true, \"showland\": true, \"subunitcolor\": \"white\"}, \"hoverlabel\": {\"align\": \"left\"}, \"hovermode\": \"closest\", \"mapbox\": {\"style\": \"light\"}, \"paper_bgcolor\": \"white\", \"plot_bgcolor\": \"#E5ECF6\", \"polar\": {\"angularaxis\": {\"gridcolor\": \"white\", \"linecolor\": \"white\", \"ticks\": \"\"}, \"bgcolor\": \"#E5ECF6\", \"radialaxis\": {\"gridcolor\": \"white\", \"linecolor\": \"white\", \"ticks\": \"\"}}, \"scene\": {\"xaxis\": {\"backgroundcolor\": \"#E5ECF6\", \"gridcolor\": \"white\", \"gridwidth\": 2, \"linecolor\": \"white\", \"showbackground\": true, \"ticks\": \"\", \"zerolinecolor\": \"white\"}, \"yaxis\": {\"backgroundcolor\": \"#E5ECF6\", \"gridcolor\": \"white\", \"gridwidth\": 2, \"linecolor\": \"white\", \"showbackground\": true, \"ticks\": \"\", \"zerolinecolor\": \"white\"}, \"zaxis\": {\"backgroundcolor\": \"#E5ECF6\", \"gridcolor\": \"white\", \"gridwidth\": 2, \"linecolor\": \"white\", \"showbackground\": true, \"ticks\": \"\", \"zerolinecolor\": \"white\"}}, \"shapedefaults\": {\"line\": {\"color\": \"#2a3f5f\"}}, \"ternary\": {\"aaxis\": {\"gridcolor\": \"white\", \"linecolor\": \"white\", \"ticks\": \"\"}, \"baxis\": {\"gridcolor\": \"white\", \"linecolor\": \"white\", \"ticks\": \"\"}, \"bgcolor\": \"#E5ECF6\", \"caxis\": {\"gridcolor\": \"white\", \"linecolor\": \"white\", \"ticks\": \"\"}}, \"title\": {\"x\": 0.05}, \"xaxis\": {\"automargin\": true, \"gridcolor\": \"white\", \"linecolor\": \"white\", \"ticks\": \"\", \"title\": {\"standoff\": 15}, \"zerolinecolor\": \"white\", \"zerolinewidth\": 2}, \"yaxis\": {\"automargin\": true, \"gridcolor\": \"white\", \"linecolor\": \"white\", \"ticks\": \"\", \"title\": {\"standoff\": 15}, \"zerolinecolor\": \"white\", \"zerolinewidth\": 2}}}, \"title\": {\"text\": \"Top 5 Publisher Game Sale by Year\"}, \"updatemenus\": [{\"buttons\": [{\"args\": [null, {\"frame\": {\"duration\": 500, \"redraw\": true}, \"fromcurrent\": true, \"mode\": \"immediate\", \"transition\": {\"duration\": 500, \"easing\": \"linear\"}}], \"label\": \"&#9654;\", \"method\": \"animate\"}, {\"args\": [[null], {\"frame\": {\"duration\": 0, \"redraw\": true}, \"fromcurrent\": true, \"mode\": \"immediate\", \"transition\": {\"duration\": 0, \"easing\": \"linear\"}}], \"label\": \"&#9724;\", \"method\": \"animate\"}], \"direction\": \"left\", \"pad\": {\"r\": 10, \"t\": 70}, \"showactive\": false, \"type\": \"buttons\", \"x\": 0.1, \"xanchor\": \"right\", \"y\": 0, \"yanchor\": \"top\"}], \"xaxis\": {\"anchor\": \"y\", \"categoryarray\": [\"Nintendo\", \"Sony Computer Entertainment\", \"Microsoft Game Studios\", \"Electronic Arts\", \"Konami Digital Entertainment\"], \"categoryorder\": \"array\", \"domain\": [0.05, 1.0], \"title\": {\"text\": \"Publisher\"}}, \"yaxis\": {\"anchor\": \"x\", \"domain\": [0.0, 1.0], \"range\": [0, 200], \"title\": {\"text\": \"total_sales\"}}},                        {\"responsive\": true}                    ).then(function(){\n",
       "                            Plotly.addFrames('1015f500-401b-49d2-8b35-ef54ccac91e9', [{\"data\": [{\"alignmentgroup\": \"True\", \"hovertemplate\": \"<b>%{hovertext}</b><br><br>Publisher=%{x}<br>Year=2006.0<br>total_sales=%{y}<extra></extra>\", \"hovertext\": [\"Nintendo\"], \"ids\": [\"Nintendo\"], \"legendgroup\": \"Nintendo\", \"marker\": {\"color\": \"#636efa\"}, \"name\": \"Nintendo\", \"offsetgroup\": \"Nintendo\", \"orientation\": \"v\", \"showlegend\": true, \"textposition\": \"auto\", \"x\": [\"Nintendo\"], \"xaxis\": \"x\", \"y\": [205.60999999999999], \"yaxis\": \"y\", \"type\": \"bar\"}, {\"alignmentgroup\": \"True\", \"hovertemplate\": \"<b>%{hovertext}</b><br><br>Publisher=%{x}<br>Year=2006.0<br>total_sales=%{y}<extra></extra>\", \"hovertext\": [\"Sony Computer Entertainment\"], \"ids\": [\"Sony Computer Entertainment\"], \"legendgroup\": \"Sony Computer Entertainment\", \"marker\": {\"color\": \"#EF553B\"}, \"name\": \"Sony Computer Entertainment\", \"offsetgroup\": \"Sony Computer Entertainment\", \"orientation\": \"v\", \"showlegend\": true, \"textposition\": \"auto\", \"x\": [\"Sony Computer Entertainment\"], \"xaxis\": \"x\", \"y\": [33.81], \"yaxis\": \"y\", \"type\": \"bar\"}, {\"alignmentgroup\": \"True\", \"hovertemplate\": \"<b>%{hovertext}</b><br><br>Publisher=%{x}<br>Year=2006.0<br>total_sales=%{y}<extra></extra>\", \"hovertext\": [\"Microsoft Game Studios\"], \"ids\": [\"Microsoft Game Studios\"], \"legendgroup\": \"Microsoft Game Studios\", \"marker\": {\"color\": \"#00cc96\"}, \"name\": \"Microsoft Game Studios\", \"offsetgroup\": \"Microsoft Game Studios\", \"orientation\": \"v\", \"showlegend\": true, \"textposition\": \"auto\", \"x\": [\"Microsoft Game Studios\"], \"xaxis\": \"x\", \"y\": [9.98], \"yaxis\": \"y\", \"type\": \"bar\"}, {\"alignmentgroup\": \"True\", \"hovertemplate\": \"<b>%{hovertext}</b><br><br>Publisher=%{x}<br>Year=2006.0<br>total_sales=%{y}<extra></extra>\", \"hovertext\": [\"Electronic Arts\"], \"ids\": [\"Electronic Arts\"], \"legendgroup\": \"Electronic Arts\", \"marker\": {\"color\": \"#ab63fa\"}, \"name\": \"Electronic Arts\", \"offsetgroup\": \"Electronic Arts\", \"orientation\": \"v\", \"showlegend\": true, \"textposition\": \"auto\", \"x\": [\"Electronic Arts\"], \"xaxis\": \"x\", \"y\": [58.410000000000025], \"yaxis\": \"y\", \"type\": \"bar\"}, {\"alignmentgroup\": \"True\", \"hovertemplate\": \"<b>%{hovertext}</b><br><br>Publisher=%{x}<br>Year=2006.0<br>total_sales=%{y}<extra></extra>\", \"hovertext\": [\"Konami Digital Entertainment\"], \"ids\": [\"Konami Digital Entertainment\"], \"legendgroup\": \"Konami Digital Entertainment\", \"marker\": {\"color\": \"#FFA15A\"}, \"name\": \"Konami Digital Entertainment\", \"offsetgroup\": \"Konami Digital Entertainment\", \"orientation\": \"v\", \"showlegend\": true, \"textposition\": \"auto\", \"x\": [\"Konami Digital Entertainment\"], \"xaxis\": \"x\", \"y\": [14.599999999999996], \"yaxis\": \"y\", \"type\": \"bar\"}], \"name\": \"2006.0\"}, {\"data\": [{\"alignmentgroup\": \"True\", \"hovertemplate\": \"<b>%{hovertext}</b><br><br>Publisher=%{x}<br>Year=2007.0<br>total_sales=%{y}<extra></extra>\", \"hovertext\": [\"Nintendo\"], \"ids\": [\"Nintendo\"], \"legendgroup\": \"Nintendo\", \"marker\": {\"color\": \"#636efa\"}, \"name\": \"Nintendo\", \"offsetgroup\": \"Nintendo\", \"orientation\": \"v\", \"showlegend\": true, \"textposition\": \"auto\", \"x\": [\"Nintendo\"], \"xaxis\": \"x\", \"y\": [104.18], \"yaxis\": \"y\", \"type\": \"bar\"}, {\"alignmentgroup\": \"True\", \"hovertemplate\": \"<b>%{hovertext}</b><br><br>Publisher=%{x}<br>Year=2007.0<br>total_sales=%{y}<extra></extra>\", \"hovertext\": [\"Sony Computer Entertainment\"], \"ids\": [\"Sony Computer Entertainment\"], \"legendgroup\": \"Sony Computer Entertainment\", \"marker\": {\"color\": \"#EF553B\"}, \"name\": \"Sony Computer Entertainment\", \"offsetgroup\": \"Sony Computer Entertainment\", \"orientation\": \"v\", \"showlegend\": true, \"textposition\": \"auto\", \"x\": [\"Sony Computer Entertainment\"], \"xaxis\": \"x\", \"y\": [37.54000000000002], \"yaxis\": \"y\", \"type\": \"bar\"}, {\"alignmentgroup\": \"True\", \"hovertemplate\": \"<b>%{hovertext}</b><br><br>Publisher=%{x}<br>Year=2007.0<br>total_sales=%{y}<extra></extra>\", \"hovertext\": [\"Microsoft Game Studios\"], \"ids\": [\"Microsoft Game Studios\"], \"legendgroup\": \"Microsoft Game Studios\", \"marker\": {\"color\": \"#00cc96\"}, \"name\": \"Microsoft Game Studios\", \"offsetgroup\": \"Microsoft Game Studios\", \"orientation\": \"v\", \"showlegend\": true, \"textposition\": \"auto\", \"x\": [\"Microsoft Game Studios\"], \"xaxis\": \"x\", \"y\": [26.100000000000005], \"yaxis\": \"y\", \"type\": \"bar\"}, {\"alignmentgroup\": \"True\", \"hovertemplate\": \"<b>%{hovertext}</b><br><br>Publisher=%{x}<br>Year=2007.0<br>total_sales=%{y}<extra></extra>\", \"hovertext\": [\"Electronic Arts\"], \"ids\": [\"Electronic Arts\"], \"legendgroup\": \"Electronic Arts\", \"marker\": {\"color\": \"#ab63fa\"}, \"name\": \"Electronic Arts\", \"offsetgroup\": \"Electronic Arts\", \"orientation\": \"v\", \"showlegend\": true, \"textposition\": \"auto\", \"x\": [\"Electronic Arts\"], \"xaxis\": \"x\", \"y\": [71.33], \"yaxis\": \"y\", \"type\": \"bar\"}, {\"alignmentgroup\": \"True\", \"hovertemplate\": \"<b>%{hovertext}</b><br><br>Publisher=%{x}<br>Year=2007.0<br>total_sales=%{y}<extra></extra>\", \"hovertext\": [\"Konami Digital Entertainment\"], \"ids\": [\"Konami Digital Entertainment\"], \"legendgroup\": \"Konami Digital Entertainment\", \"marker\": {\"color\": \"#FFA15A\"}, \"name\": \"Konami Digital Entertainment\", \"offsetgroup\": \"Konami Digital Entertainment\", \"orientation\": \"v\", \"showlegend\": true, \"textposition\": \"auto\", \"x\": [\"Konami Digital Entertainment\"], \"xaxis\": \"x\", \"y\": [17.21], \"yaxis\": \"y\", \"type\": \"bar\"}], \"name\": \"2007.0\"}, {\"data\": [{\"alignmentgroup\": \"True\", \"hovertemplate\": \"<b>%{hovertext}</b><br><br>Publisher=%{x}<br>Year=2008.0<br>total_sales=%{y}<extra></extra>\", \"hovertext\": [\"Nintendo\"], \"ids\": [\"Nintendo\"], \"legendgroup\": \"Nintendo\", \"marker\": {\"color\": \"#636efa\"}, \"name\": \"Nintendo\", \"offsetgroup\": \"Nintendo\", \"orientation\": \"v\", \"showlegend\": true, \"textposition\": \"auto\", \"x\": [\"Nintendo\"], \"xaxis\": \"x\", \"y\": [91.22000000000004], \"yaxis\": \"y\", \"type\": \"bar\"}, {\"alignmentgroup\": \"True\", \"hovertemplate\": \"<b>%{hovertext}</b><br><br>Publisher=%{x}<br>Year=2008.0<br>total_sales=%{y}<extra></extra>\", \"hovertext\": [\"Sony Computer Entertainment\"], \"ids\": [\"Sony Computer Entertainment\"], \"legendgroup\": \"Sony Computer Entertainment\", \"marker\": {\"color\": \"#EF553B\"}, \"name\": \"Sony Computer Entertainment\", \"offsetgroup\": \"Sony Computer Entertainment\", \"orientation\": \"v\", \"showlegend\": true, \"textposition\": \"auto\", \"x\": [\"Sony Computer Entertainment\"], \"xaxis\": \"x\", \"y\": [26.639999999999997], \"yaxis\": \"y\", \"type\": \"bar\"}, {\"alignmentgroup\": \"True\", \"hovertemplate\": \"<b>%{hovertext}</b><br><br>Publisher=%{x}<br>Year=2008.0<br>total_sales=%{y}<extra></extra>\", \"hovertext\": [\"Microsoft Game Studios\"], \"ids\": [\"Microsoft Game Studios\"], \"legendgroup\": \"Microsoft Game Studios\", \"marker\": {\"color\": \"#00cc96\"}, \"name\": \"Microsoft Game Studios\", \"offsetgroup\": \"Microsoft Game Studios\", \"orientation\": \"v\", \"showlegend\": true, \"textposition\": \"auto\", \"x\": [\"Microsoft Game Studios\"], \"xaxis\": \"x\", \"y\": [15.309999999999999], \"yaxis\": \"y\", \"type\": \"bar\"}, {\"alignmentgroup\": \"True\", \"hovertemplate\": \"<b>%{hovertext}</b><br><br>Publisher=%{x}<br>Year=2008.0<br>total_sales=%{y}<extra></extra>\", \"hovertext\": [\"Electronic Arts\"], \"ids\": [\"Electronic Arts\"], \"legendgroup\": \"Electronic Arts\", \"marker\": {\"color\": \"#ab63fa\"}, \"name\": \"Electronic Arts\", \"offsetgroup\": \"Electronic Arts\", \"orientation\": \"v\", \"showlegend\": true, \"textposition\": \"auto\", \"x\": [\"Electronic Arts\"], \"xaxis\": \"x\", \"y\": [84.12], \"yaxis\": \"y\", \"type\": \"bar\"}, {\"alignmentgroup\": \"True\", \"hovertemplate\": \"<b>%{hovertext}</b><br><br>Publisher=%{x}<br>Year=2008.0<br>total_sales=%{y}<extra></extra>\", \"hovertext\": [\"Konami Digital Entertainment\"], \"ids\": [\"Konami Digital Entertainment\"], \"legendgroup\": \"Konami Digital Entertainment\", \"marker\": {\"color\": \"#FFA15A\"}, \"name\": \"Konami Digital Entertainment\", \"offsetgroup\": \"Konami Digital Entertainment\", \"orientation\": \"v\", \"showlegend\": true, \"textposition\": \"auto\", \"x\": [\"Konami Digital Entertainment\"], \"xaxis\": \"x\", \"y\": [27.819999999999986], \"yaxis\": \"y\", \"type\": \"bar\"}], \"name\": \"2008.0\"}, {\"data\": [{\"alignmentgroup\": \"True\", \"hovertemplate\": \"<b>%{hovertext}</b><br><br>Publisher=%{x}<br>Year=2009.0<br>total_sales=%{y}<extra></extra>\", \"hovertext\": [\"Nintendo\"], \"ids\": [\"Nintendo\"], \"legendgroup\": \"Nintendo\", \"marker\": {\"color\": \"#636efa\"}, \"name\": \"Nintendo\", \"offsetgroup\": \"Nintendo\", \"orientation\": \"v\", \"showlegend\": true, \"textposition\": \"auto\", \"x\": [\"Nintendo\"], \"xaxis\": \"x\", \"y\": [128.89], \"yaxis\": \"y\", \"type\": \"bar\"}, {\"alignmentgroup\": \"True\", \"hovertemplate\": \"<b>%{hovertext}</b><br><br>Publisher=%{x}<br>Year=2009.0<br>total_sales=%{y}<extra></extra>\", \"hovertext\": [\"Sony Computer Entertainment\"], \"ids\": [\"Sony Computer Entertainment\"], \"legendgroup\": \"Sony Computer Entertainment\", \"marker\": {\"color\": \"#EF553B\"}, \"name\": \"Sony Computer Entertainment\", \"offsetgroup\": \"Sony Computer Entertainment\", \"orientation\": \"v\", \"showlegend\": true, \"textposition\": \"auto\", \"x\": [\"Sony Computer Entertainment\"], \"xaxis\": \"x\", \"y\": [36.53], \"yaxis\": \"y\", \"type\": \"bar\"}, {\"alignmentgroup\": \"True\", \"hovertemplate\": \"<b>%{hovertext}</b><br><br>Publisher=%{x}<br>Year=2009.0<br>total_sales=%{y}<extra></extra>\", \"hovertext\": [\"Microsoft Game Studios\"], \"ids\": [\"Microsoft Game Studios\"], \"legendgroup\": \"Microsoft Game Studios\", \"marker\": {\"color\": \"#00cc96\"}, \"name\": \"Microsoft Game Studios\", \"offsetgroup\": \"Microsoft Game Studios\", \"orientation\": \"v\", \"showlegend\": true, \"textposition\": \"auto\", \"x\": [\"Microsoft Game Studios\"], \"xaxis\": \"x\", \"y\": [15.610000000000001], \"yaxis\": \"y\", \"type\": \"bar\"}, {\"alignmentgroup\": \"True\", \"hovertemplate\": \"<b>%{hovertext}</b><br><br>Publisher=%{x}<br>Year=2009.0<br>total_sales=%{y}<extra></extra>\", \"hovertext\": [\"Electronic Arts\"], \"ids\": [\"Electronic Arts\"], \"legendgroup\": \"Electronic Arts\", \"marker\": {\"color\": \"#ab63fa\"}, \"name\": \"Electronic Arts\", \"offsetgroup\": \"Electronic Arts\", \"orientation\": \"v\", \"showlegend\": true, \"textposition\": \"auto\", \"x\": [\"Electronic Arts\"], \"xaxis\": \"x\", \"y\": [86.20000000000002], \"yaxis\": \"y\", \"type\": \"bar\"}, {\"alignmentgroup\": \"True\", \"hovertemplate\": \"<b>%{hovertext}</b><br><br>Publisher=%{x}<br>Year=2009.0<br>total_sales=%{y}<extra></extra>\", \"hovertext\": [\"Konami Digital Entertainment\"], \"ids\": [\"Konami Digital Entertainment\"], \"legendgroup\": \"Konami Digital Entertainment\", \"marker\": {\"color\": \"#FFA15A\"}, \"name\": \"Konami Digital Entertainment\", \"offsetgroup\": \"Konami Digital Entertainment\", \"orientation\": \"v\", \"showlegend\": true, \"textposition\": \"auto\", \"x\": [\"Konami Digital Entertainment\"], \"xaxis\": \"x\", \"y\": [16.089999999999996], \"yaxis\": \"y\", \"type\": \"bar\"}], \"name\": \"2009.0\"}, {\"data\": [{\"alignmentgroup\": \"True\", \"hovertemplate\": \"<b>%{hovertext}</b><br><br>Publisher=%{x}<br>Year=2010.0<br>total_sales=%{y}<extra></extra>\", \"hovertext\": [\"Nintendo\"], \"ids\": [\"Nintendo\"], \"legendgroup\": \"Nintendo\", \"marker\": {\"color\": \"#636efa\"}, \"name\": \"Nintendo\", \"offsetgroup\": \"Nintendo\", \"orientation\": \"v\", \"showlegend\": true, \"textposition\": \"auto\", \"x\": [\"Nintendo\"], \"xaxis\": \"x\", \"y\": [61.07], \"yaxis\": \"y\", \"type\": \"bar\"}, {\"alignmentgroup\": \"True\", \"hovertemplate\": \"<b>%{hovertext}</b><br><br>Publisher=%{x}<br>Year=2010.0<br>total_sales=%{y}<extra></extra>\", \"hovertext\": [\"Sony Computer Entertainment\"], \"ids\": [\"Sony Computer Entertainment\"], \"legendgroup\": \"Sony Computer Entertainment\", \"marker\": {\"color\": \"#EF553B\"}, \"name\": \"Sony Computer Entertainment\", \"offsetgroup\": \"Sony Computer Entertainment\", \"orientation\": \"v\", \"showlegend\": true, \"textposition\": \"auto\", \"x\": [\"Sony Computer Entertainment\"], \"xaxis\": \"x\", \"y\": [34.89], \"yaxis\": \"y\", \"type\": \"bar\"}, {\"alignmentgroup\": \"True\", \"hovertemplate\": \"<b>%{hovertext}</b><br><br>Publisher=%{x}<br>Year=2010.0<br>total_sales=%{y}<extra></extra>\", \"hovertext\": [\"Microsoft Game Studios\"], \"ids\": [\"Microsoft Game Studios\"], \"legendgroup\": \"Microsoft Game Studios\", \"marker\": {\"color\": \"#00cc96\"}, \"name\": \"Microsoft Game Studios\", \"offsetgroup\": \"Microsoft Game Studios\", \"orientation\": \"v\", \"showlegend\": true, \"textposition\": \"auto\", \"x\": [\"Microsoft Game Studios\"], \"xaxis\": \"x\", \"y\": [49.160000000000004], \"yaxis\": \"y\", \"type\": \"bar\"}, {\"alignmentgroup\": \"True\", \"hovertemplate\": \"<b>%{hovertext}</b><br><br>Publisher=%{x}<br>Year=2010.0<br>total_sales=%{y}<extra></extra>\", \"hovertext\": [\"Electronic Arts\"], \"ids\": [\"Electronic Arts\"], \"legendgroup\": \"Electronic Arts\", \"marker\": {\"color\": \"#ab63fa\"}, \"name\": \"Electronic Arts\", \"offsetgroup\": \"Electronic Arts\", \"orientation\": \"v\", \"showlegend\": true, \"textposition\": \"auto\", \"x\": [\"Electronic Arts\"], \"xaxis\": \"x\", \"y\": [81.38000000000001], \"yaxis\": \"y\", \"type\": \"bar\"}, {\"alignmentgroup\": \"True\", \"hovertemplate\": \"<b>%{hovertext}</b><br><br>Publisher=%{x}<br>Year=2010.0<br>total_sales=%{y}<extra></extra>\", \"hovertext\": [\"Konami Digital Entertainment\"], \"ids\": [\"Konami Digital Entertainment\"], \"legendgroup\": \"Konami Digital Entertainment\", \"marker\": {\"color\": \"#FFA15A\"}, \"name\": \"Konami Digital Entertainment\", \"offsetgroup\": \"Konami Digital Entertainment\", \"orientation\": \"v\", \"showlegend\": true, \"textposition\": \"auto\", \"x\": [\"Konami Digital Entertainment\"], \"xaxis\": \"x\", \"y\": [18.549999999999997], \"yaxis\": \"y\", \"type\": \"bar\"}], \"name\": \"2010.0\"}, {\"data\": [{\"alignmentgroup\": \"True\", \"hovertemplate\": \"<b>%{hovertext}</b><br><br>Publisher=%{x}<br>Year=2011.0<br>total_sales=%{y}<extra></extra>\", \"hovertext\": [\"Nintendo\"], \"ids\": [\"Nintendo\"], \"legendgroup\": \"Nintendo\", \"marker\": {\"color\": \"#636efa\"}, \"name\": \"Nintendo\", \"offsetgroup\": \"Nintendo\", \"orientation\": \"v\", \"showlegend\": true, \"textposition\": \"auto\", \"x\": [\"Nintendo\"], \"xaxis\": \"x\", \"y\": [51.53], \"yaxis\": \"y\", \"type\": \"bar\"}, {\"alignmentgroup\": \"True\", \"hovertemplate\": \"<b>%{hovertext}</b><br><br>Publisher=%{x}<br>Year=2011.0<br>total_sales=%{y}<extra></extra>\", \"hovertext\": [\"Sony Computer Entertainment\"], \"ids\": [\"Sony Computer Entertainment\"], \"legendgroup\": \"Sony Computer Entertainment\", \"marker\": {\"color\": \"#EF553B\"}, \"name\": \"Sony Computer Entertainment\", \"offsetgroup\": \"Sony Computer Entertainment\", \"orientation\": \"v\", \"showlegend\": true, \"textposition\": \"auto\", \"x\": [\"Sony Computer Entertainment\"], \"xaxis\": \"x\", \"y\": [27.399999999999995], \"yaxis\": \"y\", \"type\": \"bar\"}, {\"alignmentgroup\": \"True\", \"hovertemplate\": \"<b>%{hovertext}</b><br><br>Publisher=%{x}<br>Year=2011.0<br>total_sales=%{y}<extra></extra>\", \"hovertext\": [\"Microsoft Game Studios\"], \"ids\": [\"Microsoft Game Studios\"], \"legendgroup\": \"Microsoft Game Studios\", \"marker\": {\"color\": \"#00cc96\"}, \"name\": \"Microsoft Game Studios\", \"offsetgroup\": \"Microsoft Game Studios\", \"orientation\": \"v\", \"showlegend\": true, \"textposition\": \"auto\", \"x\": [\"Microsoft Game Studios\"], \"xaxis\": \"x\", \"y\": [21.279999999999998], \"yaxis\": \"y\", \"type\": \"bar\"}, {\"alignmentgroup\": \"True\", \"hovertemplate\": \"<b>%{hovertext}</b><br><br>Publisher=%{x}<br>Year=2011.0<br>total_sales=%{y}<extra></extra>\", \"hovertext\": [\"Electronic Arts\"], \"ids\": [\"Electronic Arts\"], \"legendgroup\": \"Electronic Arts\", \"marker\": {\"color\": \"#ab63fa\"}, \"name\": \"Electronic Arts\", \"offsetgroup\": \"Electronic Arts\", \"orientation\": \"v\", \"showlegend\": true, \"textposition\": \"auto\", \"x\": [\"Electronic Arts\"], \"xaxis\": \"x\", \"y\": [72.25], \"yaxis\": \"y\", \"type\": \"bar\"}, {\"alignmentgroup\": \"True\", \"hovertemplate\": \"<b>%{hovertext}</b><br><br>Publisher=%{x}<br>Year=2011.0<br>total_sales=%{y}<extra></extra>\", \"hovertext\": [\"Konami Digital Entertainment\"], \"ids\": [\"Konami Digital Entertainment\"], \"legendgroup\": \"Konami Digital Entertainment\", \"marker\": {\"color\": \"#FFA15A\"}, \"name\": \"Konami Digital Entertainment\", \"offsetgroup\": \"Konami Digital Entertainment\", \"orientation\": \"v\", \"showlegend\": true, \"textposition\": \"auto\", \"x\": [\"Konami Digital Entertainment\"], \"xaxis\": \"x\", \"y\": [10.04], \"yaxis\": \"y\", \"type\": \"bar\"}], \"name\": \"2011.0\"}, {\"data\": [{\"alignmentgroup\": \"True\", \"hovertemplate\": \"<b>%{hovertext}</b><br><br>Publisher=%{x}<br>Year=2012.0<br>total_sales=%{y}<extra></extra>\", \"hovertext\": [\"Nintendo\"], \"ids\": [\"Nintendo\"], \"legendgroup\": \"Nintendo\", \"marker\": {\"color\": \"#636efa\"}, \"name\": \"Nintendo\", \"offsetgroup\": \"Nintendo\", \"orientation\": \"v\", \"showlegend\": true, \"textposition\": \"auto\", \"x\": [\"Nintendo\"], \"xaxis\": \"x\", \"y\": [56.470000000000006], \"yaxis\": \"y\", \"type\": \"bar\"}, {\"alignmentgroup\": \"True\", \"hovertemplate\": \"<b>%{hovertext}</b><br><br>Publisher=%{x}<br>Year=2012.0<br>total_sales=%{y}<extra></extra>\", \"hovertext\": [\"Sony Computer Entertainment\"], \"ids\": [\"Sony Computer Entertainment\"], \"legendgroup\": \"Sony Computer Entertainment\", \"marker\": {\"color\": \"#EF553B\"}, \"name\": \"Sony Computer Entertainment\", \"offsetgroup\": \"Sony Computer Entertainment\", \"orientation\": \"v\", \"showlegend\": true, \"textposition\": \"auto\", \"x\": [\"Sony Computer Entertainment\"], \"xaxis\": \"x\", \"y\": [12.85], \"yaxis\": \"y\", \"type\": \"bar\"}, {\"alignmentgroup\": \"True\", \"hovertemplate\": \"<b>%{hovertext}</b><br><br>Publisher=%{x}<br>Year=2012.0<br>total_sales=%{y}<extra></extra>\", \"hovertext\": [\"Microsoft Game Studios\"], \"ids\": [\"Microsoft Game Studios\"], \"legendgroup\": \"Microsoft Game Studios\", \"marker\": {\"color\": \"#00cc96\"}, \"name\": \"Microsoft Game Studios\", \"offsetgroup\": \"Microsoft Game Studios\", \"orientation\": \"v\", \"showlegend\": true, \"textposition\": \"auto\", \"x\": [\"Microsoft Game Studios\"], \"xaxis\": \"x\", \"y\": [15.329999999999998], \"yaxis\": \"y\", \"type\": \"bar\"}, {\"alignmentgroup\": \"True\", \"hovertemplate\": \"<b>%{hovertext}</b><br><br>Publisher=%{x}<br>Year=2012.0<br>total_sales=%{y}<extra></extra>\", \"hovertext\": [\"Electronic Arts\"], \"ids\": [\"Electronic Arts\"], \"legendgroup\": \"Electronic Arts\", \"marker\": {\"color\": \"#ab63fa\"}, \"name\": \"Electronic Arts\", \"offsetgroup\": \"Electronic Arts\", \"orientation\": \"v\", \"showlegend\": true, \"textposition\": \"auto\", \"x\": [\"Electronic Arts\"], \"xaxis\": \"x\", \"y\": [49.89999999999996], \"yaxis\": \"y\", \"type\": \"bar\"}, {\"alignmentgroup\": \"True\", \"hovertemplate\": \"<b>%{hovertext}</b><br><br>Publisher=%{x}<br>Year=2012.0<br>total_sales=%{y}<extra></extra>\", \"hovertext\": [\"Konami Digital Entertainment\"], \"ids\": [\"Konami Digital Entertainment\"], \"legendgroup\": \"Konami Digital Entertainment\", \"marker\": {\"color\": \"#FFA15A\"}, \"name\": \"Konami Digital Entertainment\", \"offsetgroup\": \"Konami Digital Entertainment\", \"orientation\": \"v\", \"showlegend\": true, \"textposition\": \"auto\", \"x\": [\"Konami Digital Entertainment\"], \"xaxis\": \"x\", \"y\": [7.970000000000001], \"yaxis\": \"y\", \"type\": \"bar\"}], \"name\": \"2012.0\"}, {\"data\": [{\"alignmentgroup\": \"True\", \"hovertemplate\": \"<b>%{hovertext}</b><br><br>Publisher=%{x}<br>Year=2013.0<br>total_sales=%{y}<extra></extra>\", \"hovertext\": [\"Nintendo\"], \"ids\": [\"Nintendo\"], \"legendgroup\": \"Nintendo\", \"marker\": {\"color\": \"#636efa\"}, \"name\": \"Nintendo\", \"offsetgroup\": \"Nintendo\", \"orientation\": \"v\", \"showlegend\": true, \"textposition\": \"auto\", \"x\": [\"Nintendo\"], \"xaxis\": \"x\", \"y\": [52.790000000000006], \"yaxis\": \"y\", \"type\": \"bar\"}, {\"alignmentgroup\": \"True\", \"hovertemplate\": \"<b>%{hovertext}</b><br><br>Publisher=%{x}<br>Year=2013.0<br>total_sales=%{y}<extra></extra>\", \"hovertext\": [\"Sony Computer Entertainment\"], \"ids\": [\"Sony Computer Entertainment\"], \"legendgroup\": \"Sony Computer Entertainment\", \"marker\": {\"color\": \"#EF553B\"}, \"name\": \"Sony Computer Entertainment\", \"offsetgroup\": \"Sony Computer Entertainment\", \"orientation\": \"v\", \"showlegend\": true, \"textposition\": \"auto\", \"x\": [\"Sony Computer Entertainment\"], \"xaxis\": \"x\", \"y\": [12.610000000000005], \"yaxis\": \"y\", \"type\": \"bar\"}, {\"alignmentgroup\": \"True\", \"hovertemplate\": \"<b>%{hovertext}</b><br><br>Publisher=%{x}<br>Year=2013.0<br>total_sales=%{y}<extra></extra>\", \"hovertext\": [\"Microsoft Game Studios\"], \"ids\": [\"Microsoft Game Studios\"], \"legendgroup\": \"Microsoft Game Studios\", \"marker\": {\"color\": \"#00cc96\"}, \"name\": \"Microsoft Game Studios\", \"offsetgroup\": \"Microsoft Game Studios\", \"orientation\": \"v\", \"showlegend\": true, \"textposition\": \"auto\", \"x\": [\"Microsoft Game Studios\"], \"xaxis\": \"x\", \"y\": [16.389999999999997], \"yaxis\": \"y\", \"type\": \"bar\"}, {\"alignmentgroup\": \"True\", \"hovertemplate\": \"<b>%{hovertext}</b><br><br>Publisher=%{x}<br>Year=2013.0<br>total_sales=%{y}<extra></extra>\", \"hovertext\": [\"Electronic Arts\"], \"ids\": [\"Electronic Arts\"], \"legendgroup\": \"Electronic Arts\", \"marker\": {\"color\": \"#ab63fa\"}, \"name\": \"Electronic Arts\", \"offsetgroup\": \"Electronic Arts\", \"orientation\": \"v\", \"showlegend\": true, \"textposition\": \"auto\", \"x\": [\"Electronic Arts\"], \"xaxis\": \"x\", \"y\": [52.919999999999995], \"yaxis\": \"y\", \"type\": \"bar\"}, {\"alignmentgroup\": \"True\", \"hovertemplate\": \"<b>%{hovertext}</b><br><br>Publisher=%{x}<br>Year=2013.0<br>total_sales=%{y}<extra></extra>\", \"hovertext\": [\"Konami Digital Entertainment\"], \"ids\": [\"Konami Digital Entertainment\"], \"legendgroup\": \"Konami Digital Entertainment\", \"marker\": {\"color\": \"#FFA15A\"}, \"name\": \"Konami Digital Entertainment\", \"offsetgroup\": \"Konami Digital Entertainment\", \"orientation\": \"v\", \"showlegend\": true, \"textposition\": \"auto\", \"x\": [\"Konami Digital Entertainment\"], \"xaxis\": \"x\", \"y\": [5.370000000000001], \"yaxis\": \"y\", \"type\": \"bar\"}], \"name\": \"2013.0\"}, {\"data\": [{\"alignmentgroup\": \"True\", \"hovertemplate\": \"<b>%{hovertext}</b><br><br>Publisher=%{x}<br>Year=2014.0<br>total_sales=%{y}<extra></extra>\", \"hovertext\": [\"Nintendo\"], \"ids\": [\"Nintendo\"], \"legendgroup\": \"Nintendo\", \"marker\": {\"color\": \"#636efa\"}, \"name\": \"Nintendo\", \"offsetgroup\": \"Nintendo\", \"orientation\": \"v\", \"showlegend\": true, \"textposition\": \"auto\", \"x\": [\"Nintendo\"], \"xaxis\": \"x\", \"y\": [48.64999999999999], \"yaxis\": \"y\", \"type\": \"bar\"}, {\"alignmentgroup\": \"True\", \"hovertemplate\": \"<b>%{hovertext}</b><br><br>Publisher=%{x}<br>Year=2014.0<br>total_sales=%{y}<extra></extra>\", \"hovertext\": [\"Sony Computer Entertainment\"], \"ids\": [\"Sony Computer Entertainment\"], \"legendgroup\": \"Sony Computer Entertainment\", \"marker\": {\"color\": \"#EF553B\"}, \"name\": \"Sony Computer Entertainment\", \"offsetgroup\": \"Sony Computer Entertainment\", \"orientation\": \"v\", \"showlegend\": true, \"textposition\": \"auto\", \"x\": [\"Sony Computer Entertainment\"], \"xaxis\": \"x\", \"y\": [19.019999999999992], \"yaxis\": \"y\", \"type\": \"bar\"}, {\"alignmentgroup\": \"True\", \"hovertemplate\": \"<b>%{hovertext}</b><br><br>Publisher=%{x}<br>Year=2014.0<br>total_sales=%{y}<extra></extra>\", \"hovertext\": [\"Microsoft Game Studios\"], \"ids\": [\"Microsoft Game Studios\"], \"legendgroup\": \"Microsoft Game Studios\", \"marker\": {\"color\": \"#00cc96\"}, \"name\": \"Microsoft Game Studios\", \"offsetgroup\": \"Microsoft Game Studios\", \"orientation\": \"v\", \"showlegend\": true, \"textposition\": \"auto\", \"x\": [\"Microsoft Game Studios\"], \"xaxis\": \"x\", \"y\": [10.31], \"yaxis\": \"y\", \"type\": \"bar\"}, {\"alignmentgroup\": \"True\", \"hovertemplate\": \"<b>%{hovertext}</b><br><br>Publisher=%{x}<br>Year=2014.0<br>total_sales=%{y}<extra></extra>\", \"hovertext\": [\"Electronic Arts\"], \"ids\": [\"Electronic Arts\"], \"legendgroup\": \"Electronic Arts\", \"marker\": {\"color\": \"#ab63fa\"}, \"name\": \"Electronic Arts\", \"offsetgroup\": \"Electronic Arts\", \"orientation\": \"v\", \"showlegend\": true, \"textposition\": \"auto\", \"x\": [\"Electronic Arts\"], \"xaxis\": \"x\", \"y\": [46.79999999999998], \"yaxis\": \"y\", \"type\": \"bar\"}, {\"alignmentgroup\": \"True\", \"hovertemplate\": \"<b>%{hovertext}</b><br><br>Publisher=%{x}<br>Year=2014.0<br>total_sales=%{y}<extra></extra>\", \"hovertext\": [\"Konami Digital Entertainment\"], \"ids\": [\"Konami Digital Entertainment\"], \"legendgroup\": \"Konami Digital Entertainment\", \"marker\": {\"color\": \"#FFA15A\"}, \"name\": \"Konami Digital Entertainment\", \"offsetgroup\": \"Konami Digital Entertainment\", \"orientation\": \"v\", \"showlegend\": true, \"textposition\": \"auto\", \"x\": [\"Konami Digital Entertainment\"], \"xaxis\": \"x\", \"y\": [5.0600000000000005], \"yaxis\": \"y\", \"type\": \"bar\"}], \"name\": \"2014.0\"}, {\"data\": [{\"alignmentgroup\": \"True\", \"hovertemplate\": \"<b>%{hovertext}</b><br><br>Publisher=%{x}<br>Year=2015.0<br>total_sales=%{y}<extra></extra>\", \"hovertext\": [\"Nintendo\"], \"ids\": [\"Nintendo\"], \"legendgroup\": \"Nintendo\", \"marker\": {\"color\": \"#636efa\"}, \"name\": \"Nintendo\", \"offsetgroup\": \"Nintendo\", \"orientation\": \"v\", \"showlegend\": true, \"textposition\": \"auto\", \"x\": [\"Nintendo\"], \"xaxis\": \"x\", \"y\": [27.080000000000002], \"yaxis\": \"y\", \"type\": \"bar\"}, {\"alignmentgroup\": \"True\", \"hovertemplate\": \"<b>%{hovertext}</b><br><br>Publisher=%{x}<br>Year=2015.0<br>total_sales=%{y}<extra></extra>\", \"hovertext\": [\"Sony Computer Entertainment\"], \"ids\": [\"Sony Computer Entertainment\"], \"legendgroup\": \"Sony Computer Entertainment\", \"marker\": {\"color\": \"#EF553B\"}, \"name\": \"Sony Computer Entertainment\", \"offsetgroup\": \"Sony Computer Entertainment\", \"orientation\": \"v\", \"showlegend\": true, \"textposition\": \"auto\", \"x\": [\"Sony Computer Entertainment\"], \"xaxis\": \"x\", \"y\": [11.010000000000002], \"yaxis\": \"y\", \"type\": \"bar\"}, {\"alignmentgroup\": \"True\", \"hovertemplate\": \"<b>%{hovertext}</b><br><br>Publisher=%{x}<br>Year=2015.0<br>total_sales=%{y}<extra></extra>\", \"hovertext\": [\"Microsoft Game Studios\"], \"ids\": [\"Microsoft Game Studios\"], \"legendgroup\": \"Microsoft Game Studios\", \"marker\": {\"color\": \"#00cc96\"}, \"name\": \"Microsoft Game Studios\", \"offsetgroup\": \"Microsoft Game Studios\", \"orientation\": \"v\", \"showlegend\": true, \"textposition\": \"auto\", \"x\": [\"Microsoft Game Studios\"], \"xaxis\": \"x\", \"y\": [9.95], \"yaxis\": \"y\", \"type\": \"bar\"}, {\"alignmentgroup\": \"True\", \"hovertemplate\": \"<b>%{hovertext}</b><br><br>Publisher=%{x}<br>Year=2015.0<br>total_sales=%{y}<extra></extra>\", \"hovertext\": [\"Electronic Arts\"], \"ids\": [\"Electronic Arts\"], \"legendgroup\": \"Electronic Arts\", \"marker\": {\"color\": \"#ab63fa\"}, \"name\": \"Electronic Arts\", \"offsetgroup\": \"Electronic Arts\", \"orientation\": \"v\", \"showlegend\": true, \"textposition\": \"auto\", \"x\": [\"Electronic Arts\"], \"xaxis\": \"x\", \"y\": [45.42], \"yaxis\": \"y\", \"type\": \"bar\"}, {\"alignmentgroup\": \"True\", \"hovertemplate\": \"<b>%{hovertext}</b><br><br>Publisher=%{x}<br>Year=2015.0<br>total_sales=%{y}<extra></extra>\", \"hovertext\": [\"Konami Digital Entertainment\"], \"ids\": [\"Konami Digital Entertainment\"], \"legendgroup\": \"Konami Digital Entertainment\", \"marker\": {\"color\": \"#FFA15A\"}, \"name\": \"Konami Digital Entertainment\", \"offsetgroup\": \"Konami Digital Entertainment\", \"orientation\": \"v\", \"showlegend\": true, \"textposition\": \"auto\", \"x\": [\"Konami Digital Entertainment\"], \"xaxis\": \"x\", \"y\": [6.86], \"yaxis\": \"y\", \"type\": \"bar\"}], \"name\": \"2015.0\"}, {\"data\": [{\"alignmentgroup\": \"True\", \"hovertemplate\": \"<b>%{hovertext}</b><br><br>Publisher=%{x}<br>Year=2016.0<br>total_sales=%{y}<extra></extra>\", \"hovertext\": [\"Nintendo\"], \"ids\": [\"Nintendo\"], \"legendgroup\": \"Nintendo\", \"marker\": {\"color\": \"#636efa\"}, \"name\": \"Nintendo\", \"offsetgroup\": \"Nintendo\", \"orientation\": \"v\", \"showlegend\": true, \"textposition\": \"auto\", \"x\": [\"Nintendo\"], \"xaxis\": \"x\", \"y\": [3.4699999999999998], \"yaxis\": \"y\", \"type\": \"bar\"}, {\"alignmentgroup\": \"True\", \"hovertemplate\": \"<b>%{hovertext}</b><br><br>Publisher=%{x}<br>Year=2016.0<br>total_sales=%{y}<extra></extra>\", \"hovertext\": [\"Sony Computer Entertainment\"], \"ids\": [\"Sony Computer Entertainment\"], \"legendgroup\": \"Sony Computer Entertainment\", \"marker\": {\"color\": \"#EF553B\"}, \"name\": \"Sony Computer Entertainment\", \"offsetgroup\": \"Sony Computer Entertainment\", \"orientation\": \"v\", \"showlegend\": true, \"textposition\": \"auto\", \"x\": [\"Sony Computer Entertainment\"], \"xaxis\": \"x\", \"y\": [6.5600000000000005], \"yaxis\": \"y\", \"type\": \"bar\"}, {\"alignmentgroup\": \"True\", \"hovertemplate\": \"<b>%{hovertext}</b><br><br>Publisher=%{x}<br>Year=2016.0<br>total_sales=%{y}<extra></extra>\", \"hovertext\": [\"Microsoft Game Studios\"], \"ids\": [\"Microsoft Game Studios\"], \"legendgroup\": \"Microsoft Game Studios\", \"marker\": {\"color\": \"#00cc96\"}, \"name\": \"Microsoft Game Studios\", \"offsetgroup\": \"Microsoft Game Studios\", \"orientation\": \"v\", \"showlegend\": true, \"textposition\": \"auto\", \"x\": [\"Microsoft Game Studios\"], \"xaxis\": \"x\", \"y\": [1.42], \"yaxis\": \"y\", \"type\": \"bar\"}, {\"alignmentgroup\": \"True\", \"hovertemplate\": \"<b>%{hovertext}</b><br><br>Publisher=%{x}<br>Year=2016.0<br>total_sales=%{y}<extra></extra>\", \"hovertext\": [\"Electronic Arts\"], \"ids\": [\"Electronic Arts\"], \"legendgroup\": \"Electronic Arts\", \"marker\": {\"color\": \"#ab63fa\"}, \"name\": \"Electronic Arts\", \"offsetgroup\": \"Electronic Arts\", \"orientation\": \"v\", \"showlegend\": true, \"textposition\": \"auto\", \"x\": [\"Electronic Arts\"], \"xaxis\": \"x\", \"y\": [12.250000000000002], \"yaxis\": \"y\", \"type\": \"bar\"}, {\"alignmentgroup\": \"True\", \"hovertemplate\": \"<b>%{hovertext}</b><br><br>Publisher=%{x}<br>Year=2016.0<br>total_sales=%{y}<extra></extra>\", \"hovertext\": [\"Konami Digital Entertainment\"], \"ids\": [\"Konami Digital Entertainment\"], \"legendgroup\": \"Konami Digital Entertainment\", \"marker\": {\"color\": \"#FFA15A\"}, \"name\": \"Konami Digital Entertainment\", \"offsetgroup\": \"Konami Digital Entertainment\", \"orientation\": \"v\", \"showlegend\": true, \"textposition\": \"auto\", \"x\": [\"Konami Digital Entertainment\"], \"xaxis\": \"x\", \"y\": [1.2100000000000004], \"yaxis\": \"y\", \"type\": \"bar\"}], \"name\": \"2016.0\"}]);\n",
       "                        }).then(function(){\n",
       "                            \n",
       "var gd = document.getElementById('1015f500-401b-49d2-8b35-ef54ccac91e9');\n",
       "var x = new MutationObserver(function (mutations, observer) {{\n",
       "        var display = window.getComputedStyle(gd).display;\n",
       "        if (!display || display === 'none') {{\n",
       "            console.log([gd, 'removed!']);\n",
       "            Plotly.purge(gd);\n",
       "            observer.disconnect();\n",
       "        }}\n",
       "}});\n",
       "\n",
       "// Listen for the removal of the full notebook cells\n",
       "var notebookContainer = gd.closest('#notebook-container');\n",
       "if (notebookContainer) {{\n",
       "    x.observe(notebookContainer, {childList: true});\n",
       "}}\n",
       "\n",
       "// Listen for the clearing of the current output cell\n",
       "var outputEl = gd.closest('.output');\n",
       "if (outputEl) {{\n",
       "    x.observe(outputEl, {childList: true});\n",
       "}}\n",
       "\n",
       "                        })                };                });            </script>        </div>"
      ]
     },
     "metadata": {},
     "output_type": "display_data"
    }
   ],
   "source": [
    "#data visualisation\n",
    "\n",
    "fig=px.bar(publ,x='Publisher', y=\"total_sales\", animation_frame=\"Year\", \n",
    "           animation_group=\"Publisher\", color=\"Publisher\", hover_name=\"Publisher\",range_y=[0,200])\n",
    "fig.update_layout(title_text=\"Top 5 Publisher Game Sale by Year\", xaxis_domain=[0.05, 1.0])\n",
    "fig.show()"
   ]
  },
  {
   "cell_type": "markdown",
   "metadata": {},
   "source": [
    "In this question I did use px.bar in order to show progress with scrolling right and left button to see distribution. X-axis(0.05 to 1) here is 'Publisher' column , while y-axis(0,200) is for total_sales. "
   ]
  },
  {
   "cell_type": "code",
   "execution_count": 50,
   "metadata": {},
   "outputs": [
    {
     "data": {
      "text/html": [
       "<style  type=\"text/css\" >\n",
       "#T_f5510821_4bb3_11ec_9fb7_002b6768739brow0_col4,#T_f5510821_4bb3_11ec_9fb7_002b6768739brow1_col4,#T_f5510821_4bb3_11ec_9fb7_002b6768739brow2_col4,#T_f5510821_4bb3_11ec_9fb7_002b6768739brow3_col4,#T_f5510821_4bb3_11ec_9fb7_002b6768739brow4_col4,#T_f5510821_4bb3_11ec_9fb7_002b6768739brow5_col4,#T_f5510821_4bb3_11ec_9fb7_002b6768739brow6_col4,#T_f5510821_4bb3_11ec_9fb7_002b6768739brow7_col4,#T_f5510821_4bb3_11ec_9fb7_002b6768739brow8_col4,#T_f5510821_4bb3_11ec_9fb7_002b6768739brow9_col4{\n",
       "            background-color:  lightgreen;\n",
       "        }</style><table id=\"T_f5510821_4bb3_11ec_9fb7_002b6768739b\" ><thead>    <tr>        <th class=\"blank level0\" ></th>        <th class=\"col_heading level0 col0\" >Publisher</th>        <th class=\"col_heading level0 col1\" >NA_Sales</th>        <th class=\"col_heading level0 col2\" >EU_Sales</th>        <th class=\"col_heading level0 col3\" >JP_Sales</th>        <th class=\"col_heading level0 col4\" >Global_Sales</th>    </tr></thead><tbody>\n",
       "                <tr>\n",
       "                        <th id=\"T_f5510821_4bb3_11ec_9fb7_002b6768739blevel0_row0\" class=\"row_heading level0 row0\" >0</th>\n",
       "                        <td id=\"T_f5510821_4bb3_11ec_9fb7_002b6768739brow0_col0\" class=\"data row0 col0\" >Nintendo</td>\n",
       "                        <td id=\"T_f5510821_4bb3_11ec_9fb7_002b6768739brow0_col1\" class=\"data row0 col1\" >815.750000</td>\n",
       "                        <td id=\"T_f5510821_4bb3_11ec_9fb7_002b6768739brow0_col2\" class=\"data row0 col2\" >418.300000</td>\n",
       "                        <td id=\"T_f5510821_4bb3_11ec_9fb7_002b6768739brow0_col3\" class=\"data row0 col3\" >454.990000</td>\n",
       "                        <td id=\"T_f5510821_4bb3_11ec_9fb7_002b6768739brow0_col4\" class=\"data row0 col4\" >1784.430000</td>\n",
       "            </tr>\n",
       "            <tr>\n",
       "                        <th id=\"T_f5510821_4bb3_11ec_9fb7_002b6768739blevel0_row1\" class=\"row_heading level0 row1\" >1</th>\n",
       "                        <td id=\"T_f5510821_4bb3_11ec_9fb7_002b6768739brow1_col0\" class=\"data row1 col0\" >Electronic Arts</td>\n",
       "                        <td id=\"T_f5510821_4bb3_11ec_9fb7_002b6768739brow1_col1\" class=\"data row1 col1\" >584.220000</td>\n",
       "                        <td id=\"T_f5510821_4bb3_11ec_9fb7_002b6768739brow1_col2\" class=\"data row1 col2\" >367.380000</td>\n",
       "                        <td id=\"T_f5510821_4bb3_11ec_9fb7_002b6768739brow1_col3\" class=\"data row1 col3\" >13.980000</td>\n",
       "                        <td id=\"T_f5510821_4bb3_11ec_9fb7_002b6768739brow1_col4\" class=\"data row1 col4\" >1093.390000</td>\n",
       "            </tr>\n",
       "            <tr>\n",
       "                        <th id=\"T_f5510821_4bb3_11ec_9fb7_002b6768739blevel0_row2\" class=\"row_heading level0 row2\" >2</th>\n",
       "                        <td id=\"T_f5510821_4bb3_11ec_9fb7_002b6768739brow2_col0\" class=\"data row2 col0\" >Activision</td>\n",
       "                        <td id=\"T_f5510821_4bb3_11ec_9fb7_002b6768739brow2_col1\" class=\"data row2 col1\" >426.010000</td>\n",
       "                        <td id=\"T_f5510821_4bb3_11ec_9fb7_002b6768739brow2_col2\" class=\"data row2 col2\" >213.720000</td>\n",
       "                        <td id=\"T_f5510821_4bb3_11ec_9fb7_002b6768739brow2_col3\" class=\"data row2 col3\" >6.540000</td>\n",
       "                        <td id=\"T_f5510821_4bb3_11ec_9fb7_002b6768739brow2_col4\" class=\"data row2 col4\" >721.410000</td>\n",
       "            </tr>\n",
       "            <tr>\n",
       "                        <th id=\"T_f5510821_4bb3_11ec_9fb7_002b6768739blevel0_row3\" class=\"row_heading level0 row3\" >3</th>\n",
       "                        <td id=\"T_f5510821_4bb3_11ec_9fb7_002b6768739brow3_col0\" class=\"data row3 col0\" >Sony Computer Entertainment</td>\n",
       "                        <td id=\"T_f5510821_4bb3_11ec_9fb7_002b6768739brow3_col1\" class=\"data row3 col1\" >265.220000</td>\n",
       "                        <td id=\"T_f5510821_4bb3_11ec_9fb7_002b6768739brow3_col2\" class=\"data row3 col2\" >187.550000</td>\n",
       "                        <td id=\"T_f5510821_4bb3_11ec_9fb7_002b6768739brow3_col3\" class=\"data row3 col3\" >74.100000</td>\n",
       "                        <td id=\"T_f5510821_4bb3_11ec_9fb7_002b6768739brow3_col4\" class=\"data row3 col4\" >607.280000</td>\n",
       "            </tr>\n",
       "            <tr>\n",
       "                        <th id=\"T_f5510821_4bb3_11ec_9fb7_002b6768739blevel0_row4\" class=\"row_heading level0 row4\" >4</th>\n",
       "                        <td id=\"T_f5510821_4bb3_11ec_9fb7_002b6768739brow4_col0\" class=\"data row4 col0\" >Ubisoft</td>\n",
       "                        <td id=\"T_f5510821_4bb3_11ec_9fb7_002b6768739brow4_col1\" class=\"data row4 col1\" >252.810000</td>\n",
       "                        <td id=\"T_f5510821_4bb3_11ec_9fb7_002b6768739brow4_col2\" class=\"data row4 col2\" >163.030000</td>\n",
       "                        <td id=\"T_f5510821_4bb3_11ec_9fb7_002b6768739brow4_col3\" class=\"data row4 col3\" >7.330000</td>\n",
       "                        <td id=\"T_f5510821_4bb3_11ec_9fb7_002b6768739brow4_col4\" class=\"data row4 col4\" >473.540000</td>\n",
       "            </tr>\n",
       "            <tr>\n",
       "                        <th id=\"T_f5510821_4bb3_11ec_9fb7_002b6768739blevel0_row5\" class=\"row_heading level0 row5\" >5</th>\n",
       "                        <td id=\"T_f5510821_4bb3_11ec_9fb7_002b6768739brow5_col0\" class=\"data row5 col0\" >Take-Two Interactive</td>\n",
       "                        <td id=\"T_f5510821_4bb3_11ec_9fb7_002b6768739brow5_col1\" class=\"data row5 col1\" >220.470000</td>\n",
       "                        <td id=\"T_f5510821_4bb3_11ec_9fb7_002b6768739brow5_col2\" class=\"data row5 col2\" >117.950000</td>\n",
       "                        <td id=\"T_f5510821_4bb3_11ec_9fb7_002b6768739brow5_col3\" class=\"data row5 col3\" >5.830000</td>\n",
       "                        <td id=\"T_f5510821_4bb3_11ec_9fb7_002b6768739brow5_col4\" class=\"data row5 col4\" >399.300000</td>\n",
       "            </tr>\n",
       "            <tr>\n",
       "                        <th id=\"T_f5510821_4bb3_11ec_9fb7_002b6768739blevel0_row6\" class=\"row_heading level0 row6\" >6</th>\n",
       "                        <td id=\"T_f5510821_4bb3_11ec_9fb7_002b6768739brow6_col0\" class=\"data row6 col0\" >THQ</td>\n",
       "                        <td id=\"T_f5510821_4bb3_11ec_9fb7_002b6768739brow6_col1\" class=\"data row6 col1\" >208.600000</td>\n",
       "                        <td id=\"T_f5510821_4bb3_11ec_9fb7_002b6768739brow6_col2\" class=\"data row6 col2\" >94.600000</td>\n",
       "                        <td id=\"T_f5510821_4bb3_11ec_9fb7_002b6768739brow6_col3\" class=\"data row6 col3\" >5.010000</td>\n",
       "                        <td id=\"T_f5510821_4bb3_11ec_9fb7_002b6768739brow6_col4\" class=\"data row6 col4\" >340.440000</td>\n",
       "            </tr>\n",
       "            <tr>\n",
       "                        <th id=\"T_f5510821_4bb3_11ec_9fb7_002b6768739blevel0_row7\" class=\"row_heading level0 row7\" >7</th>\n",
       "                        <td id=\"T_f5510821_4bb3_11ec_9fb7_002b6768739brow7_col0\" class=\"data row7 col0\" >Konami Digital Entertainment</td>\n",
       "                        <td id=\"T_f5510821_4bb3_11ec_9fb7_002b6768739brow7_col1\" class=\"data row7 col1\" >88.910000</td>\n",
       "                        <td id=\"T_f5510821_4bb3_11ec_9fb7_002b6768739brow7_col2\" class=\"data row7 col2\" >68.620000</td>\n",
       "                        <td id=\"T_f5510821_4bb3_11ec_9fb7_002b6768739brow7_col3\" class=\"data row7 col3\" >90.930000</td>\n",
       "                        <td id=\"T_f5510821_4bb3_11ec_9fb7_002b6768739brow7_col4\" class=\"data row7 col4\" >278.560000</td>\n",
       "            </tr>\n",
       "            <tr>\n",
       "                        <th id=\"T_f5510821_4bb3_11ec_9fb7_002b6768739blevel0_row8\" class=\"row_heading level0 row8\" >8</th>\n",
       "                        <td id=\"T_f5510821_4bb3_11ec_9fb7_002b6768739brow8_col0\" class=\"data row8 col0\" >Sega</td>\n",
       "                        <td id=\"T_f5510821_4bb3_11ec_9fb7_002b6768739brow8_col1\" class=\"data row8 col1\" >108.780000</td>\n",
       "                        <td id=\"T_f5510821_4bb3_11ec_9fb7_002b6768739brow8_col2\" class=\"data row8 col2\" >81.410000</td>\n",
       "                        <td id=\"T_f5510821_4bb3_11ec_9fb7_002b6768739brow8_col3\" class=\"data row8 col3\" >56.190000</td>\n",
       "                        <td id=\"T_f5510821_4bb3_11ec_9fb7_002b6768739brow8_col4\" class=\"data row8 col4\" >270.700000</td>\n",
       "            </tr>\n",
       "            <tr>\n",
       "                        <th id=\"T_f5510821_4bb3_11ec_9fb7_002b6768739blevel0_row9\" class=\"row_heading level0 row9\" >9</th>\n",
       "                        <td id=\"T_f5510821_4bb3_11ec_9fb7_002b6768739brow9_col0\" class=\"data row9 col0\" >Namco Bandai Games</td>\n",
       "                        <td id=\"T_f5510821_4bb3_11ec_9fb7_002b6768739brow9_col1\" class=\"data row9 col1\" >69.380000</td>\n",
       "                        <td id=\"T_f5510821_4bb3_11ec_9fb7_002b6768739brow9_col2\" class=\"data row9 col2\" >42.610000</td>\n",
       "                        <td id=\"T_f5510821_4bb3_11ec_9fb7_002b6768739brow9_col3\" class=\"data row9 col3\" >126.840000</td>\n",
       "                        <td id=\"T_f5510821_4bb3_11ec_9fb7_002b6768739brow9_col4\" class=\"data row9 col4\" >253.650000</td>\n",
       "            </tr>\n",
       "    </tbody></table>"
      ],
      "text/plain": [
       "<pandas.io.formats.style.Styler at 0x28489a92460>"
      ]
     },
     "execution_count": 50,
     "metadata": {},
     "output_type": "execute_result"
    }
   ],
   "source": [
    "publishers = vgdata[['Publisher', 'NA_Sales', 'EU_Sales', 'JP_Sales', 'Global_Sales']]\n",
    "publishers = publishers.groupby('Publisher').sum().sort_values('Global_Sales', ascending=False).reset_index(drop=False).head(10)\n",
    "publishers.style.set_properties(**{'background-color': 'lightgreen'}, subset=['Global_Sales'])  "
   ]
  },
  {
   "cell_type": "markdown",
   "metadata": {},
   "source": [
    "# 5.3 Sales per genre in four different regions "
   ]
  },
  {
   "cell_type": "code",
   "execution_count": 105,
   "metadata": {},
   "outputs": [],
   "source": [
    "genreLabel = vgdata.groupby('Genre')\n",
    "\n",
    "na_sales_by_genre = genreLabel['NA_Sales'].sum().reset_index()\n",
    "eu_sales_by_genre = genreLabel['EU_Sales'].sum().reset_index()\n",
    "jp_sales_by_genre = genreLabel['JP_Sales'].sum().reset_index()\n",
    "global_sales_by_genre = genreLabel['Global_Sales'].sum().reset_index()\n",
    "\n",
    "#data preparation \n"
   ]
  },
  {
   "cell_type": "markdown",
   "metadata": {},
   "source": [
    "By preparing data above firstly , we sorting genres appearance and regions' sales around those genres. By summing up and reset_index() function"
   ]
  },
  {
   "cell_type": "code",
   "execution_count": 106,
   "metadata": {},
   "outputs": [
    {
     "data": {
      "image/png": "[encoded data removed]",
      "text/plain": [
       "<Figure size 3000x1600 with 4 Axes>"
      ]
     },
     "metadata": {
      "needs_background": "light"
     },
     "output_type": "display_data"
    }
   ],
   "source": [
    "\n",
    "\n",
    "fig, axes = plt.subplots(2,2, figsize=(15,8), dpi=200, sharey=True)\n",
    "fig.suptitle('Sales per Genre', fontsize=20)\n",
    "\n",
    "sns.barplot(ax=axes[0][0], data=na_sales_by_genre, y='Genre', x='NA_Sales')\n",
    "sns.barplot(ax=axes[0][1], data=eu_sales_by_genre, y='Genre', x='EU_Sales')\n",
    "sns.barplot(ax=axes[1][0], data=jp_sales_by_genre, y='Genre', x='JP_Sales')\n",
    "sns.barplot(ax=axes[1][1], data=global_sales_by_genre, y='Genre', x='Global_Sales')\n",
    "plt.tight_layout()\n",
    "\n",
    "\n",
    "fontsize = 14\n",
    "labels = [['North America', 'Europe'], ['Japan', 'Global']]\n",
    "for x in range(2):\n",
    "    for y in range(2):\n",
    "        axes[x][y].set_title(labels[x][y], fontsize=fontsize)\n",
    "        axes[x][y].set_xlabel('')\n",
    "        \n",
    "#data visualisation\n"
   ]
  },
  {
   "cell_type": "markdown",
   "metadata": {},
   "source": [
    "In the visualization part I applied 2 on 2 subplot , with taking into account all of those shapes and labeling all of those graphs correctly . For titling to this graphs' names is responsible for loops that I used ."
   ]
  },
  {
   "cell_type": "markdown",
   "metadata": {},
   "source": [
    "# 5.4 Global sales per year of all games"
   ]
  },
  {
   "cell_type": "code",
   "execution_count": 99,
   "metadata": {},
   "outputs": [],
   "source": [
    "df_year = vgdata.groupby('Year').sum().reset_index(drop=False)\n",
    "\n",
    "# Plot parameters \n",
    "figsize = [20, 7]\n",
    "x = df_year['Year']\n",
    "y = df_year['Global_Sales']\n",
    "width = 0.8\n",
    "color = 'purple'\n",
    "\n",
    "#data preparation \n"
   ]
  },
  {
   "cell_type": "markdown",
   "metadata": {},
   "source": [
    "First of all apply groupby method by value 'Year' and summing up all values in the columns , so then we can extract our data for bars. X-axis is for 'Year' column , y-axis for 'Global_Sales'."
   ]
  },
  {
   "cell_type": "code",
   "execution_count": 100,
   "metadata": {},
   "outputs": [
    {
     "data": {
      "image/png": "[encoded data removed]",
      "text/plain": [
       "<Figure size 1440x504 with 1 Axes>"
      ]
     },
     "metadata": {
      "needs_background": "light"
     },
     "output_type": "display_data"
    }
   ],
   "source": [
    "plt.figure(figsize=figsize)\n",
    "bars = plt.bar(x, y, \n",
    "               width=width, \n",
    "               color=color)\n",
    "\n",
    "# Non-data objects\n",
    "plt.title('Global Sales per Year', fontdict={'fontweight':'bold', 'fontsize':20})    \n",
    "plt.xlabel('Year', fontdict={'fontsize':18, 'fontweight':'bold'})\n",
    "plt.ylabel('Dollars ($M)', fontdict={'fontsize':18, 'fontweight':'bold'})\n",
    "plt.xticks(df_year['Year'], rotation = 90)\n",
    "\n",
    "plt.show()\n",
    "\n",
    "#data visualisation\n"
   ]
  },
  {
   "cell_type": "markdown",
   "metadata": {},
   "source": [
    "In the shown bar chart are used some styling for the design of bars and its revealed 20 values of the bars , that are representing years of my dataset . As y-axis I had incomes for my years representation , where 700 is peak ."
   ]
  },
  {
   "cell_type": "markdown",
   "metadata": {},
   "source": [
    "# 5.5 Correlation table and columns' connection"
   ]
  },
  {
   "cell_type": "code",
   "execution_count": 64,
   "metadata": {},
   "outputs": [],
   "source": [
    "corrmat = vgdata.corr()\n",
    "corr_features = corrmat.index\n",
    "\n",
    "#data preparation \n"
   ]
  },
  {
   "cell_type": "code",
   "execution_count": 72,
   "metadata": {
    "scrolled": true
   },
   "outputs": [
    {
     "data": {
      "image/png": "[encoded data removed]",
      "text/plain": [
       "<Figure size 720x720 with 2 Axes>"
      ]
     },
     "metadata": {
      "needs_background": "light"
     },
     "output_type": "display_data"
    }
   ],
   "source": [
    "\n",
    "plt.figure(figsize=(10,10))\n",
    "#Plotting heat map\n",
    "g=sns.heatmap(vgdata[corr_features].corr(),annot=True,linewidths=.5)\n",
    "b, t = plt.ylim() # Finding the values for bottom and top\n",
    "b += 0.5 \n",
    "t -= 0.5 \n",
    "plt.ylim(b, t) \n",
    "plt.show() \n",
    "\n",
    "#data visualisation\n"
   ]
  },
  {
   "cell_type": "markdown",
   "metadata": {},
   "source": [
    "From following correlation table you can observe correlating values from -0.4 to 1.0 . I used here method of sns library heatmap , where the darkest colors are negative correlation and the brightest colors are positive and strong positive ones. Figure size is 10 on 10 ."
   ]
  },
  {
   "cell_type": "markdown",
   "metadata": {},
   "source": [
    "# CONCLUSION"
   ]
  },
  {
   "cell_type": "markdown",
   "metadata": {},
   "source": [
    "**So , by concluding things that we've done in the previous cells and analyzing all the result we got from coding , we can surely answer to the research questions that we had previously**"
   ]
  },
  {
   "cell_type": "markdown",
   "metadata": {},
   "source": [
    "#1\n",
    "\n",
    "**With concluding data given in dataset and finding distriubtion for genres , it became Known that the most popular genre of games among 12 genres is action , that was presented as 20% figure in chart**"
   ]
  },
  {
   "cell_type": "markdown",
   "metadata": {},
   "source": [
    "#2\n",
    "\n",
    "**Top 5 publishers(Nintendo , Microsoft Game studios , Sony computer entertainment , Electronic arts , Konami) of gaming became not so popular as they did before 2008.In their actual income in 2016 they did earn only 25 million in sum . But previously they showed results that are 10 times greater in 2006 with revenue of 270 million dollars (-245 million $)**"
   ]
  },
  {
   "cell_type": "markdown",
   "metadata": {},
   "source": [
    "#3\n",
    "\n",
    "**As you could observe from 3rd task , I created four charts that were designed for EU,JP,NA,Global and their the most popular genres . So by presented data we could obviously say that the most popular genres in those regions are following :**\n",
    "\n",
    "+ NA-Action\n",
    "\n",
    "+ EU-Action\n",
    "\n",
    "+ JP-Role-playing games\n",
    "\n",
    "+ Global-Action"
   ]
  },
  {
   "cell_type": "markdown",
   "metadata": {},
   "source": [
    "#4\n",
    "\n",
    "**In the following bar chart called 'Global sales per year' , where we did observe sales of games in different years from 1980 to 2020 , we can surely say that the most successful year of gaming sales was 2008 , where figure reached peak 680 million dollars.**"
   ]
  },
  {
   "cell_type": "markdown",
   "metadata": {},
   "source": [
    "#5\n",
    "\n",
    "**In the correlation table that we analyzed in fifth task , you can see that most of the values somehow interconnected to each other . We can divide levels of correlation as following .**\n",
    "\n",
    "+ 0.8-1.0 -   **Very strong positive (NA_sales-Global_sales, EU_sales-Global_sales)**\n",
    "\n",
    "\n",
    "+ 0.6-0.79 -  **Strong positive (other_sales-Eu_sales , global_sales-other_sales , global_sales-jp_sales , other_sales-na-sales)**\n",
    "\n",
    "\n",
    "+ 0.4-0.59 - **Positive(jp_sales-eu_sales , np_sales-jp_sales)**"
   ]
  },
  {
   "cell_type": "markdown",
   "metadata": {},
   "source": [
    "# THANK YOU FOR ATTENTION !"
   ]
  }
 ],
 "metadata": {
  "kernelspec": {
   "display_name": "Python 3",
   "language": "python",
   "name": "python3"
  },
  "language_info": {
   "codemirror_mode": {
    "name": "ipython",
    "version": 3
   },
   "file_extension": ".py",
   "mimetype": "text/x-python",
   "name": "python",
   "nbconvert_exporter": "python",
   "pygments_lexer": "ipython3",
   "version": "3.8.5"
  }
 },
 "nbformat": 4,
 "nbformat_minor": 4
}
